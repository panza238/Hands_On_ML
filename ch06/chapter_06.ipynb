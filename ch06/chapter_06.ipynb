{
 "cells": [
  {
   "cell_type": "markdown",
   "id": "7ef8a4e9-d143-4f6e-9aae-b3c102942aad",
   "metadata": {},
   "source": [
    "# Chapter 06 - Decision Trees"
   ]
  },
  {
   "cell_type": "code",
   "execution_count": 1,
   "id": "ddf559f6-9014-444a-843a-c8d462038626",
   "metadata": {},
   "outputs": [
    {
     "data": {
      "text/plain": [
       "DecisionTreeClassifier(max_depth=2)"
      ]
     },
     "execution_count": 1,
     "metadata": {},
     "output_type": "execute_result"
    }
   ],
   "source": [
    "from sklearn.datasets import load_iris\n",
    "from sklearn.tree import DecisionTreeClassifier\n",
    "\n",
    "iris = load_iris()\n",
    "X = iris.data[:, 2:] # petal length and width\n",
    "y = iris.target\n",
    "\n",
    "tree_clf = DecisionTreeClassifier(max_depth=2)\n",
    "tree_clf.fit(X, y)"
   ]
  },
  {
   "cell_type": "code",
   "execution_count": 3,
   "id": "9c97c875-4b64-4154-a0d1-98d700738996",
   "metadata": {},
   "outputs": [],
   "source": [
    "# Visualizing decision tree classifier\n",
    "from sklearn.tree import export_graphviz\n",
    "\n",
    "export_graphviz(\n",
    "        tree_clf,\n",
    "        out_file=\"iris_tree.dot\",\n",
    "        feature_names=iris.feature_names[2:],\n",
    "        class_names=iris.target_names,\n",
    "        rounded=True,\n",
    "        filled=True\n",
    "    )"
   ]
  },
  {
   "cell_type": "markdown",
   "id": "77f5b9e9-22ce-4716-a4bc-39a36e409eff",
   "metadata": {},
   "source": [
    "Esto me exporta una imagen con el árbol de decisión y me muestra exactamente cómo toma las decisiones"
   ]
  },
  {
   "cell_type": "markdown",
   "id": "f7b2dd88-8291-4123-84b9-70b6dfd2499e",
   "metadata": {},
   "source": [
    "### Predictions with Decision Trees"
   ]
  },
  {
   "cell_type": "code",
   "execution_count": 4,
   "id": "07a1dc65-9719-47e4-ae31-c4b247a468bf",
   "metadata": {},
   "outputs": [
    {
     "data": {
      "text/plain": [
       "array([[0.        , 0.90740741, 0.09259259]])"
      ]
     },
     "execution_count": 4,
     "metadata": {},
     "output_type": "execute_result"
    }
   ],
   "source": [
    "tree_clf.predict_proba([[5, 1.5]])"
   ]
  },
  {
   "cell_type": "code",
   "execution_count": 5,
   "id": "e8c8468b-48de-4f22-a52a-b516501f0b53",
   "metadata": {},
   "outputs": [
    {
     "data": {
      "text/plain": [
       "array([1])"
      ]
     },
     "execution_count": 5,
     "metadata": {},
     "output_type": "execute_result"
    }
   ],
   "source": [
    "tree_clf.predict([[5, 1.5]])"
   ]
  },
  {
   "cell_type": "markdown",
   "id": "73b28a5a-bf7e-49b5-ba71-7cc636361669",
   "metadata": {},
   "source": [
    "#### El decision tree me da la probabilidad de que una instancia pertenezca a una determinada clase, y, como todos, predice la clase con la probabilidad más alta"
   ]
  }
 ],
 "metadata": {
  "kernelspec": {
   "display_name": "ho_ml_kernel",
   "language": "python",
   "name": "ho_ml_kernel"
  },
  "language_info": {
   "codemirror_mode": {
    "name": "ipython",
    "version": 3
   },
   "file_extension": ".py",
   "mimetype": "text/x-python",
   "name": "python",
   "nbconvert_exporter": "python",
   "pygments_lexer": "ipython3",
   "version": "3.8.5"
  }
 },
 "nbformat": 4,
 "nbformat_minor": 5
}
