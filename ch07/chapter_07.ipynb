{
 "cells": [
  {
   "cell_type": "markdown",
   "id": "01c1f945-e193-44b4-8754-8e24810c28b9",
   "metadata": {},
   "source": [
    "# Chapter 07 - Ensemble Learning "
   ]
  },
  {
   "cell_type": "markdown",
   "id": "3cca465f-7102-4c07-9661-b57783e0466a",
   "metadata": {},
   "source": [
    "## Voting Classifiers\n",
    "Muchos algoritmos (idealmente, que cometen errores distintos.) que predicen sobre una misma instancia. El output del Voting Classifier es la instancia más votada}"
   ]
  },
  {
   "cell_type": "code",
   "execution_count": 10,
   "id": "693039f7-3858-42cf-95f1-7d73b056bbd8",
   "metadata": {},
   "outputs": [],
   "source": [
    "from sklearn.datasets import make_moons\n",
    "from sklearn.model_selection import train_test_split\n",
    "\n",
    "X, y = make_moons(n_samples=1000, noise=0.2)\n",
    "X_train, X_test, y_train, y_test = train_test_split(X, y, test_size=0.2)"
   ]
  },
  {
   "cell_type": "code",
   "execution_count": 11,
   "id": "d1f2adb7-a591-4bfa-a5d0-6f254a8929fc",
   "metadata": {},
   "outputs": [
    {
     "data": {
      "text/plain": [
       "VotingClassifier(estimators=[('lr', LogisticRegression()),\n",
       "                             ('rf', RandomForestClassifier()), ('svc', SVC())])"
      ]
     },
     "execution_count": 11,
     "metadata": {},
     "output_type": "execute_result"
    }
   ],
   "source": [
    "from sklearn.ensemble import RandomForestClassifier\n",
    "from sklearn.ensemble import VotingClassifier\n",
    "from sklearn.linear_model import LogisticRegression\n",
    "from sklearn.svm import SVC\n",
    "\n",
    "log_clf = LogisticRegression()\n",
    "rnd_clf = RandomForestClassifier()\n",
    "svm_clf = SVC()\n",
    "voting_clf = VotingClassifier(\n",
    "estimators=[('lr', log_clf), ('rf', rnd_clf), ('svc', svm_clf)],\n",
    "voting='hard')\n",
    "voting_clf.fit(X_train, y_train)"
   ]
  },
  {
   "cell_type": "code",
   "execution_count": 12,
   "id": "cf6b41fc-8d03-46bb-9d99-78abeac8792a",
   "metadata": {},
   "outputs": [
    {
     "name": "stdout",
     "output_type": "stream",
     "text": [
      "LogisticRegression 0.88\n",
      "RandomForestClassifier 0.955\n",
      "SVC 0.965\n",
      "VotingClassifier 0.96\n"
     ]
    }
   ],
   "source": [
    "from sklearn.metrics import accuracy_score\n",
    "\n",
    "for clf in (log_clf, rnd_clf, svm_clf, voting_clf):\n",
    "    clf.fit(X_train, y_train)\n",
    "    y_pred = clf.predict(X_test)\n",
    "    print(clf.__class__.__name__, accuracy_score(y_test, y_pred))"
   ]
  },
  {
   "cell_type": "markdown",
   "id": "3a59c7d2-ca8b-4981-8a2e-8506031db9e4",
   "metadata": {},
   "source": [
    "#### Bueno... no se ve tanto acá. Pero en el libro se ve que el VotingClassifier funciona mejor que cada uno de los clasificadores independientes."
   ]
  },
  {
   "cell_type": "markdown",
   "id": "80fbf11b-58ba-4fde-aa49-07c519f4f4f7",
   "metadata": {},
   "source": [
    "## Bagging Classifier - _Bootsrap Aggregating Classifiers_\n",
    "Básicamente, entrenan el mismo algoritmo con diferentes subsets del training set: bagging = Con reposición. pasting = Sin reposición."
   ]
  },
  {
   "cell_type": "code",
   "execution_count": 13,
   "id": "6fecf4b0-ef82-4591-b751-982db49734a2",
   "metadata": {},
   "outputs": [],
   "source": [
    "from sklearn.ensemble import BaggingClassifier\n",
    "from sklearn.tree import DecisionTreeClassifier\n",
    "\n",
    "bag_clf = BaggingClassifier(\n",
    "    DecisionTreeClassifier(), n_estimators=500,\n",
    "    max_samples=100, bootstrap=True, n_jobs=-1)\n",
    "bag_clf.fit(X_train, y_train)\n",
    "y_pred = bag_clf.predict(X_test)"
   ]
  },
  {
   "cell_type": "code",
   "execution_count": 14,
   "id": "a3edb121-ccdf-478e-b6f5-510a65785cb9",
   "metadata": {},
   "outputs": [
    {
     "data": {
      "text/plain": [
       "0.96"
      ]
     },
     "execution_count": 14,
     "metadata": {},
     "output_type": "execute_result"
    }
   ],
   "source": [
    "accuracy_score(y_test, y_pred)"
   ]
  },
  {
   "cell_type": "markdown",
   "id": "6e1d5cf6-d6a8-4a98-a835-b019bab74859",
   "metadata": {},
   "source": [
    "Ok... 96%... not bad"
   ]
  },
  {
   "cell_type": "code",
   "execution_count": 15,
   "id": "b5d955d0-b91b-435e-872b-ccf04e4190c4",
   "metadata": {},
   "outputs": [],
   "source": [
    "# Out-of-bag (oob) evaluation\n",
    "bag_clf = BaggingClassifier(\n",
    "    DecisionTreeClassifier(), n_estimators=500,\n",
    "    max_samples=100, bootstrap=True, n_jobs=-1,\n",
    "    oob_score=True  # Setteo oob=True\n",
    ")  "
   ]
  },
  {
   "cell_type": "code",
   "execution_count": 16,
   "id": "22824967-2e0d-4b59-acd3-0a26b89a0efe",
   "metadata": {},
   "outputs": [
    {
     "data": {
      "text/plain": [
       "BaggingClassifier(base_estimator=DecisionTreeClassifier(), max_samples=100,\n",
       "                  n_estimators=500, n_jobs=-1, oob_score=True)"
      ]
     },
     "execution_count": 16,
     "metadata": {},
     "output_type": "execute_result"
    }
   ],
   "source": [
    "bag_clf.fit(X_train, y_train)"
   ]
  },
  {
   "cell_type": "code",
   "execution_count": 17,
   "id": "7c9d8785-b6c9-4742-9bbe-ce8894739bd8",
   "metadata": {},
   "outputs": [
    {
     "data": {
      "text/plain": [
       "0.95625"
      ]
     },
     "execution_count": 17,
     "metadata": {},
     "output_type": "execute_result"
    }
   ],
   "source": [
    "bag_clf.oob_score_"
   ]
  },
  {
   "cell_type": "markdown",
   "id": "7200864c-27e1-411e-8905-58040e434cad",
   "metadata": {},
   "source": [
    "## Random Forests"
   ]
  },
  {
   "cell_type": "code",
   "execution_count": 18,
   "id": "1b3f74fb-1c63-498d-a9a0-ff30e4c60e43",
   "metadata": {},
   "outputs": [],
   "source": [
    "from sklearn.ensemble import RandomForestClassifier"
   ]
  },
  {
   "cell_type": "markdown",
   "id": "e9ba69c1-87a4-4bab-83cd-df55e79c5bd8",
   "metadata": {},
   "source": [
    "It is equivalent to use Bagging Classifier with Decision Tree Classifier"
   ]
  },
  {
   "cell_type": "code",
   "execution_count": 19,
   "id": "595a79e9-2996-4bb1-8630-a1368f2269d5",
   "metadata": {},
   "outputs": [
    {
     "name": "stdout",
     "output_type": "stream",
     "text": [
      "sepal length (cm) 0.09566920207017698\n",
      "sepal width (cm) 0.024677179297487993\n",
      "petal length (cm) 0.42546989227725096\n",
      "petal width (cm) 0.454183726355084\n"
     ]
    }
   ],
   "source": [
    "# Also, they show feature importance\n",
    "from sklearn.datasets import load_iris\n",
    "iris = load_iris()\n",
    "\n",
    "rf_clf = RandomForestClassifier(n_estimators=500, n_jobs=-1)\n",
    "rf_clf.fit(iris[\"data\"], iris[\"target\"])\n",
    "\n",
    "for name, score in zip(iris[\"feature_names\"], rf_clf.feature_importances_):\n",
    "    print(name, score)"
   ]
  },
  {
   "cell_type": "markdown",
   "id": "e07a95aa-e008-41e2-93ab-ee729f173239",
   "metadata": {},
   "source": [
    "OK. Seems that petal width is the most important feature in this dataset"
   ]
  },
  {
   "cell_type": "code",
   "execution_count": null,
   "id": "5f5109a4-c8bb-4f73-a2c8-6b2c1d46dc6e",
   "metadata": {},
   "outputs": [],
   "source": []
  }
 ],
 "metadata": {
  "kernelspec": {
   "display_name": "ho_ml_kernel",
   "language": "python",
   "name": "ho_ml_kernel"
  },
  "language_info": {
   "codemirror_mode": {
    "name": "ipython",
    "version": 3
   },
   "file_extension": ".py",
   "mimetype": "text/x-python",
   "name": "python",
   "nbconvert_exporter": "python",
   "pygments_lexer": "ipython3",
   "version": "3.8.5"
  }
 },
 "nbformat": 4,
 "nbformat_minor": 5
}
