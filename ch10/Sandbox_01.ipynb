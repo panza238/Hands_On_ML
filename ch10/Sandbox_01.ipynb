{
 "cells": [
  {
   "cell_type": "code",
   "execution_count": 1,
   "id": "3e67cfc3-70e1-4757-9e42-d3bb83f65b48",
   "metadata": {},
   "outputs": [],
   "source": [
    "import tensorflow as tf\n",
    "import tensorflow.keras as keras"
   ]
  },
  {
   "cell_type": "code",
   "execution_count": 2,
   "id": "1c655f77-b6ec-44a7-8ce6-f4b3d1006282",
   "metadata": {},
   "outputs": [
    {
     "name": "stdout",
     "output_type": "stream",
     "text": [
      "2.4.1\n",
      "2.4.0\n",
      "(60000, 28, 28)\n",
      "uint8\n"
     ]
    }
   ],
   "source": [
    "print(tf.__version__)\n",
    "print(keras.__version__)\n",
    "\n",
    "fashion_mnist = keras.datasets.fashion_mnist\n",
    "(X_train_full, y_train_full), (X_test, y_test) = fashion_mnist.load_data()\n",
    "print(X_train_full.shape)  # OK. Esto devuelve (60000, 28, 28) ==> 60000 imágenes de 28 pixels por 28 pixels.\n",
    "print(X_train_full.dtype)  # 8 bit unsigned integer "
   ]
  },
  {
   "cell_type": "code",
   "execution_count": 3,
   "id": "ce9d4dcd-61c1-4a91-9a48-9b3d4360e61a",
   "metadata": {},
   "outputs": [],
   "source": [
    "# Separo en training y validation. Me dejo un 10% del training para validation (5000 registros)\n",
    "X_valid, X_train = X_train_full[:5000] / 255.0, X_train_full[5000:] / 255.0\n",
    "# Estoy dividiendo por 255.0 para normalizar y, de paso, convertirlo en float.\n",
    "y_valid, y_train = y_train_full[:5000], y_train_full[5000:]"
   ]
  },
  {
   "cell_type": "code",
   "execution_count": 5,
   "id": "ce415b60-3336-41f5-ac67-b7f4423f8f62",
   "metadata": {},
   "outputs": [
    {
     "data": {
      "text/plain": [
       "10"
      ]
     },
     "execution_count": 5,
     "metadata": {},
     "output_type": "execute_result"
    }
   ],
   "source": [
    "class_names = [\"T-shirt/top\", \"Trouser\", \"Pullover\", \"Dress\", \"Coat\",\n",
    "\"Sandal\", \"Shirt\", \"Sneaker\", \"Bag\", \"Ankle boot\"]\n",
    "len(class_names)"
   ]
  },
  {
   "cell_type": "markdown",
   "id": "d5fafaa6-7522-4c40-8426-14d57b5fa821",
   "metadata": {},
   "source": [
    "Tengo 10 clases distintas. Esto es una multi-class classification. "
   ]
  },
  {
   "cell_type": "code",
   "execution_count": 6,
   "id": "ffa7b7ad-d364-48d3-b5c6-1f3df0be30cd",
   "metadata": {},
   "outputs": [
    {
     "data": {
      "text/plain": [
       "'Coat'"
      ]
     },
     "execution_count": 6,
     "metadata": {},
     "output_type": "execute_result"
    }
   ],
   "source": [
    "class_names[y_train[0]]"
   ]
  },
  {
   "cell_type": "markdown",
   "id": "4905b874-1dc1-4d10-8d22-3d83e20f9e5e",
   "metadata": {},
   "source": [
    "#### OK. Ahora a crear la red neuronal"
   ]
  },
  {
   "cell_type": "code",
   "execution_count": null,
   "id": "b0e85725-2a7a-442c-ae31-a2ad680dab65",
   "metadata": {},
   "outputs": [],
   "source": [
    "# Acá empieza la magia\n",
    "model = keras.model.Sequential()  ## Creo el modelo. Va a ser una instancia de la clase Sequential. Lo creo con los parameters por default.\n",
    "model.add(keras.layers.Flatten(input_shape=[28, 28]))  ## .add() es un método de la clase sequential. Es decir, que va a modificar algo en el objeto que acabo de crear (para pensar en términos de OOP)\n",
    "# En esta línea se aplana la entrada. Se pasan de imágenes de 28x28 a un array de 1-D de 784.\n"
   ]
  }
 ],
 "metadata": {
  "kernelspec": {
   "display_name": "ho_ml_kernel",
   "language": "python",
   "name": "ho_ml_kernel"
  },
  "language_info": {
   "codemirror_mode": {
    "name": "ipython",
    "version": 3
   },
   "file_extension": ".py",
   "mimetype": "text/x-python",
   "name": "python",
   "nbconvert_exporter": "python",
   "pygments_lexer": "ipython3",
   "version": "3.8.5"
  }
 },
 "nbformat": 4,
 "nbformat_minor": 5
}
