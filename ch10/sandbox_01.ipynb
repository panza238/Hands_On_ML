{
 "cells": [
  {
   "cell_type": "code",
   "execution_count": 1,
   "id": "3e67cfc3-70e1-4757-9e42-d3bb83f65b48",
   "metadata": {},
   "outputs": [],
   "source": [
    "import tensorflow as tf\n",
    "import tensorflow.keras as keras"
   ]
  },
  {
   "cell_type": "code",
   "execution_count": 2,
   "id": "1c655f77-b6ec-44a7-8ce6-f4b3d1006282",
   "metadata": {},
   "outputs": [
    {
     "name": "stdout",
     "output_type": "stream",
     "text": [
      "2.4.1\n",
      "2.4.0\n",
      "(60000, 28, 28)\n",
      "uint8\n"
     ]
    }
   ],
   "source": [
    "print(tf.__version__)\n",
    "print(keras.__version__)\n",
    "\n",
    "fashion_mnist = keras.datasets.fashion_mnist\n",
    "(X_train_full, y_train_full), (X_test, y_test) = fashion_mnist.load_data()\n",
    "print(X_train_full.shape)  # OK. Esto devuelve (60000, 28, 28) ==> 60000 imágenes de 28 pixels por 28 pixels.\n",
    "print(X_train_full.dtype)  # 8 bit unsigned integer "
   ]
  },
  {
   "cell_type": "code",
   "execution_count": 3,
   "id": "ce9d4dcd-61c1-4a91-9a48-9b3d4360e61a",
   "metadata": {},
   "outputs": [],
   "source": [
    "# Separo en training y validation. Me dejo un 10% del training para validation (5000 registros)\n",
    "X_valid, X_train = X_train_full[:5000] / 255.0, X_train_full[5000:] / 255.0\n",
    "# Estoy dividiendo por 255.0 para normalizar y, de paso, convertirlo en float.\n",
    "y_valid, y_train = y_train_full[:5000], y_train_full[5000:]"
   ]
  },
  {
   "cell_type": "code",
   "execution_count": 4,
   "id": "ce415b60-3336-41f5-ac67-b7f4423f8f62",
   "metadata": {},
   "outputs": [
    {
     "data": {
      "text/plain": [
       "10"
      ]
     },
     "execution_count": 4,
     "metadata": {},
     "output_type": "execute_result"
    }
   ],
   "source": [
    "class_names = [\"T-shirt/top\", \"Trouser\", \"Pullover\", \"Dress\", \"Coat\",\n",
    "\"Sandal\", \"Shirt\", \"Sneaker\", \"Bag\", \"Ankle boot\"]\n",
    "len(class_names)"
   ]
  },
  {
   "cell_type": "markdown",
   "id": "d5fafaa6-7522-4c40-8426-14d57b5fa821",
   "metadata": {},
   "source": [
    "Tengo 10 clases distintas. Esto es una multi-class classification. "
   ]
  },
  {
   "cell_type": "code",
   "execution_count": 5,
   "id": "ffa7b7ad-d364-48d3-b5c6-1f3df0be30cd",
   "metadata": {},
   "outputs": [
    {
     "data": {
      "text/plain": [
       "'Coat'"
      ]
     },
     "execution_count": 5,
     "metadata": {},
     "output_type": "execute_result"
    }
   ],
   "source": [
    "class_names[y_train[0]]"
   ]
  },
  {
   "cell_type": "markdown",
   "id": "4905b874-1dc1-4d10-8d22-3d83e20f9e5e",
   "metadata": {},
   "source": [
    "#### OK. Ahora a crear la red neuronal"
   ]
  },
  {
   "cell_type": "code",
   "execution_count": 7,
   "id": "b0e85725-2a7a-442c-ae31-a2ad680dab65",
   "metadata": {},
   "outputs": [],
   "source": [
    "# Acá empieza la magia\n",
    "model = keras.models.Sequential()  ## Creo el modelo. Va a ser una instancia de la clase Sequential. Lo creo con los parameters por default.\n",
    "model.add(keras.layers.Flatten(input_shape=[28, 28]))  ## .add() es un método de la clase sequential. Es decir, que va a modificar algo en el objeto que acabo de crear (para pensar en términos de OOP)\n",
    "# En esta línea se aplana la entrada. Se pasan de imágenes de 28x28 a un array de 1-D de 784.\n",
    "model.add(keras.layers.Dense(300, activation=\"relu\"))  ## Acá creo la primera capad de mi ANN.\n",
    "# Recordar que una \"Dense\" es una layer cuyos outputs están todos conectados a los inputs de la siguiente layer. \n",
    "# Repaso de terminología. \n",
    "# Perceptron --> Layer de TLUs. TLU (threshold logic unit)--> n inputs, 1 output (\"neurona\"). Dense Layer --> TODOS los outputs de la layer anterior, conectados a TODOS los inputs de la layer actual.\n",
    "# La función de activación de esto es la \"relu\" rectified linear unit. (lineal del para valores positivos. 0 para valores negativos)\n",
    "model.add(keras.layers.Dense(100, activation=\"relu\"))\n",
    "model.add(keras.layers.Dense(10, activation=\"softmax\"))"
   ]
  },
  {
   "cell_type": "code",
   "execution_count": 8,
   "id": "a6cfc06d-1c88-4f84-837d-e7a37e5f461a",
   "metadata": {},
   "outputs": [
    {
     "name": "stdout",
     "output_type": "stream",
     "text": [
      "Epoch 1/30\n",
      "1719/1719 [==============================] - 1s 735us/step - loss: 0.9966 - sparse_categorical_accuracy: 0.6832 - val_loss: 0.5049 - val_sparse_categorical_accuracy: 0.8336\n",
      "Epoch 2/30\n",
      "1719/1719 [==============================] - 1s 678us/step - loss: 0.5033 - sparse_categorical_accuracy: 0.8249 - val_loss: 0.4694 - val_sparse_categorical_accuracy: 0.8384\n",
      "Epoch 3/30\n",
      "1719/1719 [==============================] - 1s 696us/step - loss: 0.4541 - sparse_categorical_accuracy: 0.8418 - val_loss: 0.4077 - val_sparse_categorical_accuracy: 0.8656\n",
      "Epoch 4/30\n",
      "1719/1719 [==============================] - 1s 679us/step - loss: 0.4263 - sparse_categorical_accuracy: 0.8515 - val_loss: 0.4429 - val_sparse_categorical_accuracy: 0.8462\n",
      "Epoch 5/30\n",
      "1719/1719 [==============================] - 1s 690us/step - loss: 0.3970 - sparse_categorical_accuracy: 0.8603 - val_loss: 0.4015 - val_sparse_categorical_accuracy: 0.8588\n",
      "Epoch 6/30\n",
      "1719/1719 [==============================] - 1s 677us/step - loss: 0.3838 - sparse_categorical_accuracy: 0.8640 - val_loss: 0.3735 - val_sparse_categorical_accuracy: 0.8706\n",
      "Epoch 7/30\n",
      "1719/1719 [==============================] - 1s 675us/step - loss: 0.3663 - sparse_categorical_accuracy: 0.8724 - val_loss: 0.3659 - val_sparse_categorical_accuracy: 0.8726\n",
      "Epoch 8/30\n",
      "1719/1719 [==============================] - 1s 671us/step - loss: 0.3536 - sparse_categorical_accuracy: 0.8755 - val_loss: 0.3489 - val_sparse_categorical_accuracy: 0.8778\n",
      "Epoch 9/30\n",
      "1719/1719 [==============================] - 1s 673us/step - loss: 0.3408 - sparse_categorical_accuracy: 0.8803 - val_loss: 0.3831 - val_sparse_categorical_accuracy: 0.8664\n",
      "Epoch 10/30\n",
      "1719/1719 [==============================] - 1s 676us/step - loss: 0.3326 - sparse_categorical_accuracy: 0.8818 - val_loss: 0.3551 - val_sparse_categorical_accuracy: 0.8716\n",
      "Epoch 11/30\n",
      "1719/1719 [==============================] - 1s 678us/step - loss: 0.3224 - sparse_categorical_accuracy: 0.8845 - val_loss: 0.3626 - val_sparse_categorical_accuracy: 0.8742\n",
      "Epoch 12/30\n",
      "1719/1719 [==============================] - 1s 677us/step - loss: 0.3182 - sparse_categorical_accuracy: 0.8881 - val_loss: 0.3415 - val_sparse_categorical_accuracy: 0.8812\n",
      "Epoch 13/30\n",
      "1719/1719 [==============================] - 1s 676us/step - loss: 0.3077 - sparse_categorical_accuracy: 0.8897 - val_loss: 0.3295 - val_sparse_categorical_accuracy: 0.8840\n",
      "Epoch 14/30\n",
      "1719/1719 [==============================] - 1s 675us/step - loss: 0.3022 - sparse_categorical_accuracy: 0.8898 - val_loss: 0.3196 - val_sparse_categorical_accuracy: 0.8878\n",
      "Epoch 15/30\n",
      "1719/1719 [==============================] - 1s 678us/step - loss: 0.2984 - sparse_categorical_accuracy: 0.8927 - val_loss: 0.3355 - val_sparse_categorical_accuracy: 0.8792\n",
      "Epoch 16/30\n",
      "1719/1719 [==============================] - 1s 682us/step - loss: 0.2916 - sparse_categorical_accuracy: 0.8945 - val_loss: 0.3156 - val_sparse_categorical_accuracy: 0.8882\n",
      "Epoch 17/30\n",
      "1719/1719 [==============================] - 1s 694us/step - loss: 0.2836 - sparse_categorical_accuracy: 0.8984 - val_loss: 0.3275 - val_sparse_categorical_accuracy: 0.8812\n",
      "Epoch 18/30\n",
      "1719/1719 [==============================] - 1s 676us/step - loss: 0.2808 - sparse_categorical_accuracy: 0.8999 - val_loss: 0.3165 - val_sparse_categorical_accuracy: 0.8898\n",
      "Epoch 19/30\n",
      "1719/1719 [==============================] - 1s 686us/step - loss: 0.2742 - sparse_categorical_accuracy: 0.9012 - val_loss: 0.3198 - val_sparse_categorical_accuracy: 0.8866\n",
      "Epoch 20/30\n",
      "1719/1719 [==============================] - 1s 684us/step - loss: 0.2663 - sparse_categorical_accuracy: 0.9028 - val_loss: 0.3236 - val_sparse_categorical_accuracy: 0.8850\n",
      "Epoch 21/30\n",
      "1719/1719 [==============================] - 1s 677us/step - loss: 0.2662 - sparse_categorical_accuracy: 0.9040 - val_loss: 0.3174 - val_sparse_categorical_accuracy: 0.8856\n",
      "Epoch 22/30\n",
      "1719/1719 [==============================] - 1s 674us/step - loss: 0.2590 - sparse_categorical_accuracy: 0.9065 - val_loss: 0.3087 - val_sparse_categorical_accuracy: 0.8910\n",
      "Epoch 23/30\n",
      "1719/1719 [==============================] - 1s 684us/step - loss: 0.2508 - sparse_categorical_accuracy: 0.9088 - val_loss: 0.3076 - val_sparse_categorical_accuracy: 0.8922\n",
      "Epoch 24/30\n",
      "1719/1719 [==============================] - 1s 680us/step - loss: 0.2526 - sparse_categorical_accuracy: 0.9093 - val_loss: 0.2920 - val_sparse_categorical_accuracy: 0.8970\n",
      "Epoch 25/30\n",
      "1719/1719 [==============================] - 1s 695us/step - loss: 0.2421 - sparse_categorical_accuracy: 0.9132 - val_loss: 0.3002 - val_sparse_categorical_accuracy: 0.8934\n",
      "Epoch 26/30\n",
      "1719/1719 [==============================] - 1s 692us/step - loss: 0.2392 - sparse_categorical_accuracy: 0.9139 - val_loss: 0.3076 - val_sparse_categorical_accuracy: 0.8902\n",
      "Epoch 27/30\n",
      "1719/1719 [==============================] - 1s 678us/step - loss: 0.2476 - sparse_categorical_accuracy: 0.9111 - val_loss: 0.3065 - val_sparse_categorical_accuracy: 0.8934\n",
      "Epoch 28/30\n",
      "1719/1719 [==============================] - 1s 682us/step - loss: 0.2305 - sparse_categorical_accuracy: 0.9170 - val_loss: 0.3176 - val_sparse_categorical_accuracy: 0.8870\n",
      "Epoch 29/30\n",
      "1719/1719 [==============================] - 1s 681us/step - loss: 0.2297 - sparse_categorical_accuracy: 0.9179 - val_loss: 0.2966 - val_sparse_categorical_accuracy: 0.8978\n",
      "Epoch 30/30\n",
      "1719/1719 [==============================] - 1s 696us/step - loss: 0.2286 - sparse_categorical_accuracy: 0.9189 - val_loss: 0.3024 - val_sparse_categorical_accuracy: 0.8968\n"
     ]
    }
   ],
   "source": [
    "# COMPILANDO EL MODELO:\n",
    "model.compile(\n",
    "    loss=keras.metrics.sparse_categorical_crossentropy,\n",
    "    optimizer=keras.optimizers.SGD(),\n",
    "    metrics=[keras.metrics.sparse_categorical_accuracy]\n",
    ")  # Compilo el modelo. Defino la loss function, el método de optimización, y qué métrica quiero usar. \n",
    "# lo de sparse categorical es porque tengo labels definidos (un número del 0 al 9). Si esto estuviera encoded, por ejemplo, (cada target es un vector con todo 0 y un 1 en la posición correspondiente a ese target), no pondría sparse. Sería únicamente categorical.\n",
    "\n",
    "# FITTEANDO EL MODELO (igual que sci-kit)\n",
    "history = model.fit(\n",
    "    x=X_train, y=y_train, epochs=30,\n",
    "    validation_data=(X_valid, y_valid)\n",
    ")"
   ]
  },
  {
   "cell_type": "markdown",
   "id": "02276bbe-f6f7-4429-9f14-03a6c0f5c96b",
   "metadata": {},
   "source": [
    "Joya. Tenemos un modelo funcionando con un 92% de accuracy sobre la training data y 89% de accuracy sobre la validation data. "
   ]
  },
  {
   "cell_type": "code",
   "execution_count": 9,
   "id": "58c167c1-b459-4d68-8d29-5d325a4ac0f7",
   "metadata": {},
   "outputs": [
    {
     "name": "stdout",
     "output_type": "stream",
     "text": [
      "History params: {'verbose': 1, 'epochs': 30, 'steps': 1719}\n",
      "History values {'loss': [0.7246980667114258, 0.49068930745124817, 0.44490423798561096, 0.41664257645606995, 0.3961452841758728, 0.37946760654449463, 0.36552658677101135, 0.35479122400283813, 0.3436741232872009, 0.33359968662261963, 0.3261985182762146, 0.3179590106010437, 0.31012049317359924, 0.3028598129749298, 0.29669642448425293, 0.2914673388004303, 0.28429725766181946, 0.27887433767318726, 0.27367502450942993, 0.2693606913089752, 0.26471391320228577, 0.2585376799106598, 0.25532013177871704, 0.249792218208313, 0.2453540414571762, 0.24249690771102905, 0.23711563646793365, 0.23390723764896393, 0.2302909940481186, 0.2269698679447174], 'sparse_categorical_accuracy': [0.7611091136932373, 0.8298545479774475, 0.8447999954223633, 0.8548363447189331, 0.8604363799095154, 0.8669818043708801, 0.8728181719779968, 0.8750545382499695, 0.878563642501831, 0.8814363479614258, 0.8836727142333984, 0.8868908882141113, 0.8888182044029236, 0.890999972820282, 0.8935272693634033, 0.8948181867599487, 0.8968726992607117, 0.8995272517204285, 0.90138179063797, 0.9027636647224426, 0.9043454527854919, 0.9069091081619263, 0.908018171787262, 0.9106363654136658, 0.9114363789558411, 0.9126726984977722, 0.9154727458953857, 0.9156727194786072, 0.9173818230628967, 0.9182363748550415], 'val_loss': [0.5049058794975281, 0.46937230229377747, 0.40768787264823914, 0.44289106130599976, 0.4014650285243988, 0.3735463619232178, 0.36592191457748413, 0.348947674036026, 0.3830726742744446, 0.35514959692955017, 0.36262601613998413, 0.34145358204841614, 0.3295038938522339, 0.3195989429950714, 0.33554938435554504, 0.3156227767467499, 0.32753294706344604, 0.3164588510990143, 0.3198290169239044, 0.32355695962905884, 0.3173582851886749, 0.3087279498577118, 0.30759456753730774, 0.2920006513595581, 0.30020225048065186, 0.3075912594795227, 0.3064900040626526, 0.317632794380188, 0.2965734899044037, 0.3023541569709778], 'val_sparse_categorical_accuracy': [0.8335999846458435, 0.8384000062942505, 0.8655999898910522, 0.8461999893188477, 0.8587999939918518, 0.8705999851226807, 0.8726000189781189, 0.8777999877929688, 0.8664000034332275, 0.8715999722480774, 0.8741999864578247, 0.8812000155448914, 0.8840000033378601, 0.8877999782562256, 0.8791999816894531, 0.8881999850273132, 0.8812000155448914, 0.8898000121116638, 0.8866000175476074, 0.8849999904632568, 0.8855999708175659, 0.890999972820282, 0.8921999931335449, 0.8970000147819519, 0.8934000134468079, 0.8902000188827515, 0.8934000134468079, 0.8870000243186951, 0.8978000283241272, 0.8967999815940857]}\n"
     ]
    }
   ],
   "source": [
    "print(\"History params:\", history.params)\n",
    "print(\"History values\", history.history)\n"
   ]
  },
  {
   "cell_type": "code",
   "execution_count": 12,
   "id": "b645fb30-ca8b-40d3-ae41-c704b5da7f74",
   "metadata": {},
   "outputs": [],
   "source": [
    "import pandas as pd\n",
    "import matplotlib.pyplot as plt"
   ]
  },
  {
   "cell_type": "code",
   "execution_count": 15,
   "id": "81f9048f-6401-4f0b-81eb-3568d1aae35f",
   "metadata": {},
   "outputs": [
    {
     "data": {
      "text/html": [
       "<div>\n",
       "<style scoped>\n",
       "    .dataframe tbody tr th:only-of-type {\n",
       "        vertical-align: middle;\n",
       "    }\n",
       "\n",
       "    .dataframe tbody tr th {\n",
       "        vertical-align: top;\n",
       "    }\n",
       "\n",
       "    .dataframe thead th {\n",
       "        text-align: right;\n",
       "    }\n",
       "</style>\n",
       "<table border=\"1\" class=\"dataframe\">\n",
       "  <thead>\n",
       "    <tr style=\"text-align: right;\">\n",
       "      <th></th>\n",
       "      <th>loss</th>\n",
       "      <th>sparse_categorical_accuracy</th>\n",
       "      <th>val_loss</th>\n",
       "      <th>val_sparse_categorical_accuracy</th>\n",
       "    </tr>\n",
       "  </thead>\n",
       "  <tbody>\n",
       "    <tr>\n",
       "      <th>0</th>\n",
       "      <td>0.724698</td>\n",
       "      <td>0.761109</td>\n",
       "      <td>0.504906</td>\n",
       "      <td>0.8336</td>\n",
       "    </tr>\n",
       "    <tr>\n",
       "      <th>1</th>\n",
       "      <td>0.490689</td>\n",
       "      <td>0.829855</td>\n",
       "      <td>0.469372</td>\n",
       "      <td>0.8384</td>\n",
       "    </tr>\n",
       "    <tr>\n",
       "      <th>2</th>\n",
       "      <td>0.444904</td>\n",
       "      <td>0.844800</td>\n",
       "      <td>0.407688</td>\n",
       "      <td>0.8656</td>\n",
       "    </tr>\n",
       "    <tr>\n",
       "      <th>3</th>\n",
       "      <td>0.416643</td>\n",
       "      <td>0.854836</td>\n",
       "      <td>0.442891</td>\n",
       "      <td>0.8462</td>\n",
       "    </tr>\n",
       "    <tr>\n",
       "      <th>4</th>\n",
       "      <td>0.396145</td>\n",
       "      <td>0.860436</td>\n",
       "      <td>0.401465</td>\n",
       "      <td>0.8588</td>\n",
       "    </tr>\n",
       "    <tr>\n",
       "      <th>5</th>\n",
       "      <td>0.379468</td>\n",
       "      <td>0.866982</td>\n",
       "      <td>0.373546</td>\n",
       "      <td>0.8706</td>\n",
       "    </tr>\n",
       "    <tr>\n",
       "      <th>6</th>\n",
       "      <td>0.365527</td>\n",
       "      <td>0.872818</td>\n",
       "      <td>0.365922</td>\n",
       "      <td>0.8726</td>\n",
       "    </tr>\n",
       "    <tr>\n",
       "      <th>7</th>\n",
       "      <td>0.354791</td>\n",
       "      <td>0.875055</td>\n",
       "      <td>0.348948</td>\n",
       "      <td>0.8778</td>\n",
       "    </tr>\n",
       "    <tr>\n",
       "      <th>8</th>\n",
       "      <td>0.343674</td>\n",
       "      <td>0.878564</td>\n",
       "      <td>0.383073</td>\n",
       "      <td>0.8664</td>\n",
       "    </tr>\n",
       "    <tr>\n",
       "      <th>9</th>\n",
       "      <td>0.333600</td>\n",
       "      <td>0.881436</td>\n",
       "      <td>0.355150</td>\n",
       "      <td>0.8716</td>\n",
       "    </tr>\n",
       "    <tr>\n",
       "      <th>10</th>\n",
       "      <td>0.326199</td>\n",
       "      <td>0.883673</td>\n",
       "      <td>0.362626</td>\n",
       "      <td>0.8742</td>\n",
       "    </tr>\n",
       "    <tr>\n",
       "      <th>11</th>\n",
       "      <td>0.317959</td>\n",
       "      <td>0.886891</td>\n",
       "      <td>0.341454</td>\n",
       "      <td>0.8812</td>\n",
       "    </tr>\n",
       "    <tr>\n",
       "      <th>12</th>\n",
       "      <td>0.310120</td>\n",
       "      <td>0.888818</td>\n",
       "      <td>0.329504</td>\n",
       "      <td>0.8840</td>\n",
       "    </tr>\n",
       "    <tr>\n",
       "      <th>13</th>\n",
       "      <td>0.302860</td>\n",
       "      <td>0.891000</td>\n",
       "      <td>0.319599</td>\n",
       "      <td>0.8878</td>\n",
       "    </tr>\n",
       "    <tr>\n",
       "      <th>14</th>\n",
       "      <td>0.296696</td>\n",
       "      <td>0.893527</td>\n",
       "      <td>0.335549</td>\n",
       "      <td>0.8792</td>\n",
       "    </tr>\n",
       "    <tr>\n",
       "      <th>15</th>\n",
       "      <td>0.291467</td>\n",
       "      <td>0.894818</td>\n",
       "      <td>0.315623</td>\n",
       "      <td>0.8882</td>\n",
       "    </tr>\n",
       "    <tr>\n",
       "      <th>16</th>\n",
       "      <td>0.284297</td>\n",
       "      <td>0.896873</td>\n",
       "      <td>0.327533</td>\n",
       "      <td>0.8812</td>\n",
       "    </tr>\n",
       "    <tr>\n",
       "      <th>17</th>\n",
       "      <td>0.278874</td>\n",
       "      <td>0.899527</td>\n",
       "      <td>0.316459</td>\n",
       "      <td>0.8898</td>\n",
       "    </tr>\n",
       "    <tr>\n",
       "      <th>18</th>\n",
       "      <td>0.273675</td>\n",
       "      <td>0.901382</td>\n",
       "      <td>0.319829</td>\n",
       "      <td>0.8866</td>\n",
       "    </tr>\n",
       "    <tr>\n",
       "      <th>19</th>\n",
       "      <td>0.269361</td>\n",
       "      <td>0.902764</td>\n",
       "      <td>0.323557</td>\n",
       "      <td>0.8850</td>\n",
       "    </tr>\n",
       "    <tr>\n",
       "      <th>20</th>\n",
       "      <td>0.264714</td>\n",
       "      <td>0.904345</td>\n",
       "      <td>0.317358</td>\n",
       "      <td>0.8856</td>\n",
       "    </tr>\n",
       "    <tr>\n",
       "      <th>21</th>\n",
       "      <td>0.258538</td>\n",
       "      <td>0.906909</td>\n",
       "      <td>0.308728</td>\n",
       "      <td>0.8910</td>\n",
       "    </tr>\n",
       "    <tr>\n",
       "      <th>22</th>\n",
       "      <td>0.255320</td>\n",
       "      <td>0.908018</td>\n",
       "      <td>0.307595</td>\n",
       "      <td>0.8922</td>\n",
       "    </tr>\n",
       "    <tr>\n",
       "      <th>23</th>\n",
       "      <td>0.249792</td>\n",
       "      <td>0.910636</td>\n",
       "      <td>0.292001</td>\n",
       "      <td>0.8970</td>\n",
       "    </tr>\n",
       "    <tr>\n",
       "      <th>24</th>\n",
       "      <td>0.245354</td>\n",
       "      <td>0.911436</td>\n",
       "      <td>0.300202</td>\n",
       "      <td>0.8934</td>\n",
       "    </tr>\n",
       "    <tr>\n",
       "      <th>25</th>\n",
       "      <td>0.242497</td>\n",
       "      <td>0.912673</td>\n",
       "      <td>0.307591</td>\n",
       "      <td>0.8902</td>\n",
       "    </tr>\n",
       "    <tr>\n",
       "      <th>26</th>\n",
       "      <td>0.237116</td>\n",
       "      <td>0.915473</td>\n",
       "      <td>0.306490</td>\n",
       "      <td>0.8934</td>\n",
       "    </tr>\n",
       "    <tr>\n",
       "      <th>27</th>\n",
       "      <td>0.233907</td>\n",
       "      <td>0.915673</td>\n",
       "      <td>0.317633</td>\n",
       "      <td>0.8870</td>\n",
       "    </tr>\n",
       "    <tr>\n",
       "      <th>28</th>\n",
       "      <td>0.230291</td>\n",
       "      <td>0.917382</td>\n",
       "      <td>0.296573</td>\n",
       "      <td>0.8978</td>\n",
       "    </tr>\n",
       "    <tr>\n",
       "      <th>29</th>\n",
       "      <td>0.226970</td>\n",
       "      <td>0.918236</td>\n",
       "      <td>0.302354</td>\n",
       "      <td>0.8968</td>\n",
       "    </tr>\n",
       "  </tbody>\n",
       "</table>\n",
       "</div>"
      ],
      "text/plain": [
       "        loss  sparse_categorical_accuracy  val_loss  \\\n",
       "0   0.724698                     0.761109  0.504906   \n",
       "1   0.490689                     0.829855  0.469372   \n",
       "2   0.444904                     0.844800  0.407688   \n",
       "3   0.416643                     0.854836  0.442891   \n",
       "4   0.396145                     0.860436  0.401465   \n",
       "5   0.379468                     0.866982  0.373546   \n",
       "6   0.365527                     0.872818  0.365922   \n",
       "7   0.354791                     0.875055  0.348948   \n",
       "8   0.343674                     0.878564  0.383073   \n",
       "9   0.333600                     0.881436  0.355150   \n",
       "10  0.326199                     0.883673  0.362626   \n",
       "11  0.317959                     0.886891  0.341454   \n",
       "12  0.310120                     0.888818  0.329504   \n",
       "13  0.302860                     0.891000  0.319599   \n",
       "14  0.296696                     0.893527  0.335549   \n",
       "15  0.291467                     0.894818  0.315623   \n",
       "16  0.284297                     0.896873  0.327533   \n",
       "17  0.278874                     0.899527  0.316459   \n",
       "18  0.273675                     0.901382  0.319829   \n",
       "19  0.269361                     0.902764  0.323557   \n",
       "20  0.264714                     0.904345  0.317358   \n",
       "21  0.258538                     0.906909  0.308728   \n",
       "22  0.255320                     0.908018  0.307595   \n",
       "23  0.249792                     0.910636  0.292001   \n",
       "24  0.245354                     0.911436  0.300202   \n",
       "25  0.242497                     0.912673  0.307591   \n",
       "26  0.237116                     0.915473  0.306490   \n",
       "27  0.233907                     0.915673  0.317633   \n",
       "28  0.230291                     0.917382  0.296573   \n",
       "29  0.226970                     0.918236  0.302354   \n",
       "\n",
       "    val_sparse_categorical_accuracy  \n",
       "0                            0.8336  \n",
       "1                            0.8384  \n",
       "2                            0.8656  \n",
       "3                            0.8462  \n",
       "4                            0.8588  \n",
       "5                            0.8706  \n",
       "6                            0.8726  \n",
       "7                            0.8778  \n",
       "8                            0.8664  \n",
       "9                            0.8716  \n",
       "10                           0.8742  \n",
       "11                           0.8812  \n",
       "12                           0.8840  \n",
       "13                           0.8878  \n",
       "14                           0.8792  \n",
       "15                           0.8882  \n",
       "16                           0.8812  \n",
       "17                           0.8898  \n",
       "18                           0.8866  \n",
       "19                           0.8850  \n",
       "20                           0.8856  \n",
       "21                           0.8910  \n",
       "22                           0.8922  \n",
       "23                           0.8970  \n",
       "24                           0.8934  \n",
       "25                           0.8902  \n",
       "26                           0.8934  \n",
       "27                           0.8870  \n",
       "28                           0.8978  \n",
       "29                           0.8968  "
      ]
     },
     "execution_count": 15,
     "metadata": {},
     "output_type": "execute_result"
    }
   ],
   "source": [
    "# Grafico todo:\n",
    "history_df = pd.DataFrame(history.history)\n",
    "history_df"
   ]
  },
  {
   "cell_type": "code",
   "execution_count": 17,
   "id": "ae5c6ed1-ddc1-4459-badf-2a11fd1304e7",
   "metadata": {},
   "outputs": [
    {
     "data": {
      "image/png": "[encoded data removed]",
      "text/plain": [
       "<Figure size 576x360 with 1 Axes>"
      ]
     },
     "metadata": {
      "needs_background": "light"
     },
     "output_type": "display_data"
    }
   ],
   "source": [
    "history_df.plot(figsize=(8, 5))\n",
    "plt.grid(True)\n",
    "plt.gca().set_ylim(0, 1)  # gca --> get current axes. method que devuelve los axes del objeto plot.\n",
    "plt.show()"
   ]
  },
  {
   "cell_type": "markdown",
   "id": "08c27269-885d-4c7d-b6e2-c7e378e57de4",
   "metadata": {},
   "source": [
    "#### Se ve cómo mejora con cada epoch. Notar que para el training set es más smooth. Mejora a cada epoch. Para el validation, va bajando pero es más rippled."
   ]
  },
  {
   "cell_type": "markdown",
   "id": "081d0dda-1c35-402c-a1d2-6c36910c9c24",
   "metadata": {},
   "source": [
    "### Evaluación de modelo"
   ]
  },
  {
   "cell_type": "code",
   "execution_count": 18,
   "id": "ff8b161e-ca67-4363-a695-bd6d62846b36",
   "metadata": {},
   "outputs": [
    {
     "name": "stdout",
     "output_type": "stream",
     "text": [
      "313/313 [==============================] - 0s 617us/step - loss: 69.8057 - sparse_categorical_accuracy: 0.8413\n"
     ]
    },
    {
     "data": {
      "text/plain": [
       "[69.80571746826172, 0.8413000106811523]"
      ]
     },
     "execution_count": 18,
     "metadata": {},
     "output_type": "execute_result"
    }
   ],
   "source": [
    "model.evaluate(X_test, y_test)"
   ]
  },
  {
   "cell_type": "markdown",
   "id": "872918c3-7226-4ea9-bd39-f6ecd1f7e54e",
   "metadata": {},
   "source": [
    "### Predicción:"
   ]
  },
  {
   "cell_type": "code",
   "execution_count": 21,
   "id": "e9419b70-5282-4813-b5af-17a021496074",
   "metadata": {},
   "outputs": [],
   "source": [
    "X_new = X_test[:10]  # Tomo los 3 primeros items de X_test como si fueran nuevas observaciones. "
   ]
  },
  {
   "cell_type": "code",
   "execution_count": 22,
   "id": "f3cdfe92-2249-4f30-aacf-999d247b4fe9",
   "metadata": {},
   "outputs": [
    {
     "data": {
      "text/plain": [
       "array([[0., 0., 0., 0., 0., 0., 0., 0., 0., 1.],\n",
       "       [0., 0., 1., 0., 0., 0., 0., 0., 0., 0.],\n",
       "       [0., 1., 0., 0., 0., 0., 0., 0., 0., 0.],\n",
       "       [0., 1., 0., 0., 0., 0., 0., 0., 0., 0.],\n",
       "       [0., 0., 0., 0., 0., 0., 1., 0., 0., 0.],\n",
       "       [0., 1., 0., 0., 0., 0., 0., 0., 0., 0.],\n",
       "       [0., 0., 0., 0., 1., 0., 0., 0., 0., 0.],\n",
       "       [0., 0., 0., 0., 0., 0., 1., 0., 0., 0.],\n",
       "       [0., 0., 0., 0., 0., 1., 0., 0., 0., 0.],\n",
       "       [0., 0., 0., 0., 0., 0., 0., 1., 0., 0.]], dtype=float32)"
      ]
     },
     "execution_count": 22,
     "metadata": {},
     "output_type": "execute_result"
    }
   ],
   "source": [
    "y_proba = model.predict(X_new)\n",
    "y_proba.round(2)"
   ]
  },
  {
   "cell_type": "markdown",
   "id": "02bf969e-7a1e-4029-938c-ab10667b63ee",
   "metadata": {},
   "source": [
    "... OK... no parece que me esté dando las probabilidades. Me está diciendo las categorías directamente..."
   ]
  },
  {
   "cell_type": "code",
   "execution_count": 24,
   "id": "5cd3a92d-d986-43b5-a829-65056c3fce85",
   "metadata": {},
   "outputs": [],
   "source": [
    "X_new2 = X_test[-10:]"
   ]
  },
  {
   "cell_type": "code",
   "execution_count": 25,
   "id": "eb0e989c-a8bf-4dc8-bbe8-7b359b6522e0",
   "metadata": {},
   "outputs": [
    {
     "data": {
      "text/plain": [
       "array([[0.0000000e+00, 0.0000000e+00, 0.0000000e+00, 0.0000000e+00,\n",
       "        0.0000000e+00, 1.0000000e+00, 0.0000000e+00, 0.0000000e+00,\n",
       "        0.0000000e+00, 0.0000000e+00],\n",
       "       [9.9993253e-01, 0.0000000e+00, 0.0000000e+00, 0.0000000e+00,\n",
       "        0.0000000e+00, 0.0000000e+00, 6.7420624e-05, 0.0000000e+00,\n",
       "        0.0000000e+00, 0.0000000e+00],\n",
       "       [0.0000000e+00, 0.0000000e+00, 0.0000000e+00, 0.0000000e+00,\n",
       "        0.0000000e+00, 0.0000000e+00, 0.0000000e+00, 0.0000000e+00,\n",
       "        1.0000000e+00, 0.0000000e+00],\n",
       "       [0.0000000e+00, 0.0000000e+00, 0.0000000e+00, 0.0000000e+00,\n",
       "        0.0000000e+00, 0.0000000e+00, 0.0000000e+00, 0.0000000e+00,\n",
       "        0.0000000e+00, 1.0000000e+00],\n",
       "       [0.0000000e+00, 1.0000000e+00, 0.0000000e+00, 0.0000000e+00,\n",
       "        0.0000000e+00, 0.0000000e+00, 0.0000000e+00, 0.0000000e+00,\n",
       "        0.0000000e+00, 0.0000000e+00],\n",
       "       [0.0000000e+00, 0.0000000e+00, 0.0000000e+00, 0.0000000e+00,\n",
       "        0.0000000e+00, 0.0000000e+00, 0.0000000e+00, 0.0000000e+00,\n",
       "        0.0000000e+00, 1.0000000e+00],\n",
       "       [0.0000000e+00, 1.0000000e+00, 0.0000000e+00, 0.0000000e+00,\n",
       "        0.0000000e+00, 0.0000000e+00, 0.0000000e+00, 0.0000000e+00,\n",
       "        0.0000000e+00, 0.0000000e+00],\n",
       "       [0.0000000e+00, 0.0000000e+00, 0.0000000e+00, 0.0000000e+00,\n",
       "        0.0000000e+00, 0.0000000e+00, 0.0000000e+00, 0.0000000e+00,\n",
       "        1.0000000e+00, 0.0000000e+00],\n",
       "       [0.0000000e+00, 1.0000000e+00, 0.0000000e+00, 0.0000000e+00,\n",
       "        0.0000000e+00, 0.0000000e+00, 0.0000000e+00, 0.0000000e+00,\n",
       "        0.0000000e+00, 0.0000000e+00],\n",
       "       [0.0000000e+00, 0.0000000e+00, 0.0000000e+00, 0.0000000e+00,\n",
       "        0.0000000e+00, 1.0000000e+00, 0.0000000e+00, 0.0000000e+00,\n",
       "        0.0000000e+00, 0.0000000e+00]], dtype=float32)"
      ]
     },
     "execution_count": 25,
     "metadata": {},
     "output_type": "execute_result"
    }
   ],
   "source": [
    "model.predict(X_new2)"
   ]
  },
  {
   "cell_type": "markdown",
   "id": "0af83a25-068b-4f0a-a936-a2e5dea09867",
   "metadata": {},
   "source": [
    "#### Veo en el segundo item (pos=0) de este array tiene valores distintos de 1 y 0. "
   ]
  },
  {
   "cell_type": "code",
   "execution_count": 26,
   "id": "69a6ee6e-5772-4631-bca5-8022ad2f3704",
   "metadata": {},
   "outputs": [
    {
     "name": "stderr",
     "output_type": "stream",
     "text": [
      "/home/panza/Desktop/Panza/Projects/virtual_envs/ho-ml/lib/python3.8/site-packages/tensorflow/python/keras/engine/sequential.py:450: UserWarning: `model.predict_classes()` is deprecated and will be removed after 2021-01-01. Please use instead:* `np.argmax(model.predict(x), axis=-1)`,   if your model does multi-class classification   (e.g. if it uses a `softmax` last-layer activation).* `(model.predict(x) > 0.5).astype(\"int32\")`,   if your model does binary classification   (e.g. if it uses a `sigmoid` last-layer activation).\n",
      "  warnings.warn('`model.predict_classes()` is deprecated and '\n"
     ]
    },
    {
     "data": {
      "text/plain": [
       "array([5, 0, 8, 9, 1, 9, 1, 8, 1, 5])"
      ]
     },
     "execution_count": 26,
     "metadata": {},
     "output_type": "execute_result"
    }
   ],
   "source": [
    "# Si no me interesan las probabilities y quiero únicamente la predicción:\n",
    "model.predict_classes(X_new2)"
   ]
  },
  {
   "cell_type": "code",
   "execution_count": 27,
   "id": "9a575356-c157-4ed1-9cc2-e754815f65bd",
   "metadata": {},
   "outputs": [],
   "source": [
    "import numpy as np"
   ]
  },
  {
   "cell_type": "code",
   "execution_count": 29,
   "id": "21b9b5e7-c795-47a9-8deb-a38600be3c21",
   "metadata": {},
   "outputs": [
    {
     "data": {
      "text/plain": [
       "array([5, 0, 8, 9, 1, 9, 1, 8, 1, 5])"
      ]
     },
     "execution_count": 29,
     "metadata": {},
     "output_type": "execute_result"
    }
   ],
   "source": [
    "# Otra forma de hacer lo mismo de acuerdo a los warnings.\n",
    "np.argmax(model.predict(X_new2), axis=-1)"
   ]
  },
  {
   "cell_type": "code",
   "execution_count": 30,
   "id": "cd4b1173-a65d-44ec-8df4-c02a603c8056",
   "metadata": {},
   "outputs": [
    {
     "data": {
      "text/plain": [
       "['T-shirt/top',\n",
       " 'Trouser',\n",
       " 'Pullover',\n",
       " 'Dress',\n",
       " 'Coat',\n",
       " 'Sandal',\n",
       " 'Shirt',\n",
       " 'Sneaker',\n",
       " 'Bag',\n",
       " 'Ankle boot']"
      ]
     },
     "execution_count": 30,
     "metadata": {},
     "output_type": "execute_result"
    }
   ],
   "source": [
    "class_names"
   ]
  },
  {
   "cell_type": "code",
   "execution_count": 34,
   "id": "c4038eb1-1826-426e-a3ce-2d5aff4de33a",
   "metadata": {},
   "outputs": [
    {
     "data": {
      "text/plain": [
       "array(['Sandal', 'T-shirt/top', 'Bag', 'Ankle boot', 'Trouser',\n",
       "       'Ankle boot', 'Trouser', 'Bag', 'Trouser', 'Sandal'], dtype='<U11')"
      ]
     },
     "execution_count": 34,
     "metadata": {},
     "output_type": "execute_result"
    }
   ],
   "source": [
    "# Mirá qué forma piola de transformar un array en otro... sigo insistiendo con el diccionario...\n",
    "np.array(class_names)[np.argmax(model.predict(X_new2), axis=-1)]"
   ]
  },
  {
   "cell_type": "code",
   "execution_count": 38,
   "id": "716d2794-701c-4de9-951b-6b6c0bb729a3",
   "metadata": {},
   "outputs": [
    {
     "data": {
      "text/plain": [
       "(28, 28)"
      ]
     },
     "execution_count": 38,
     "metadata": {},
     "output_type": "execute_result"
    }
   ],
   "source": [
    "X_new2[0].shape"
   ]
  },
  {
   "cell_type": "markdown",
   "id": "33c3c98e-4646-49ec-a7bf-fdce5eb6d30f",
   "metadata": {},
   "source": [
    "End of the joke"
   ]
  },
  {
   "cell_type": "code",
   "execution_count": null,
   "id": "a7956e6b-5911-44f6-aae8-8327b4c65d72",
   "metadata": {},
   "outputs": [],
   "source": []
  }
 ],
 "metadata": {
  "kernelspec": {
   "display_name": "ho_ml_kernel",
   "language": "python",
   "name": "ho_ml_kernel"
  },
  "language_info": {
   "codemirror_mode": {
    "name": "ipython",
    "version": 3
   },
   "file_extension": ".py",
   "mimetype": "text/x-python",
   "name": "python",
   "nbconvert_exporter": "python",
   "pygments_lexer": "ipython3",
   "version": "3.8.5"
  }
 },
 "nbformat": 4,
 "nbformat_minor": 5
}
