{
 "cells": [
  {
   "cell_type": "markdown",
   "id": "4f051e90-e75b-4b19-b0a8-2de3c715cc73",
   "metadata": {},
   "source": [
    "# Chapter 08 - Dimensionality Reduction"
   ]
  },
  {
   "cell_type": "code",
   "execution_count": 13,
   "id": "67565bf9-f9fd-47b4-9527-a350e3670e94",
   "metadata": {},
   "outputs": [],
   "source": [
    "import numpy as np"
   ]
  },
  {
   "cell_type": "code",
   "execution_count": 1,
   "id": "769faa9e-5393-4e30-9e4f-8c9bf213d7a4",
   "metadata": {},
   "outputs": [],
   "source": [
    "# PCA in SciKit-Learn\n",
    "from sklearn.decomposition import PCA\n",
    "from sklearn.datasets import make_moons\n",
    "\n",
    "X, y = make_moons()"
   ]
  },
  {
   "cell_type": "code",
   "execution_count": 2,
   "id": "9941dc6f-6b73-4776-ae93-3115a488b36f",
   "metadata": {},
   "outputs": [],
   "source": [
    "pca = PCA(n_components = 1)\n",
    "X1D = pca.fit_transform(X)"
   ]
  },
  {
   "cell_type": "code",
   "execution_count": 3,
   "id": "9689afb7-7c4c-4b14-bfe2-fe239b50a10d",
   "metadata": {},
   "outputs": [
    {
     "name": "stdout",
     "output_type": "stream",
     "text": [
      "(100, 2) (100, 1)\n"
     ]
    }
   ],
   "source": [
    "print(X.shape, X1D.shape)"
   ]
  },
  {
   "cell_type": "markdown",
   "id": "49fa2308-a739-42ea-9e5a-2474ff1dba3e",
   "metadata": {},
   "source": [
    "Una dimensión menos!"
   ]
  },
  {
   "cell_type": "code",
   "execution_count": 4,
   "id": "aac1a1c4-c544-4a6a-96a2-9034945680a8",
   "metadata": {},
   "outputs": [
    {
     "data": {
      "text/plain": [
       "array([0.81968748])"
      ]
     },
     "execution_count": 4,
     "metadata": {},
     "output_type": "execute_result"
    }
   ],
   "source": [
    "pca.explained_variance_ratio_"
   ]
  },
  {
   "cell_type": "markdown",
   "id": "a9de9110-2cd6-466c-824a-8f94fa10c042",
   "metadata": {},
   "source": [
    "OK. Me queda una sola dimensión que captura el 82% de la varianza del dataset original. Esta dimensión es el PC (Principal Component)"
   ]
  },
  {
   "cell_type": "code",
   "execution_count": 5,
   "id": "95959045-60c1-4148-9e2b-afde8fbf327c",
   "metadata": {},
   "outputs": [],
   "source": [
    "# TODO: buscar un dummy dataset de 3 dimensiones\n",
    "from sklearn.datasets import load_iris\n",
    "\n",
    "iris_dataset = load_iris()\n",
    "X = iris_dataset[\"data\"]\n",
    "y = iris_dataset[\"target\"]"
   ]
  },
  {
   "cell_type": "code",
   "execution_count": 6,
   "id": "1ed9a45f-bb75-4ccd-9532-7e3ea46d9acd",
   "metadata": {},
   "outputs": [
    {
     "data": {
      "text/plain": [
       "(150, 4)"
      ]
     },
     "execution_count": 6,
     "metadata": {},
     "output_type": "execute_result"
    }
   ],
   "source": [
    "X.shape"
   ]
  },
  {
   "cell_type": "code",
   "execution_count": 7,
   "id": "2883a828-6a58-4947-abc2-4efd4e064943",
   "metadata": {},
   "outputs": [],
   "source": [
    "pca = PCA(n_components=2)\n",
    "X2D = pca.fit_transform(X)"
   ]
  },
  {
   "cell_type": "code",
   "execution_count": 8,
   "id": "7c6bbb57-a5c1-4110-aacb-5106e2bed4d1",
   "metadata": {},
   "outputs": [
    {
     "data": {
      "text/plain": [
       "(150, 2)"
      ]
     },
     "execution_count": 8,
     "metadata": {},
     "output_type": "execute_result"
    }
   ],
   "source": [
    "X2D.shape"
   ]
  },
  {
   "cell_type": "code",
   "execution_count": 10,
   "id": "5f74798b-c9f5-446b-b88c-201031b0c341",
   "metadata": {},
   "outputs": [
    {
     "data": {
      "text/plain": [
       "array([0.92461872, 0.05306648])"
      ]
     },
     "execution_count": 10,
     "metadata": {},
     "output_type": "execute_result"
    }
   ],
   "source": [
    "pca.explained_variance_ratio_"
   ]
  },
  {
   "cell_type": "markdown",
   "id": "83ea975e-98ca-4d96-a215-05689da8df87",
   "metadata": {},
   "source": [
    "Ok... Un eje captura el 92% de la varianza en el dataset original. El otro eje prácticamente lo podría eliminar por tener MUY poca varianza."
   ]
  },
  {
   "cell_type": "markdown",
   "id": "d8d689a2-e582-4782-8109-dbff60f5f1eb",
   "metadata": {},
   "source": [
    "### Cómo elegir el número correcto de dimensiones? \n",
    "Tal vez, bajar de 4 a 2 es un montón."
   ]
  },
  {
   "cell_type": "code",
   "execution_count": 14,
   "id": "a5c6e21a-aca2-49fd-89e3-c702eb906917",
   "metadata": {},
   "outputs": [],
   "source": [
    "# Código para lograr reducir dimensiones de modo tal que se capture un 95% de la varianza del dataset original.\n",
    "pca = PCA()\n",
    "pca.fit(X)  # Notar que llamo al método fit. No al método fit transform\n",
    "cumsum = np.cumsum(pca.explained_variance_ratio_)\n",
    "d = np.argmax(cumsum >= 0.95) + 1"
   ]
  },
  {
   "cell_type": "code",
   "execution_count": 15,
   "id": "ad115a7b-0a8f-480d-bb07-e62363d47452",
   "metadata": {},
   "outputs": [
    {
     "data": {
      "text/plain": [
       "2"
      ]
     },
     "execution_count": 15,
     "metadata": {},
     "output_type": "execute_result"
    }
   ],
   "source": [
    "d"
   ]
  },
  {
   "cell_type": "code",
   "execution_count": 16,
   "id": "168567d9-8973-4a38-8b41-a50dbd625d35",
   "metadata": {},
   "outputs": [
    {
     "data": {
      "text/plain": [
       "array([0.92461872, 0.05306648, 0.01710261, 0.00521218])"
      ]
     },
     "execution_count": 16,
     "metadata": {},
     "output_type": "execute_result"
    }
   ],
   "source": [
    "pca.explained_variance_ratio_"
   ]
  },
  {
   "cell_type": "code",
   "execution_count": 17,
   "id": "d499edba-67cc-4fd7-9deb-ffc1ea43510b",
   "metadata": {},
   "outputs": [
    {
     "data": {
      "text/plain": [
       "array([0.92461872, 0.97768521, 0.99478782, 1.        ])"
      ]
     },
     "execution_count": 17,
     "metadata": {},
     "output_type": "execute_result"
    }
   ],
   "source": [
    "cumsum"
   ]
  },
  {
   "cell_type": "markdown",
   "id": "b03a47fb-e133-4310-aa8a-949745fee554",
   "metadata": {},
   "source": [
    "Como tengo 4 dimensiones (4 features), el transformer me devuelve 4 ejes ortogonales *QUE NO SON LOS ORIGINALES* (pero pueden coincidir) y me dice la varianza de los datos en estos nuevos ejes.<br>\n",
    "Se ve que el primer eje logra capturar un 92.4% de la varianza del dataset original, el segundo al rededor de un 5.3%, el tercero un 1.7%, etc.<br>\n",
    "Entonces, cuando hago la suma cumulativa (cumsum), con los primeros 2 ejes ya estoy capturando un 97.7% de la varianza del dataset original, y reduje las dimensiones a la mitad. Nada mal!"
   ]
  },
  {
   "cell_type": "code",
   "execution_count": 19,
   "id": "d74034c7-37c3-4a8d-8e01-b1436fd705e0",
   "metadata": {},
   "outputs": [
    {
     "data": {
      "text/plain": [
       "(150, 2)"
      ]
     },
     "execution_count": 19,
     "metadata": {},
     "output_type": "execute_result"
    }
   ],
   "source": [
    "# Esto mismo, pero hecho en sklearn\n",
    "new_pca = PCA(n_components=0.95)  # Si le paso un float, le digo qué porcentaje de varianza quiero capturar\n",
    "new_X = new_pca.fit_transform(X)\n",
    "new_X.shape"
   ]
  },
  {
   "cell_type": "code",
   "execution_count": 20,
   "id": "d940aa70-81b9-4606-9073-f1515080c03d",
   "metadata": {},
   "outputs": [
    {
     "data": {
      "text/plain": [
       "array([0.92461872, 0.05306648])"
      ]
     },
     "execution_count": 20,
     "metadata": {},
     "output_type": "execute_result"
    }
   ],
   "source": [
    "new_pca.explained_variance_ratio_"
   ]
  },
  {
   "cell_type": "markdown",
   "id": "096281c1-413e-4fd5-89d6-1ac22abb4f2e",
   "metadata": {},
   "source": [
    "Mismo resultado que antes!"
   ]
  },
  {
   "cell_type": "markdown",
   "id": "07d86642-b1ae-4f3f-9d9d-ad3eda083c65",
   "metadata": {},
   "source": [
    "## Kernel PCA"
   ]
  },
  {
   "cell_type": "code",
   "execution_count": 21,
   "id": "2bc2eb87-3e40-4a9c-9d74-8bec067742d7",
   "metadata": {},
   "outputs": [],
   "source": [
    "from sklearn.decomposition import KernelPCA\n",
    "\n",
    "rbf_pca = KernelPCA(n_components=2, kernel=\"rbf\", gamma=0.04)\n",
    "X_reduced = rbf_pca.fit_transform(X)"
   ]
  },
  {
   "cell_type": "markdown",
   "id": "ca17dd6f-da27-47bb-be52-01e56dda4f58",
   "metadata": {},
   "source": [
    "Esto aplica el mismo kernel (mismo concepto) que vimos con las SVMs. <br>\n",
    "Se lleva todo a otro subespacio. Define dimensiones ortogonales en ese otro espacio y después \"destransforma\" para volver al espacio original. <br>\n",
    "Notar que es una técnica NO supervisada."
   ]
  },
  {
   "cell_type": "code",
   "execution_count": null,
   "id": "ca7f9c04-fb2a-4287-a176-2cfe4501464e",
   "metadata": {},
   "outputs": [],
   "source": []
  }
 ],
 "metadata": {
  "kernelspec": {
   "display_name": "ho_ml_kernel",
   "language": "python",
   "name": "ho_ml_kernel"
  },
  "language_info": {
   "codemirror_mode": {
    "name": "ipython",
    "version": 3
   },
   "file_extension": ".py",
   "mimetype": "text/x-python",
   "name": "python",
   "nbconvert_exporter": "python",
   "pygments_lexer": "ipython3",
   "version": "3.8.5"
  }
 },
 "nbformat": 4,
 "nbformat_minor": 5
}
