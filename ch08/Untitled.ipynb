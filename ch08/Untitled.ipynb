{
 "cells": [
  {
   "cell_type": "markdown",
   "id": "4f051e90-e75b-4b19-b0a8-2de3c715cc73",
   "metadata": {},
   "source": [
    "# Chapter 08 - Dimensionality Reduction"
   ]
  },
  {
   "cell_type": "code",
   "execution_count": 1,
   "id": "769faa9e-5393-4e30-9e4f-8c9bf213d7a4",
   "metadata": {},
   "outputs": [],
   "source": [
    "# PCA in SciKit-Learn\n",
    "from sklearn.decomposition import PCA\n",
    "from sklearn.datasets import make_moons\n",
    "\n",
    "X, y = make_moons()"
   ]
  },
  {
   "cell_type": "code",
   "execution_count": 3,
   "id": "9941dc6f-6b73-4776-ae93-3115a488b36f",
   "metadata": {},
   "outputs": [],
   "source": [
    "pca = PCA(n_components = 1)\n",
    "X1D = pca.fit_transform(X)"
   ]
  },
  {
   "cell_type": "code",
   "execution_count": 4,
   "id": "9689afb7-7c4c-4b14-bfe2-fe239b50a10d",
   "metadata": {},
   "outputs": [
    {
     "name": "stdout",
     "output_type": "stream",
     "text": [
      "(100, 2) (100, 1)\n"
     ]
    }
   ],
   "source": [
    "print(X.shape, X1D.shape)"
   ]
  },
  {
   "cell_type": "markdown",
   "id": "49fa2308-a739-42ea-9e5a-2474ff1dba3e",
   "metadata": {},
   "source": [
    "Una dimensión menos!"
   ]
  },
  {
   "cell_type": "code",
   "execution_count": 5,
   "id": "aac1a1c4-c544-4a6a-96a2-9034945680a8",
   "metadata": {},
   "outputs": [
    {
     "data": {
      "text/plain": [
       "array([0.81968748])"
      ]
     },
     "execution_count": 5,
     "metadata": {},
     "output_type": "execute_result"
    }
   ],
   "source": [
    "pca.explained_variance_ratio_"
   ]
  },
  {
   "cell_type": "markdown",
   "id": "a9de9110-2cd6-466c-824a-8f94fa10c042",
   "metadata": {},
   "source": [
    "OK. Me queda una sola dimensión que captura el 82% de la varianza del dataset original. Esta dimensión es el PC (Principal Component)"
   ]
  },
  {
   "cell_type": "code",
   "execution_count": 6,
   "id": "95959045-60c1-4148-9e2b-afde8fbf327c",
   "metadata": {},
   "outputs": [],
   "source": [
    "# TODO: buscar un dummy dataset de 3 dimensiones"
   ]
  },
  {
   "cell_type": "code",
   "execution_count": null,
   "id": "ea5212bc-a5fe-44c1-b2ba-f7d61418c837",
   "metadata": {},
   "outputs": [],
   "source": []
  }
 ],
 "metadata": {
  "kernelspec": {
   "display_name": "ho_ml_kernel",
   "language": "python",
   "name": "ho_ml_kernel"
  },
  "language_info": {
   "codemirror_mode": {
    "name": "ipython",
    "version": 3
   },
   "file_extension": ".py",
   "mimetype": "text/x-python",
   "name": "python",
   "nbconvert_exporter": "python",
   "pygments_lexer": "ipython3",
   "version": "3.8.5"
  }
 },
 "nbformat": 4,
 "nbformat_minor": 5
}
