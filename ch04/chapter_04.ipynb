{
 "cells": [
  {
   "cell_type": "markdown",
   "id": "2e55f253-498f-46a1-a181-ada86042dc9e",
   "metadata": {},
   "source": [
    "# Chapter 04 - Training Models "
   ]
  },
  {
   "cell_type": "markdown",
   "id": "7565fab6-ffcf-477b-92fb-42069b540345",
   "metadata": {},
   "source": [
    "## Linear Regression"
   ]
  },
  {
   "cell_type": "code",
   "execution_count": 1,
   "id": "0f618cc3-1543-4098-8a53-4bb525766fda",
   "metadata": {},
   "outputs": [],
   "source": [
    "import numpy as np\n",
    "\n",
    "X = 2 * np.random.rand(100, 1)\n",
    "y = 4 + 3 * X + np.random.randn(100, 1)\n"
   ]
  },
  {
   "cell_type": "code",
   "execution_count": 2,
   "id": "17c0e710-910e-4490-a502-468cad1d848a",
   "metadata": {},
   "outputs": [],
   "source": [
    "import matplotlib as mpl\n",
    "import matplotlib.pyplot as plt"
   ]
  },
  {
   "cell_type": "code",
   "execution_count": 3,
   "id": "a458bd4d-dc96-4878-99a3-53f1f03ff6f8",
   "metadata": {},
   "outputs": [
    {
     "data": {
      "image/png": "[encoded data removed]",
      "text/plain": [
       "<Figure size 864x576 with 1 Axes>"
      ]
     },
     "metadata": {
      "needs_background": "light"
     },
     "output_type": "display_data"
    }
   ],
   "source": [
    "plt.figure(figsize = (12, 8))\n",
    "plt.scatter(X, y)\n",
    "plt.show()"
   ]
  },
  {
   "cell_type": "markdown",
   "id": "4c2a7058-eda2-4033-a9d1-025e722c25f8",
   "metadata": {},
   "source": [
    "Se ve el randomness... pero también se ve el efecto de la función lineal (más o menos y = 3X + 4)"
   ]
  },
  {
   "cell_type": "code",
   "execution_count": 4,
   "id": "bc069a42-f237-4f23-a28c-6c00ccac78f9",
   "metadata": {},
   "outputs": [
    {
     "data": {
      "text/plain": [
       "array([[4.04254954],\n",
       "       [2.80134064]])"
      ]
     },
     "execution_count": 4,
     "metadata": {},
     "output_type": "execute_result"
    }
   ],
   "source": [
    "# Cálculo de parámetros a mano\n",
    "X_b = np.c_[np.ones((100, 1)), X] # add x0 = 1 to each instance\n",
    "theta_best = np.linalg.inv(X_b.T.dot(X_b)).dot(X_b.T).dot(y)\n",
    "\n",
    "theta_best"
   ]
  },
  {
   "cell_type": "markdown",
   "id": "6521fb59-65e6-473f-a1ae-4a35c29989b4",
   "metadata": {},
   "source": [
    "Bastante bien... Casi 3 y casi 4"
   ]
  },
  {
   "cell_type": "code",
   "execution_count": 5,
   "id": "38040394-f360-4052-8f68-7f036c9ed78c",
   "metadata": {},
   "outputs": [
    {
     "data": {
      "text/plain": [
       "array([[4.04254954],\n",
       "       [9.64523082]])"
      ]
     },
     "execution_count": 5,
     "metadata": {},
     "output_type": "execute_result"
    }
   ],
   "source": [
    "X_new = np.array([[0], [2]])\n",
    "X_new_b = np.c_[np.ones((2, 1)), X_new] # add x0 = 1 to each instance\n",
    "y_predict = X_new_b.dot(theta_best)\n",
    "y_predict"
   ]
  },
  {
   "cell_type": "code",
   "execution_count": 6,
   "id": "6150c1ff-be0d-4212-b211-5de6f780b114",
   "metadata": {},
   "outputs": [
    {
     "data": {
      "image/png": "[encoded data removed]",
      "text/plain": [
       "<Figure size 720x432 with 1 Axes>"
      ]
     },
     "metadata": {
      "needs_background": "light"
     },
     "output_type": "display_data"
    }
   ],
   "source": [
    "plt.figure(figsize = (10, 6))\n",
    "\n",
    "plt.plot(X_new, y_predict, \"r--\")\n",
    "plt.plot(X, y, \"b.\")\n",
    "plt.axis([0, 2, 0, 15])\n",
    "plt.show()"
   ]
  },
  {
   "cell_type": "markdown",
   "id": "a6b00238-0df2-4549-997e-0a6ee77713bd",
   "metadata": {},
   "source": [
    "Más o menos se ajusta bien"
   ]
  },
  {
   "cell_type": "markdown",
   "id": "86f5c322-23b2-4116-b48d-a6a774b1741b",
   "metadata": {},
   "source": [
    "## Gradient Descent\n",
    "La idea es tocar los parámetros de la función para minimizar la función costo"
   ]
  },
  {
   "cell_type": "code",
   "execution_count": 7,
   "id": "a416e054-de3a-425f-8428-ca6feb4965aa",
   "metadata": {},
   "outputs": [],
   "source": [
    "# gradient descent a manopla\n",
    "eta = 0.1 # learning rate (greek letter eta)\n",
    "n_iterations = 1000\n",
    "m = 100\n",
    "theta = np.random.randn(2,1)  # random seed\n",
    "\n",
    "for iteration in range(n_iterations):\n",
    "    gradients = 2/m * X_b.T.dot(X_b.dot(theta) - y)\n",
    "    theta = theta - eta * gradients  # Esta es la parte iterativa! Calcula theta nuevo a partir del paso anterior!"
   ]
  },
  {
   "cell_type": "code",
   "execution_count": 8,
   "id": "4caa3365-0674-4346-aefd-9b22de5b7685",
   "metadata": {},
   "outputs": [
    {
     "data": {
      "text/plain": [
       "array([[4.04254954],\n",
       "       [2.80134064]])"
      ]
     },
     "execution_count": 8,
     "metadata": {},
     "output_type": "execute_result"
    }
   ],
   "source": [
    "theta"
   ]
  },
  {
   "cell_type": "markdown",
   "id": "e928ca03-795b-4294-85d2-4a67ada9d064",
   "metadata": {},
   "source": [
    "#### Si cambio eta, cambian los ajustes."
   ]
  },
  {
   "cell_type": "markdown",
   "id": "c225a47e-4e92-4973-be34-b70c4c4c3010",
   "metadata": {},
   "source": [
    "### Stochastic Gradient Descent with learning schedule."
   ]
  },
  {
   "cell_type": "code",
   "execution_count": 9,
   "id": "0c1bfd7f-665c-4985-8fa1-fbd359b31473",
   "metadata": {},
   "outputs": [],
   "source": [
    "m = 100  # ???\n",
    "n_epochs = 50  # Epochs to train\n",
    "t0, t1 = 5, 50  # learning schedule hyperparameters\n",
    "\n",
    "def learning_schedule(t):\n",
    "    return t0 / (t + t1)\n",
    "\n",
    "\n",
    "theta = np.random.randn(2,1)  # random seed\n",
    "for epoch in range(n_epochs):  # Una iteración\n",
    "    for i in range(m):  # No entiendo bien qué es m ...\n",
    "        random_index = np.random.randint(m)\n",
    "        xi = X_b[random_index:random_index+1]\n",
    "        yi = y[random_index:random_index+1]\n",
    "        gradients = 2 * xi.T.dot(xi.dot(theta) - yi)\n",
    "        eta = learning_schedule(epoch * m + i)\n",
    "        theta = theta - eta * gradients\n",
    "        "
   ]
  },
  {
   "cell_type": "code",
   "execution_count": 10,
   "id": "417c9293-6bd7-4904-96f3-6009a13735f8",
   "metadata": {},
   "outputs": [
    {
     "data": {
      "text/plain": [
       "array([[4.09300315],\n",
       "       [2.76716984]])"
      ]
     },
     "execution_count": 10,
     "metadata": {},
     "output_type": "execute_result"
    }
   ],
   "source": [
    "theta"
   ]
  },
  {
   "cell_type": "markdown",
   "id": "6847e3ea-aee1-481c-b22b-70832cfd6b0d",
   "metadata": {},
   "source": [
    "OK... SGD da parecido a BGD"
   ]
  },
  {
   "cell_type": "markdown",
   "id": "e69712c2-6221-4fbb-a81a-ac69deff21d3",
   "metadata": {},
   "source": [
    "SGD Linear Regression in sklearn"
   ]
  },
  {
   "cell_type": "code",
   "execution_count": 11,
   "id": "edaa1448-9477-4703-86fa-de6c93a33fc4",
   "metadata": {},
   "outputs": [
    {
     "data": {
      "text/plain": [
       "SGDRegressor(eta0=0.1, penalty=None)"
      ]
     },
     "execution_count": 11,
     "metadata": {},
     "output_type": "execute_result"
    }
   ],
   "source": [
    "from sklearn.linear_model import SGDRegressor\n",
    "\n",
    "sgd_reg = SGDRegressor(max_iter=1000, tol=1e-3, penalty=None, eta0=0.1)\n",
    "sgd_reg.fit(X, y.ravel())"
   ]
  },
  {
   "cell_type": "code",
   "execution_count": 12,
   "id": "d054010a-5867-497f-81e5-49168731949c",
   "metadata": {},
   "outputs": [
    {
     "data": {
      "text/plain": [
       "(array([4.01853929]), array([2.85609835]))"
      ]
     },
     "execution_count": 12,
     "metadata": {},
     "output_type": "execute_result"
    }
   ],
   "source": [
    "sgd_reg.intercept_, sgd_reg.coef_"
   ]
  },
  {
   "cell_type": "markdown",
   "id": "84234909-4a1e-4e63-824f-73c6db368988",
   "metadata": {},
   "source": [
    "OK. vemos que esta solución iterativa también converge a algo más o menos lógico"
   ]
  },
  {
   "cell_type": "code",
   "execution_count": null,
   "id": "fffac525-cd84-4765-8474-1b25bcf9e077",
   "metadata": {},
   "outputs": [],
   "source": []
  }
 ],
 "metadata": {
  "kernelspec": {
   "display_name": "ho_ml_kernel",
   "language": "python",
   "name": "ho_ml_kernel"
  },
  "language_info": {
   "codemirror_mode": {
    "name": "ipython",
    "version": 3
   },
   "file_extension": ".py",
   "mimetype": "text/x-python",
   "name": "python",
   "nbconvert_exporter": "python",
   "pygments_lexer": "ipython3",
   "version": "3.8.5"
  }
 },
 "nbformat": 4,
 "nbformat_minor": 5
}
