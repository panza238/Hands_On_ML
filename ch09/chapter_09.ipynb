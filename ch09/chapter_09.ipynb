{
 "cells": [
  {
   "cell_type": "markdown",
   "id": "3a2ab4e6-e070-48b6-88b3-24655fc8ab1b",
   "metadata": {},
   "source": [
    "# Chapter 9 - Unsupervised Learning"
   ]
  },
  {
   "cell_type": "code",
   "execution_count": 1,
   "id": "5cbd8f54-7dcc-4003-96df-18672107a5bd",
   "metadata": {},
   "outputs": [],
   "source": [
    "import pandas as pd \n",
    "import numpy as np"
   ]
  },
  {
   "cell_type": "code",
   "execution_count": 2,
   "id": "a5892059-5108-40a6-9bce-ebf262560692",
   "metadata": {},
   "outputs": [],
   "source": [
    "from sklearn.datasets import make_blobs"
   ]
  },
  {
   "cell_type": "code",
   "execution_count": 3,
   "id": "57ecbc9e-7970-4bde-a2bc-738e773ef3df",
   "metadata": {},
   "outputs": [],
   "source": [
    "X, y = make_blobs()"
   ]
  },
  {
   "cell_type": "code",
   "execution_count": 4,
   "id": "829fd171-9b2e-4630-8804-99d70cb6e1bd",
   "metadata": {},
   "outputs": [],
   "source": [
    "import matplotlib\n",
    "import matplotlib.pyplot as plt"
   ]
  },
  {
   "cell_type": "code",
   "execution_count": 5,
   "id": "e131b98b-83b1-43ee-8d6a-e9bbb4b6f409",
   "metadata": {},
   "outputs": [
    {
     "data": {
      "text/plain": [
       "(100, 2)"
      ]
     },
     "execution_count": 5,
     "metadata": {},
     "output_type": "execute_result"
    }
   ],
   "source": [
    "X.shape"
   ]
  },
  {
   "cell_type": "code",
   "execution_count": 6,
   "id": "abd94301-d95d-4659-9a4a-5c90c33c9a70",
   "metadata": {},
   "outputs": [
    {
     "data": {
      "text/plain": [
       "array([-5.85638465,  6.13356111])"
      ]
     },
     "execution_count": 6,
     "metadata": {},
     "output_type": "execute_result"
    }
   ],
   "source": [
    "X[0]"
   ]
  },
  {
   "cell_type": "code",
   "execution_count": 7,
   "id": "66284ee1-c9d5-4297-ad38-c64d5c30c64a",
   "metadata": {},
   "outputs": [
    {
     "data": {
      "text/plain": [
       "array([-5.85638465, -7.26379305, -7.18104541, -3.25560788, -6.71850471,\n",
       "        4.04154107, -5.87750317, -6.65530585, -2.85321511, -4.81274071,\n",
       "       -8.30946693, -2.55993299, -6.60797467,  0.7723598 ,  2.92291328,\n",
       "       -3.47547382, -6.48384678,  2.61035447, -2.67888228,  1.44044318,\n",
       "       -9.27552332, -6.96386963, -6.1413549 , -5.42680142,  4.28110297,\n",
       "        3.60822118, -6.98865927, -2.50262333, -4.20354437, -3.20739715,\n",
       "       -4.6082692 ,  2.3263182 ,  2.72441021, -4.18229783, -4.98077744,\n",
       "        3.46996317,  2.6898243 ,  2.99734905, -7.3603277 , -4.95876323,\n",
       "        1.48707561, -2.71788499,  2.0965256 , -4.46579188,  2.795534  ,\n",
       "       -6.75709446, -7.57564623,  3.45602965,  1.41272052,  3.17082616,\n",
       "       -3.76339457, -4.83018722, -3.30206872,  2.37279388,  4.20027202,\n",
       "       -4.04072282,  4.63422143, -8.15849248, -7.4089467 , -6.12255572,\n",
       "       -9.0821546 , -3.45283961,  0.40468842,  3.10801641, -2.83777214,\n",
       "       -3.34646881,  1.95767297, -3.77898209, -8.02062819, -7.04615171,\n",
       "       -3.77160587, -4.95205881, -5.50131771, -2.7315525 ,  3.63125005,\n",
       "       -2.96279452,  0.56039466, -7.34012106, -6.75556598, -1.88493025,\n",
       "        1.95695154,  0.39877723, -7.86730747, -2.36268028, -6.02983702,\n",
       "       -6.82118651,  3.35406099, -8.39881889,  3.05276838, -5.76423026,\n",
       "       -7.24932312,  1.99491375, -6.8514967 ,  1.12255026,  3.00204614,\n",
       "       -4.00197374, -4.33760747, -1.51631127,  2.72731063, -1.49200522])"
      ]
     },
     "execution_count": 7,
     "metadata": {},
     "output_type": "execute_result"
    }
   ],
   "source": [
    "X[:,0]"
   ]
  },
  {
   "cell_type": "code",
   "execution_count": 8,
   "id": "99b82ca1-6ec6-496d-807a-2383221f97ab",
   "metadata": {},
   "outputs": [
    {
     "data": {
      "image/png": "[encoded data removed]",
      "text/plain": [
       "<Figure size 432x288 with 1 Axes>"
      ]
     },
     "metadata": {
      "needs_background": "light"
     },
     "output_type": "display_data"
    }
   ],
   "source": [
    "plt.figure()\n",
    "plt.scatter(X[:, 0], X[:, 1])\n",
    "plt.show()"
   ]
  },
  {
   "cell_type": "markdown",
   "id": "62eeef3b-577e-4d7b-8aa8-295933acaaa1",
   "metadata": {},
   "source": [
    "OK... acá veo claramente los blobs"
   ]
  },
  {
   "cell_type": "code",
   "execution_count": 9,
   "id": "6f1452b4-49c7-459d-9604-a4509e331ade",
   "metadata": {},
   "outputs": [],
   "source": [
    "# Clustering\n",
    "\n",
    "from sklearn.cluster import KMeans\n",
    "k=3\n",
    "k_means = KMeans(n_clusters=k)\n",
    "y_pred = k_means.fit_predict(X)"
   ]
  },
  {
   "cell_type": "code",
   "execution_count": 10,
   "id": "8e37262d-607a-4015-a2ba-f985fa067f42",
   "metadata": {},
   "outputs": [
    {
     "data": {
      "text/plain": [
       "array([1, 1, 1, 2, 1, 0, 1, 1, 2, 2, 1, 2, 1, 0, 0, 2, 1, 0, 2, 0, 1, 1,\n",
       "       1, 1, 0, 0, 1, 2, 2, 2, 2, 0, 0, 2, 2, 0, 0, 0, 1, 2, 0, 2, 0, 2,\n",
       "       0, 1, 1, 0, 0, 0, 2, 2, 2, 0, 0, 2, 0, 1, 1, 1, 1, 2, 0, 0, 2, 2,\n",
       "       0, 2, 1, 1, 2, 2, 2, 2, 0, 2, 0, 1, 1, 2, 0, 0, 1, 2, 1, 1, 0, 1,\n",
       "       0, 2, 1, 0, 1, 0, 0, 2, 2, 2, 0, 2], dtype=int32)"
      ]
     },
     "execution_count": 10,
     "metadata": {},
     "output_type": "execute_result"
    }
   ],
   "source": [
    "y_pred"
   ]
  },
  {
   "cell_type": "code",
   "execution_count": 11,
   "id": "4f44efe2-1d41-4b81-bf0e-4a3ef3e6eec5",
   "metadata": {},
   "outputs": [
    {
     "data": {
      "text/plain": [
       "array([1, 1, 1, 2, 1, 0, 1, 1, 2, 2, 1, 2, 1, 0, 0, 2, 1, 0, 2, 0, 1, 1,\n",
       "       1, 1, 0, 0, 1, 2, 2, 2, 2, 0, 0, 2, 1, 0, 0, 0, 1, 2, 0, 2, 0, 2,\n",
       "       0, 1, 1, 0, 0, 0, 2, 1, 2, 0, 0, 2, 0, 1, 1, 1, 1, 2, 0, 0, 2, 2,\n",
       "       0, 2, 1, 1, 2, 2, 2, 2, 0, 2, 0, 1, 1, 2, 0, 0, 1, 2, 1, 1, 0, 1,\n",
       "       0, 2, 1, 0, 1, 0, 0, 2, 2, 2, 0, 2])"
      ]
     },
     "execution_count": 11,
     "metadata": {},
     "output_type": "execute_result"
    }
   ],
   "source": [
    "y"
   ]
  },
  {
   "cell_type": "markdown",
   "id": "6e8874d3-49bb-40da-a88e-6079f3acc1d8",
   "metadata": {},
   "source": [
    "Notar que los separó perfectamente"
   ]
  },
  {
   "cell_type": "code",
   "execution_count": 12,
   "id": "659c44d1-a886-4b09-85ba-398a6af1cd96",
   "metadata": {},
   "outputs": [
    {
     "data": {
      "text/plain": [
       "array([[ 2.55241768,  6.61461128],\n",
       "       [-7.11598994,  5.25061254],\n",
       "       [-3.60270589,  7.19143293]])"
      ]
     },
     "execution_count": 12,
     "metadata": {},
     "output_type": "execute_result"
    }
   ],
   "source": [
    "k_means.cluster_centers_"
   ]
  },
  {
   "cell_type": "code",
   "execution_count": 13,
   "id": "655792e2-3d5b-4f17-aa86-97e184c97162",
   "metadata": {},
   "outputs": [
    {
     "data": {
      "image/png": "[encoded data removed]",
      "text/plain": [
       "<Figure size 432x288 with 1 Axes>"
      ]
     },
     "metadata": {
      "needs_background": "light"
     },
     "output_type": "display_data"
    }
   ],
   "source": [
    "plt.figure()\n",
    "plt.scatter(X[:, 0], X[:, 1])\n",
    "plt.scatter(k_means.cluster_centers_[:, 0], k_means.cluster_centers_[:, 1], c=\"r\", edgecolors=\"g\", s=150)\n",
    "plt.show()"
   ]
  },
  {
   "cell_type": "markdown",
   "id": "b9fbe57c-10cf-4a71-95d2-bf4c13353a09",
   "metadata": {},
   "source": [
    "Ahí se ven claramente los centroides de los 3 blobs"
   ]
  },
  {
   "cell_type": "markdown",
   "id": "a21a3d92-d116-4acf-84d9-91e238f2f2d3",
   "metadata": {},
   "source": [
    "Con nuevas instancias, va a calcular a qué centroide se encuentra más próximo y va a predecir que la nueva instancia pertenece a ese cluster"
   ]
  },
  {
   "cell_type": "code",
   "execution_count": 14,
   "id": "b19bcbea-9934-4427-afbc-b846060a73f7",
   "metadata": {},
   "outputs": [
    {
     "data": {
      "image/png": "[encoded data removed]",
      "text/plain": [
       "<Figure size 432x288 with 1 Axes>"
      ]
     },
     "metadata": {
      "needs_background": "light"
     },
     "output_type": "display_data"
    }
   ],
   "source": [
    "new_random_instance = (np.random.rand(2) - 0.5) * 10\n",
    "new_random_instance\n",
    "\n",
    "plt.figure()\n",
    "plt.scatter(X[:, 0], X[:, 1])\n",
    "plt.scatter(k_means.cluster_centers_[:, 0], k_means.cluster_centers_[:, 1], c=\"r\", edgecolors=\"g\", s=150)\n",
    "plt.scatter(*new_random_instance, c=\"g\", edgecolors=\"r\", s=150)\n",
    "plt.show()"
   ]
  },
  {
   "cell_type": "code",
   "execution_count": 15,
   "id": "47485294-0cea-4d13-a669-a13eae9d44e2",
   "metadata": {},
   "outputs": [
    {
     "name": "stdout",
     "output_type": "stream",
     "text": [
      "[-4.56497824  0.4504902 ]\n"
     ]
    }
   ],
   "source": [
    "print(new_random_instance)"
   ]
  },
  {
   "cell_type": "code",
   "execution_count": 16,
   "id": "5fbc5f6e-335b-486d-98af-cfa8febf9fc5",
   "metadata": {},
   "outputs": [
    {
     "data": {
      "text/plain": [
       "array([1], dtype=int32)"
      ]
     },
     "execution_count": 16,
     "metadata": {},
     "output_type": "execute_result"
    }
   ],
   "source": [
    "k_means.predict(new_random_instance.reshape(1, -1))"
   ]
  },
  {
   "cell_type": "markdown",
   "id": "cca163f5-56ef-4a89-87fa-48db9a71fd70",
   "metadata": {},
   "source": [
    "Se ve que pertence al cluster 0. (que tiene coordenadas [-5.68529026, -4.51281943])"
   ]
  },
  {
   "cell_type": "code",
   "execution_count": 17,
   "id": "a35e4a4c-f3fb-42f5-a401-7f07029f5254",
   "metadata": {},
   "outputs": [
    {
     "data": {
      "text/plain": [
       "[9.415610089447217, 5.435884028632485, 6.809278741252174]"
      ]
     },
     "execution_count": 17,
     "metadata": {},
     "output_type": "execute_result"
    }
   ],
   "source": [
    "list(map(lambda x: np.linalg.norm(x - new_random_instance), k_means.cluster_centers_))"
   ]
  },
  {
   "cell_type": "markdown",
   "id": "963cd89b-da2f-466e-8849-42dbebba9a33",
   "metadata": {},
   "source": [
    "Se ve que tiene menor distancia al centroide del cluster 0"
   ]
  },
  {
   "cell_type": "code",
   "execution_count": 18,
   "id": "8fe177b5-7082-43e5-b5c7-a735d642081a",
   "metadata": {},
   "outputs": [
    {
     "data": {
      "text/plain": [
       "array([[9.41561009, 5.43588403, 6.80927874]])"
      ]
     },
     "execution_count": 18,
     "metadata": {},
     "output_type": "execute_result"
    }
   ],
   "source": [
    "# Otra forma de obtener las distancias a los centroides\n",
    "k_means.transform(new_random_instance.reshape(1, -1))"
   ]
  },
  {
   "cell_type": "markdown",
   "id": "4072d735-8ee4-4f03-a4f4-d3e5d5bd58de",
   "metadata": {},
   "source": [
    "## Eligiendo el número correcto de clusters"
   ]
  },
  {
   "cell_type": "code",
   "execution_count": 19,
   "id": "9732ef3c-a4cb-4e76-8b4a-9fac92e8ef83",
   "metadata": {},
   "outputs": [],
   "source": [
    "inertias = []\n",
    "\n",
    "for k in range(2, 8):\n",
    "    kmc = KMeans(n_clusters=k)\n",
    "    kmc.fit(X)\n",
    "    inertias.append(kmc.inertia_)\n",
    "    "
   ]
  },
  {
   "cell_type": "code",
   "execution_count": 20,
   "id": "1fb7635f-7aea-4dbc-9578-10a7e4c4b9eb",
   "metadata": {},
   "outputs": [
    {
     "data": {
      "image/png": "[encoded data removed]",
      "text/plain": [
       "<Figure size 432x288 with 1 Axes>"
      ]
     },
     "metadata": {
      "needs_background": "light"
     },
     "output_type": "display_data"
    }
   ],
   "source": [
    "plt.figure()\n",
    "plt.plot(inertias)\n",
    "plt.show()"
   ]
  },
  {
   "cell_type": "markdown",
   "id": "230fde70-9975-4d00-918f-486e4017e4b1",
   "metadata": {},
   "source": [
    "En este caso, en 3 clusters se ve el cambio de pendiente en la inertia! Entonces, 3 parece ser un buen número de clusters para elegir\n",
    "(0 es 2, 1 es 3, 2 es 4, etc.)"
   ]
  },
  {
   "cell_type": "markdown",
   "id": "bb945964-fba5-491d-9078-2a7938445624",
   "metadata": {},
   "source": [
    "### Otra forma (mejor, más fina) de medirlo, sería con el silhouette score"
   ]
  },
  {
   "cell_type": "code",
   "execution_count": 21,
   "id": "a5f80ae2-4604-43c5-bd3d-4d4dd21f527e",
   "metadata": {},
   "outputs": [
    {
     "data": {
      "text/plain": [
       "0.5996884941281112"
      ]
     },
     "execution_count": 21,
     "metadata": {},
     "output_type": "execute_result"
    }
   ],
   "source": [
    "from sklearn.metrics import silhouette_score\n",
    "\n",
    "silhouette_score(X, k_means.labels_)"
   ]
  },
  {
   "cell_type": "code",
   "execution_count": 22,
   "id": "0589781c-e993-464b-ba7e-4cc95dca5d57",
   "metadata": {},
   "outputs": [
    {
     "data": {
      "image/png": "[encoded data removed]",
      "text/plain": [
       "<Figure size 432x288 with 1 Axes>"
      ]
     },
     "metadata": {
      "needs_background": "light"
     },
     "output_type": "display_data"
    }
   ],
   "source": [
    "# Hago lo mismo que para el silhouette score\n",
    "s_scores = []\n",
    "\n",
    "for k in range(2, 10):\n",
    "    kmc = KMeans(n_clusters=k)\n",
    "    kmc.fit(X)\n",
    "    s_scores.append(silhouette_score(X, kmc.labels_))\n",
    "    \n",
    "plt.figure()\n",
    "plt.plot(s_scores)\n",
    "plt.show()"
   ]
  },
  {
   "cell_type": "markdown",
   "id": "d0665067-5536-4564-be35-70f72a436782",
   "metadata": {},
   "source": [
    "The higher, the better. Se ve que 3 clusters sería lo ideal."
   ]
  },
  {
   "cell_type": "markdown",
   "id": "295a7ced-e76c-426a-bcf1-e45fa9748177",
   "metadata": {},
   "source": [
    "## Clustering for Pre-Processing"
   ]
  },
  {
   "cell_type": "code",
   "execution_count": 23,
   "id": "b7ee6c4d-4892-4913-a260-b0d8c04cc35a",
   "metadata": {},
   "outputs": [],
   "source": [
    "from sklearn.datasets import load_digits\n",
    "X_digits, y_digits = load_digits(return_X_y=True)"
   ]
  },
  {
   "cell_type": "code",
   "execution_count": 24,
   "id": "6797a901-e31c-4cbd-817f-f27834257171",
   "metadata": {},
   "outputs": [],
   "source": [
    "from sklearn.model_selection import train_test_split\n",
    "X_train, X_test, y_train, y_test = train_test_split(X_digits, y_digits)"
   ]
  },
  {
   "cell_type": "code",
   "execution_count": 25,
   "id": "128d4d6f-3418-4134-9e04-d724cab2bae4",
   "metadata": {},
   "outputs": [
    {
     "name": "stderr",
     "output_type": "stream",
     "text": [
      "/home/panza/Desktop/Panza/Projects/virtual_envs/ho-ml/lib/python3.8/site-packages/sklearn/linear_model/_logistic.py:763: ConvergenceWarning: lbfgs failed to converge (status=1):\n",
      "STOP: TOTAL NO. of ITERATIONS REACHED LIMIT.\n",
      "\n",
      "Increase the number of iterations (max_iter) or scale the data as shown in:\n",
      "    https://scikit-learn.org/stable/modules/preprocessing.html\n",
      "Please also refer to the documentation for alternative solver options:\n",
      "    https://scikit-learn.org/stable/modules/linear_model.html#logistic-regression\n",
      "  n_iter_i = _check_optimize_result(\n"
     ]
    },
    {
     "data": {
      "text/plain": [
       "LogisticRegression()"
      ]
     },
     "execution_count": 25,
     "metadata": {},
     "output_type": "execute_result"
    }
   ],
   "source": [
    "from sklearn.linear_model import LogisticRegression\n",
    "log_reg = LogisticRegression()\n",
    "log_reg.fit(X_train, y_train)"
   ]
  },
  {
   "cell_type": "code",
   "execution_count": 26,
   "id": "aee6ea7f-fc2c-4f52-a6ca-2e69ac4c3111",
   "metadata": {},
   "outputs": [
    {
     "data": {
      "text/plain": [
       "0.9711111111111111"
      ]
     },
     "execution_count": 26,
     "metadata": {},
     "output_type": "execute_result"
    }
   ],
   "source": [
    "log_reg.score(X_test, y_test)"
   ]
  },
  {
   "cell_type": "markdown",
   "id": "d1eeb951-5c37-4b06-8d14-cdb5fa3baec4",
   "metadata": {},
   "source": [
    "Ok... 96.4 % Accuracy. (baseline)\n",
    "### Now, let's apply clusterring for preprocessing\n",
    "We will create a pipeline that will first cluster the training set into 50 clusters and replace the images with their distances to these 50 clusters, then apply a Logistic Regression model:"
   ]
  },
  {
   "cell_type": "code",
   "execution_count": 27,
   "id": "4aab6c12-d3ad-4fd2-bba0-c85759396864",
   "metadata": {},
   "outputs": [
    {
     "name": "stderr",
     "output_type": "stream",
     "text": [
      "/home/panza/Desktop/Panza/Projects/virtual_envs/ho-ml/lib/python3.8/site-packages/sklearn/linear_model/_logistic.py:763: ConvergenceWarning: lbfgs failed to converge (status=1):\n",
      "STOP: TOTAL NO. of ITERATIONS REACHED LIMIT.\n",
      "\n",
      "Increase the number of iterations (max_iter) or scale the data as shown in:\n",
      "    https://scikit-learn.org/stable/modules/preprocessing.html\n",
      "Please also refer to the documentation for alternative solver options:\n",
      "    https://scikit-learn.org/stable/modules/linear_model.html#logistic-regression\n",
      "  n_iter_i = _check_optimize_result(\n"
     ]
    },
    {
     "data": {
      "text/plain": [
       "Pipeline(steps=[('kmeans', KMeans(n_clusters=54)),\n",
       "                ('log_reg', LogisticRegression())])"
      ]
     },
     "execution_count": 27,
     "metadata": {},
     "output_type": "execute_result"
    }
   ],
   "source": [
    "from sklearn.pipeline import Pipeline\n",
    "pipeline = Pipeline([\n",
    "    (\"kmeans\", KMeans(n_clusters=54)),  # Esto separa en 50 clusters y reemplaza cada imagen por la distancia al centroide del cluster más cercano\n",
    "    (\"log_reg\", LogisticRegression()),\n",
    "])\n",
    "pipeline.fit(X_train, y_train)"
   ]
  },
  {
   "cell_type": "code",
   "execution_count": 28,
   "id": "27066d20-8086-45c2-a9e4-1d42e1a128d4",
   "metadata": {},
   "outputs": [
    {
     "data": {
      "text/plain": [
       "0.9644444444444444"
      ]
     },
     "execution_count": 28,
     "metadata": {},
     "output_type": "execute_result"
    }
   ],
   "source": [
    "pipeline.score(X_test, y_test)"
   ]
  },
  {
   "cell_type": "markdown",
   "id": "34c8f03a-c2f0-403d-aa13-407ed74bf376",
   "metadata": {},
   "source": [
    "OK... it performed slightly worse... But the general idea is that it should perform better..."
   ]
  },
  {
   "cell_type": "code",
   "execution_count": 29,
   "id": "4cb5622e-f517-45e1-886a-42f51cd33194",
   "metadata": {
    "collapsed": true,
    "jupyter": {
     "outputs_hidden": true
    },
    "tags": []
   },
   "outputs": [
    {
     "name": "stderr",
     "output_type": "stream",
     "text": [
      "/home/panza/Desktop/Panza/Projects/virtual_envs/ho-ml/lib/python3.8/site-packages/sklearn/linear_model/_logistic.py:763: ConvergenceWarning: lbfgs failed to converge (status=1):\n",
      "STOP: TOTAL NO. of ITERATIONS REACHED LIMIT.\n",
      "\n",
      "Increase the number of iterations (max_iter) or scale the data as shown in:\n",
      "    https://scikit-learn.org/stable/modules/preprocessing.html\n",
      "Please also refer to the documentation for alternative solver options:\n",
      "    https://scikit-learn.org/stable/modules/linear_model.html#logistic-regression\n",
      "  n_iter_i = _check_optimize_result(\n",
      "/home/panza/Desktop/Panza/Projects/virtual_envs/ho-ml/lib/python3.8/site-packages/sklearn/linear_model/_logistic.py:763: ConvergenceWarning: lbfgs failed to converge (status=1):\n",
      "STOP: TOTAL NO. of ITERATIONS REACHED LIMIT.\n",
      "\n",
      "Increase the number of iterations (max_iter) or scale the data as shown in:\n",
      "    https://scikit-learn.org/stable/modules/preprocessing.html\n",
      "Please also refer to the documentation for alternative solver options:\n",
      "    https://scikit-learn.org/stable/modules/linear_model.html#logistic-regression\n",
      "  n_iter_i = _check_optimize_result(\n",
      "/home/panza/Desktop/Panza/Projects/virtual_envs/ho-ml/lib/python3.8/site-packages/sklearn/linear_model/_logistic.py:763: ConvergenceWarning: lbfgs failed to converge (status=1):\n",
      "STOP: TOTAL NO. of ITERATIONS REACHED LIMIT.\n",
      "\n",
      "Increase the number of iterations (max_iter) or scale the data as shown in:\n",
      "    https://scikit-learn.org/stable/modules/preprocessing.html\n",
      "Please also refer to the documentation for alternative solver options:\n",
      "    https://scikit-learn.org/stable/modules/linear_model.html#logistic-regression\n",
      "  n_iter_i = _check_optimize_result(\n",
      "/home/panza/Desktop/Panza/Projects/virtual_envs/ho-ml/lib/python3.8/site-packages/sklearn/linear_model/_logistic.py:763: ConvergenceWarning: lbfgs failed to converge (status=1):\n",
      "STOP: TOTAL NO. of ITERATIONS REACHED LIMIT.\n",
      "\n",
      "Increase the number of iterations (max_iter) or scale the data as shown in:\n",
      "    https://scikit-learn.org/stable/modules/preprocessing.html\n",
      "Please also refer to the documentation for alternative solver options:\n",
      "    https://scikit-learn.org/stable/modules/linear_model.html#logistic-regression\n",
      "  n_iter_i = _check_optimize_result(\n",
      "/home/panza/Desktop/Panza/Projects/virtual_envs/ho-ml/lib/python3.8/site-packages/sklearn/linear_model/_logistic.py:763: ConvergenceWarning: lbfgs failed to converge (status=1):\n",
      "STOP: TOTAL NO. of ITERATIONS REACHED LIMIT.\n",
      "\n",
      "Increase the number of iterations (max_iter) or scale the data as shown in:\n",
      "    https://scikit-learn.org/stable/modules/preprocessing.html\n",
      "Please also refer to the documentation for alternative solver options:\n",
      "    https://scikit-learn.org/stable/modules/linear_model.html#logistic-regression\n",
      "  n_iter_i = _check_optimize_result(\n",
      "/home/panza/Desktop/Panza/Projects/virtual_envs/ho-ml/lib/python3.8/site-packages/sklearn/linear_model/_logistic.py:763: ConvergenceWarning: lbfgs failed to converge (status=1):\n",
      "STOP: TOTAL NO. of ITERATIONS REACHED LIMIT.\n",
      "\n",
      "Increase the number of iterations (max_iter) or scale the data as shown in:\n",
      "    https://scikit-learn.org/stable/modules/preprocessing.html\n",
      "Please also refer to the documentation for alternative solver options:\n",
      "    https://scikit-learn.org/stable/modules/linear_model.html#logistic-regression\n",
      "  n_iter_i = _check_optimize_result(\n",
      "/home/panza/Desktop/Panza/Projects/virtual_envs/ho-ml/lib/python3.8/site-packages/sklearn/linear_model/_logistic.py:763: ConvergenceWarning: lbfgs failed to converge (status=1):\n",
      "STOP: TOTAL NO. of ITERATIONS REACHED LIMIT.\n",
      "\n",
      "Increase the number of iterations (max_iter) or scale the data as shown in:\n",
      "    https://scikit-learn.org/stable/modules/preprocessing.html\n",
      "Please also refer to the documentation for alternative solver options:\n",
      "    https://scikit-learn.org/stable/modules/linear_model.html#logistic-regression\n",
      "  n_iter_i = _check_optimize_result(\n",
      "/home/panza/Desktop/Panza/Projects/virtual_envs/ho-ml/lib/python3.8/site-packages/sklearn/linear_model/_logistic.py:763: ConvergenceWarning: lbfgs failed to converge (status=1):\n",
      "STOP: TOTAL NO. of ITERATIONS REACHED LIMIT.\n",
      "\n",
      "Increase the number of iterations (max_iter) or scale the data as shown in:\n",
      "    https://scikit-learn.org/stable/modules/preprocessing.html\n",
      "Please also refer to the documentation for alternative solver options:\n",
      "    https://scikit-learn.org/stable/modules/linear_model.html#logistic-regression\n",
      "  n_iter_i = _check_optimize_result(\n",
      "/home/panza/Desktop/Panza/Projects/virtual_envs/ho-ml/lib/python3.8/site-packages/sklearn/linear_model/_logistic.py:763: ConvergenceWarning: lbfgs failed to converge (status=1):\n",
      "STOP: TOTAL NO. of ITERATIONS REACHED LIMIT.\n",
      "\n",
      "Increase the number of iterations (max_iter) or scale the data as shown in:\n",
      "    https://scikit-learn.org/stable/modules/preprocessing.html\n",
      "Please also refer to the documentation for alternative solver options:\n",
      "    https://scikit-learn.org/stable/modules/linear_model.html#logistic-regression\n",
      "  n_iter_i = _check_optimize_result(\n",
      "/home/panza/Desktop/Panza/Projects/virtual_envs/ho-ml/lib/python3.8/site-packages/sklearn/linear_model/_logistic.py:763: ConvergenceWarning: lbfgs failed to converge (status=1):\n",
      "STOP: TOTAL NO. of ITERATIONS REACHED LIMIT.\n",
      "\n",
      "Increase the number of iterations (max_iter) or scale the data as shown in:\n",
      "    https://scikit-learn.org/stable/modules/preprocessing.html\n",
      "Please also refer to the documentation for alternative solver options:\n",
      "    https://scikit-learn.org/stable/modules/linear_model.html#logistic-regression\n",
      "  n_iter_i = _check_optimize_result(\n",
      "/home/panza/Desktop/Panza/Projects/virtual_envs/ho-ml/lib/python3.8/site-packages/sklearn/linear_model/_logistic.py:763: ConvergenceWarning: lbfgs failed to converge (status=1):\n",
      "STOP: TOTAL NO. of ITERATIONS REACHED LIMIT.\n",
      "\n",
      "Increase the number of iterations (max_iter) or scale the data as shown in:\n",
      "    https://scikit-learn.org/stable/modules/preprocessing.html\n",
      "Please also refer to the documentation for alternative solver options:\n",
      "    https://scikit-learn.org/stable/modules/linear_model.html#logistic-regression\n",
      "  n_iter_i = _check_optimize_result(\n",
      "/home/panza/Desktop/Panza/Projects/virtual_envs/ho-ml/lib/python3.8/site-packages/sklearn/linear_model/_logistic.py:763: ConvergenceWarning: lbfgs failed to converge (status=1):\n",
      "STOP: TOTAL NO. of ITERATIONS REACHED LIMIT.\n",
      "\n",
      "Increase the number of iterations (max_iter) or scale the data as shown in:\n",
      "    https://scikit-learn.org/stable/modules/preprocessing.html\n",
      "Please also refer to the documentation for alternative solver options:\n",
      "    https://scikit-learn.org/stable/modules/linear_model.html#logistic-regression\n",
      "  n_iter_i = _check_optimize_result(\n",
      "/home/panza/Desktop/Panza/Projects/virtual_envs/ho-ml/lib/python3.8/site-packages/sklearn/linear_model/_logistic.py:763: ConvergenceWarning: lbfgs failed to converge (status=1):\n",
      "STOP: TOTAL NO. of ITERATIONS REACHED LIMIT.\n",
      "\n",
      "Increase the number of iterations (max_iter) or scale the data as shown in:\n",
      "    https://scikit-learn.org/stable/modules/preprocessing.html\n",
      "Please also refer to the documentation for alternative solver options:\n",
      "    https://scikit-learn.org/stable/modules/linear_model.html#logistic-regression\n",
      "  n_iter_i = _check_optimize_result(\n",
      "/home/panza/Desktop/Panza/Projects/virtual_envs/ho-ml/lib/python3.8/site-packages/sklearn/linear_model/_logistic.py:763: ConvergenceWarning: lbfgs failed to converge (status=1):\n",
      "STOP: TOTAL NO. of ITERATIONS REACHED LIMIT.\n",
      "\n",
      "Increase the number of iterations (max_iter) or scale the data as shown in:\n",
      "    https://scikit-learn.org/stable/modules/preprocessing.html\n",
      "Please also refer to the documentation for alternative solver options:\n",
      "    https://scikit-learn.org/stable/modules/linear_model.html#logistic-regression\n",
      "  n_iter_i = _check_optimize_result(\n",
      "/home/panza/Desktop/Panza/Projects/virtual_envs/ho-ml/lib/python3.8/site-packages/sklearn/linear_model/_logistic.py:763: ConvergenceWarning: lbfgs failed to converge (status=1):\n",
      "STOP: TOTAL NO. of ITERATIONS REACHED LIMIT.\n",
      "\n",
      "Increase the number of iterations (max_iter) or scale the data as shown in:\n",
      "    https://scikit-learn.org/stable/modules/preprocessing.html\n",
      "Please also refer to the documentation for alternative solver options:\n",
      "    https://scikit-learn.org/stable/modules/linear_model.html#logistic-regression\n",
      "  n_iter_i = _check_optimize_result(\n",
      "/home/panza/Desktop/Panza/Projects/virtual_envs/ho-ml/lib/python3.8/site-packages/sklearn/linear_model/_logistic.py:763: ConvergenceWarning: lbfgs failed to converge (status=1):\n",
      "STOP: TOTAL NO. of ITERATIONS REACHED LIMIT.\n",
      "\n",
      "Increase the number of iterations (max_iter) or scale the data as shown in:\n",
      "    https://scikit-learn.org/stable/modules/preprocessing.html\n",
      "Please also refer to the documentation for alternative solver options:\n",
      "    https://scikit-learn.org/stable/modules/linear_model.html#logistic-regression\n",
      "  n_iter_i = _check_optimize_result(\n",
      "/home/panza/Desktop/Panza/Projects/virtual_envs/ho-ml/lib/python3.8/site-packages/sklearn/linear_model/_logistic.py:763: ConvergenceWarning: lbfgs failed to converge (status=1):\n",
      "STOP: TOTAL NO. of ITERATIONS REACHED LIMIT.\n",
      "\n",
      "Increase the number of iterations (max_iter) or scale the data as shown in:\n",
      "    https://scikit-learn.org/stable/modules/preprocessing.html\n",
      "Please also refer to the documentation for alternative solver options:\n",
      "    https://scikit-learn.org/stable/modules/linear_model.html#logistic-regression\n",
      "  n_iter_i = _check_optimize_result(\n",
      "/home/panza/Desktop/Panza/Projects/virtual_envs/ho-ml/lib/python3.8/site-packages/sklearn/linear_model/_logistic.py:763: ConvergenceWarning: lbfgs failed to converge (status=1):\n",
      "STOP: TOTAL NO. of ITERATIONS REACHED LIMIT.\n",
      "\n",
      "Increase the number of iterations (max_iter) or scale the data as shown in:\n",
      "    https://scikit-learn.org/stable/modules/preprocessing.html\n",
      "Please also refer to the documentation for alternative solver options:\n",
      "    https://scikit-learn.org/stable/modules/linear_model.html#logistic-regression\n",
      "  n_iter_i = _check_optimize_result(\n",
      "/home/panza/Desktop/Panza/Projects/virtual_envs/ho-ml/lib/python3.8/site-packages/sklearn/linear_model/_logistic.py:763: ConvergenceWarning: lbfgs failed to converge (status=1):\n",
      "STOP: TOTAL NO. of ITERATIONS REACHED LIMIT.\n",
      "\n",
      "Increase the number of iterations (max_iter) or scale the data as shown in:\n",
      "    https://scikit-learn.org/stable/modules/preprocessing.html\n",
      "Please also refer to the documentation for alternative solver options:\n",
      "    https://scikit-learn.org/stable/modules/linear_model.html#logistic-regression\n",
      "  n_iter_i = _check_optimize_result(\n",
      "/home/panza/Desktop/Panza/Projects/virtual_envs/ho-ml/lib/python3.8/site-packages/sklearn/linear_model/_logistic.py:763: ConvergenceWarning: lbfgs failed to converge (status=1):\n",
      "STOP: TOTAL NO. of ITERATIONS REACHED LIMIT.\n",
      "\n",
      "Increase the number of iterations (max_iter) or scale the data as shown in:\n",
      "    https://scikit-learn.org/stable/modules/preprocessing.html\n",
      "Please also refer to the documentation for alternative solver options:\n",
      "    https://scikit-learn.org/stable/modules/linear_model.html#logistic-regression\n",
      "  n_iter_i = _check_optimize_result(\n",
      "/home/panza/Desktop/Panza/Projects/virtual_envs/ho-ml/lib/python3.8/site-packages/sklearn/linear_model/_logistic.py:763: ConvergenceWarning: lbfgs failed to converge (status=1):\n",
      "STOP: TOTAL NO. of ITERATIONS REACHED LIMIT.\n",
      "\n",
      "Increase the number of iterations (max_iter) or scale the data as shown in:\n",
      "    https://scikit-learn.org/stable/modules/preprocessing.html\n",
      "Please also refer to the documentation for alternative solver options:\n",
      "    https://scikit-learn.org/stable/modules/linear_model.html#logistic-regression\n",
      "  n_iter_i = _check_optimize_result(\n",
      "/home/panza/Desktop/Panza/Projects/virtual_envs/ho-ml/lib/python3.8/site-packages/sklearn/linear_model/_logistic.py:763: ConvergenceWarning: lbfgs failed to converge (status=1):\n",
      "STOP: TOTAL NO. of ITERATIONS REACHED LIMIT.\n",
      "\n",
      "Increase the number of iterations (max_iter) or scale the data as shown in:\n",
      "    https://scikit-learn.org/stable/modules/preprocessing.html\n",
      "Please also refer to the documentation for alternative solver options:\n",
      "    https://scikit-learn.org/stable/modules/linear_model.html#logistic-regression\n",
      "  n_iter_i = _check_optimize_result(\n",
      "/home/panza/Desktop/Panza/Projects/virtual_envs/ho-ml/lib/python3.8/site-packages/sklearn/linear_model/_logistic.py:763: ConvergenceWarning: lbfgs failed to converge (status=1):\n",
      "STOP: TOTAL NO. of ITERATIONS REACHED LIMIT.\n",
      "\n",
      "Increase the number of iterations (max_iter) or scale the data as shown in:\n",
      "    https://scikit-learn.org/stable/modules/preprocessing.html\n",
      "Please also refer to the documentation for alternative solver options:\n",
      "    https://scikit-learn.org/stable/modules/linear_model.html#logistic-regression\n",
      "  n_iter_i = _check_optimize_result(\n",
      "/home/panza/Desktop/Panza/Projects/virtual_envs/ho-ml/lib/python3.8/site-packages/sklearn/linear_model/_logistic.py:763: ConvergenceWarning: lbfgs failed to converge (status=1):\n",
      "STOP: TOTAL NO. of ITERATIONS REACHED LIMIT.\n",
      "\n",
      "Increase the number of iterations (max_iter) or scale the data as shown in:\n",
      "    https://scikit-learn.org/stable/modules/preprocessing.html\n",
      "Please also refer to the documentation for alternative solver options:\n",
      "    https://scikit-learn.org/stable/modules/linear_model.html#logistic-regression\n",
      "  n_iter_i = _check_optimize_result(\n",
      "/home/panza/Desktop/Panza/Projects/virtual_envs/ho-ml/lib/python3.8/site-packages/sklearn/linear_model/_logistic.py:763: ConvergenceWarning: lbfgs failed to converge (status=1):\n",
      "STOP: TOTAL NO. of ITERATIONS REACHED LIMIT.\n",
      "\n",
      "Increase the number of iterations (max_iter) or scale the data as shown in:\n",
      "    https://scikit-learn.org/stable/modules/preprocessing.html\n",
      "Please also refer to the documentation for alternative solver options:\n",
      "    https://scikit-learn.org/stable/modules/linear_model.html#logistic-regression\n",
      "  n_iter_i = _check_optimize_result(\n",
      "/home/panza/Desktop/Panza/Projects/virtual_envs/ho-ml/lib/python3.8/site-packages/sklearn/linear_model/_logistic.py:763: ConvergenceWarning: lbfgs failed to converge (status=1):\n",
      "STOP: TOTAL NO. of ITERATIONS REACHED LIMIT.\n",
      "\n",
      "Increase the number of iterations (max_iter) or scale the data as shown in:\n",
      "    https://scikit-learn.org/stable/modules/preprocessing.html\n",
      "Please also refer to the documentation for alternative solver options:\n",
      "    https://scikit-learn.org/stable/modules/linear_model.html#logistic-regression\n",
      "  n_iter_i = _check_optimize_result(\n",
      "/home/panza/Desktop/Panza/Projects/virtual_envs/ho-ml/lib/python3.8/site-packages/sklearn/linear_model/_logistic.py:763: ConvergenceWarning: lbfgs failed to converge (status=1):\n",
      "STOP: TOTAL NO. of ITERATIONS REACHED LIMIT.\n",
      "\n",
      "Increase the number of iterations (max_iter) or scale the data as shown in:\n",
      "    https://scikit-learn.org/stable/modules/preprocessing.html\n",
      "Please also refer to the documentation for alternative solver options:\n",
      "    https://scikit-learn.org/stable/modules/linear_model.html#logistic-regression\n",
      "  n_iter_i = _check_optimize_result(\n",
      "/home/panza/Desktop/Panza/Projects/virtual_envs/ho-ml/lib/python3.8/site-packages/sklearn/linear_model/_logistic.py:763: ConvergenceWarning: lbfgs failed to converge (status=1):\n",
      "STOP: TOTAL NO. of ITERATIONS REACHED LIMIT.\n",
      "\n",
      "Increase the number of iterations (max_iter) or scale the data as shown in:\n",
      "    https://scikit-learn.org/stable/modules/preprocessing.html\n",
      "Please also refer to the documentation for alternative solver options:\n",
      "    https://scikit-learn.org/stable/modules/linear_model.html#logistic-regression\n",
      "  n_iter_i = _check_optimize_result(\n",
      "/home/panza/Desktop/Panza/Projects/virtual_envs/ho-ml/lib/python3.8/site-packages/sklearn/linear_model/_logistic.py:763: ConvergenceWarning: lbfgs failed to converge (status=1):\n",
      "STOP: TOTAL NO. of ITERATIONS REACHED LIMIT.\n",
      "\n",
      "Increase the number of iterations (max_iter) or scale the data as shown in:\n",
      "    https://scikit-learn.org/stable/modules/preprocessing.html\n",
      "Please also refer to the documentation for alternative solver options:\n",
      "    https://scikit-learn.org/stable/modules/linear_model.html#logistic-regression\n",
      "  n_iter_i = _check_optimize_result(\n",
      "/home/panza/Desktop/Panza/Projects/virtual_envs/ho-ml/lib/python3.8/site-packages/sklearn/linear_model/_logistic.py:763: ConvergenceWarning: lbfgs failed to converge (status=1):\n",
      "STOP: TOTAL NO. of ITERATIONS REACHED LIMIT.\n",
      "\n",
      "Increase the number of iterations (max_iter) or scale the data as shown in:\n",
      "    https://scikit-learn.org/stable/modules/preprocessing.html\n",
      "Please also refer to the documentation for alternative solver options:\n",
      "    https://scikit-learn.org/stable/modules/linear_model.html#logistic-regression\n",
      "  n_iter_i = _check_optimize_result(\n",
      "/home/panza/Desktop/Panza/Projects/virtual_envs/ho-ml/lib/python3.8/site-packages/sklearn/linear_model/_logistic.py:763: ConvergenceWarning: lbfgs failed to converge (status=1):\n",
      "STOP: TOTAL NO. of ITERATIONS REACHED LIMIT.\n",
      "\n",
      "Increase the number of iterations (max_iter) or scale the data as shown in:\n",
      "    https://scikit-learn.org/stable/modules/preprocessing.html\n",
      "Please also refer to the documentation for alternative solver options:\n",
      "    https://scikit-learn.org/stable/modules/linear_model.html#logistic-regression\n",
      "  n_iter_i = _check_optimize_result(\n",
      "/home/panza/Desktop/Panza/Projects/virtual_envs/ho-ml/lib/python3.8/site-packages/sklearn/linear_model/_logistic.py:763: ConvergenceWarning: lbfgs failed to converge (status=1):\n",
      "STOP: TOTAL NO. of ITERATIONS REACHED LIMIT.\n",
      "\n",
      "Increase the number of iterations (max_iter) or scale the data as shown in:\n",
      "    https://scikit-learn.org/stable/modules/preprocessing.html\n",
      "Please also refer to the documentation for alternative solver options:\n",
      "    https://scikit-learn.org/stable/modules/linear_model.html#logistic-regression\n",
      "  n_iter_i = _check_optimize_result(\n",
      "/home/panza/Desktop/Panza/Projects/virtual_envs/ho-ml/lib/python3.8/site-packages/sklearn/linear_model/_logistic.py:763: ConvergenceWarning: lbfgs failed to converge (status=1):\n",
      "STOP: TOTAL NO. of ITERATIONS REACHED LIMIT.\n",
      "\n",
      "Increase the number of iterations (max_iter) or scale the data as shown in:\n",
      "    https://scikit-learn.org/stable/modules/preprocessing.html\n",
      "Please also refer to the documentation for alternative solver options:\n",
      "    https://scikit-learn.org/stable/modules/linear_model.html#logistic-regression\n",
      "  n_iter_i = _check_optimize_result(\n",
      "/home/panza/Desktop/Panza/Projects/virtual_envs/ho-ml/lib/python3.8/site-packages/sklearn/linear_model/_logistic.py:763: ConvergenceWarning: lbfgs failed to converge (status=1):\n",
      "STOP: TOTAL NO. of ITERATIONS REACHED LIMIT.\n",
      "\n",
      "Increase the number of iterations (max_iter) or scale the data as shown in:\n",
      "    https://scikit-learn.org/stable/modules/preprocessing.html\n",
      "Please also refer to the documentation for alternative solver options:\n",
      "    https://scikit-learn.org/stable/modules/linear_model.html#logistic-regression\n",
      "  n_iter_i = _check_optimize_result(\n",
      "/home/panza/Desktop/Panza/Projects/virtual_envs/ho-ml/lib/python3.8/site-packages/sklearn/linear_model/_logistic.py:763: ConvergenceWarning: lbfgs failed to converge (status=1):\n",
      "STOP: TOTAL NO. of ITERATIONS REACHED LIMIT.\n",
      "\n",
      "Increase the number of iterations (max_iter) or scale the data as shown in:\n",
      "    https://scikit-learn.org/stable/modules/preprocessing.html\n",
      "Please also refer to the documentation for alternative solver options:\n",
      "    https://scikit-learn.org/stable/modules/linear_model.html#logistic-regression\n",
      "  n_iter_i = _check_optimize_result(\n",
      "/home/panza/Desktop/Panza/Projects/virtual_envs/ho-ml/lib/python3.8/site-packages/sklearn/linear_model/_logistic.py:763: ConvergenceWarning: lbfgs failed to converge (status=1):\n",
      "STOP: TOTAL NO. of ITERATIONS REACHED LIMIT.\n",
      "\n",
      "Increase the number of iterations (max_iter) or scale the data as shown in:\n",
      "    https://scikit-learn.org/stable/modules/preprocessing.html\n",
      "Please also refer to the documentation for alternative solver options:\n",
      "    https://scikit-learn.org/stable/modules/linear_model.html#logistic-regression\n",
      "  n_iter_i = _check_optimize_result(\n",
      "/home/panza/Desktop/Panza/Projects/virtual_envs/ho-ml/lib/python3.8/site-packages/sklearn/linear_model/_logistic.py:763: ConvergenceWarning: lbfgs failed to converge (status=1):\n",
      "STOP: TOTAL NO. of ITERATIONS REACHED LIMIT.\n",
      "\n",
      "Increase the number of iterations (max_iter) or scale the data as shown in:\n",
      "    https://scikit-learn.org/stable/modules/preprocessing.html\n",
      "Please also refer to the documentation for alternative solver options:\n",
      "    https://scikit-learn.org/stable/modules/linear_model.html#logistic-regression\n",
      "  n_iter_i = _check_optimize_result(\n",
      "/home/panza/Desktop/Panza/Projects/virtual_envs/ho-ml/lib/python3.8/site-packages/sklearn/linear_model/_logistic.py:763: ConvergenceWarning: lbfgs failed to converge (status=1):\n",
      "STOP: TOTAL NO. of ITERATIONS REACHED LIMIT.\n",
      "\n",
      "Increase the number of iterations (max_iter) or scale the data as shown in:\n",
      "    https://scikit-learn.org/stable/modules/preprocessing.html\n",
      "Please also refer to the documentation for alternative solver options:\n",
      "    https://scikit-learn.org/stable/modules/linear_model.html#logistic-regression\n",
      "  n_iter_i = _check_optimize_result(\n",
      "/home/panza/Desktop/Panza/Projects/virtual_envs/ho-ml/lib/python3.8/site-packages/sklearn/linear_model/_logistic.py:763: ConvergenceWarning: lbfgs failed to converge (status=1):\n",
      "STOP: TOTAL NO. of ITERATIONS REACHED LIMIT.\n",
      "\n",
      "Increase the number of iterations (max_iter) or scale the data as shown in:\n",
      "    https://scikit-learn.org/stable/modules/preprocessing.html\n",
      "Please also refer to the documentation for alternative solver options:\n",
      "    https://scikit-learn.org/stable/modules/linear_model.html#logistic-regression\n",
      "  n_iter_i = _check_optimize_result(\n",
      "/home/panza/Desktop/Panza/Projects/virtual_envs/ho-ml/lib/python3.8/site-packages/sklearn/linear_model/_logistic.py:763: ConvergenceWarning: lbfgs failed to converge (status=1):\n",
      "STOP: TOTAL NO. of ITERATIONS REACHED LIMIT.\n",
      "\n",
      "Increase the number of iterations (max_iter) or scale the data as shown in:\n",
      "    https://scikit-learn.org/stable/modules/preprocessing.html\n",
      "Please also refer to the documentation for alternative solver options:\n",
      "    https://scikit-learn.org/stable/modules/linear_model.html#logistic-regression\n",
      "  n_iter_i = _check_optimize_result(\n",
      "/home/panza/Desktop/Panza/Projects/virtual_envs/ho-ml/lib/python3.8/site-packages/sklearn/linear_model/_logistic.py:763: ConvergenceWarning: lbfgs failed to converge (status=1):\n",
      "STOP: TOTAL NO. of ITERATIONS REACHED LIMIT.\n",
      "\n",
      "Increase the number of iterations (max_iter) or scale the data as shown in:\n",
      "    https://scikit-learn.org/stable/modules/preprocessing.html\n",
      "Please also refer to the documentation for alternative solver options:\n",
      "    https://scikit-learn.org/stable/modules/linear_model.html#logistic-regression\n",
      "  n_iter_i = _check_optimize_result(\n",
      "/home/panza/Desktop/Panza/Projects/virtual_envs/ho-ml/lib/python3.8/site-packages/sklearn/linear_model/_logistic.py:763: ConvergenceWarning: lbfgs failed to converge (status=1):\n",
      "STOP: TOTAL NO. of ITERATIONS REACHED LIMIT.\n",
      "\n",
      "Increase the number of iterations (max_iter) or scale the data as shown in:\n",
      "    https://scikit-learn.org/stable/modules/preprocessing.html\n",
      "Please also refer to the documentation for alternative solver options:\n",
      "    https://scikit-learn.org/stable/modules/linear_model.html#logistic-regression\n",
      "  n_iter_i = _check_optimize_result(\n",
      "/home/panza/Desktop/Panza/Projects/virtual_envs/ho-ml/lib/python3.8/site-packages/sklearn/linear_model/_logistic.py:763: ConvergenceWarning: lbfgs failed to converge (status=1):\n",
      "STOP: TOTAL NO. of ITERATIONS REACHED LIMIT.\n",
      "\n",
      "Increase the number of iterations (max_iter) or scale the data as shown in:\n",
      "    https://scikit-learn.org/stable/modules/preprocessing.html\n",
      "Please also refer to the documentation for alternative solver options:\n",
      "    https://scikit-learn.org/stable/modules/linear_model.html#logistic-regression\n",
      "  n_iter_i = _check_optimize_result(\n",
      "/home/panza/Desktop/Panza/Projects/virtual_envs/ho-ml/lib/python3.8/site-packages/sklearn/linear_model/_logistic.py:763: ConvergenceWarning: lbfgs failed to converge (status=1):\n",
      "STOP: TOTAL NO. of ITERATIONS REACHED LIMIT.\n",
      "\n",
      "Increase the number of iterations (max_iter) or scale the data as shown in:\n",
      "    https://scikit-learn.org/stable/modules/preprocessing.html\n",
      "Please also refer to the documentation for alternative solver options:\n",
      "    https://scikit-learn.org/stable/modules/linear_model.html#logistic-regression\n",
      "  n_iter_i = _check_optimize_result(\n",
      "/home/panza/Desktop/Panza/Projects/virtual_envs/ho-ml/lib/python3.8/site-packages/sklearn/linear_model/_logistic.py:763: ConvergenceWarning: lbfgs failed to converge (status=1):\n",
      "STOP: TOTAL NO. of ITERATIONS REACHED LIMIT.\n",
      "\n",
      "Increase the number of iterations (max_iter) or scale the data as shown in:\n",
      "    https://scikit-learn.org/stable/modules/preprocessing.html\n",
      "Please also refer to the documentation for alternative solver options:\n",
      "    https://scikit-learn.org/stable/modules/linear_model.html#logistic-regression\n",
      "  n_iter_i = _check_optimize_result(\n",
      "/home/panza/Desktop/Panza/Projects/virtual_envs/ho-ml/lib/python3.8/site-packages/sklearn/linear_model/_logistic.py:763: ConvergenceWarning: lbfgs failed to converge (status=1):\n",
      "STOP: TOTAL NO. of ITERATIONS REACHED LIMIT.\n",
      "\n",
      "Increase the number of iterations (max_iter) or scale the data as shown in:\n",
      "    https://scikit-learn.org/stable/modules/preprocessing.html\n",
      "Please also refer to the documentation for alternative solver options:\n",
      "    https://scikit-learn.org/stable/modules/linear_model.html#logistic-regression\n",
      "  n_iter_i = _check_optimize_result(\n"
     ]
    },
    {
     "data": {
      "text/plain": [
       "GridSearchCV(cv=3,\n",
       "             estimator=Pipeline(steps=[('kmeans', KMeans(n_clusters=54)),\n",
       "                                       ('log_reg', LogisticRegression())]),\n",
       "             param_grid={'kmeans__n_clusters': range(10, 81, 5)},\n",
       "             verbose=False)"
      ]
     },
     "execution_count": 29,
     "metadata": {},
     "output_type": "execute_result"
    }
   ],
   "source": [
    "# Searching for an optimum number of clusters\n",
    "from sklearn.model_selection import GridSearchCV\n",
    "param_grid = dict(kmeans__n_clusters=range(10, 81, 5))\n",
    "grid_clf = GridSearchCV(pipeline, param_grid, cv=3, verbose=False)\n",
    "grid_clf.fit(X_train, y_train)"
   ]
  },
  {
   "cell_type": "code",
   "execution_count": 30,
   "id": "8fb40b49-131a-40da-b8fe-a2df46d4adb7",
   "metadata": {},
   "outputs": [
    {
     "data": {
      "text/plain": [
       "{'kmeans__n_clusters': 55}"
      ]
     },
     "execution_count": 30,
     "metadata": {},
     "output_type": "execute_result"
    }
   ],
   "source": [
    "grid_clf.best_params_"
   ]
  },
  {
   "cell_type": "code",
   "execution_count": 31,
   "id": "bab1b3fa-3d35-4d0d-a6b0-e2b22e6e077f",
   "metadata": {},
   "outputs": [
    {
     "data": {
      "text/plain": [
       "DBSCAN(eps=0.05)"
      ]
     },
     "execution_count": 31,
     "metadata": {},
     "output_type": "execute_result"
    }
   ],
   "source": [
    "from sklearn.cluster import DBSCAN\n",
    "from sklearn.datasets import make_moons\n",
    "X, y = make_moons(n_samples=1000, noise=0.05)\n",
    "dbscan = DBSCAN(eps=0.05, min_samples=5)\n",
    "dbscan.fit(X)"
   ]
  },
  {
   "cell_type": "code",
   "execution_count": 32,
   "id": "409c8ed7-49e0-488c-b81a-42699078e483",
   "metadata": {},
   "outputs": [
    {
     "data": {
      "text/plain": [
       "array([ 5,  0,  1,  2,  3,  0,  1,  4,  4,  2,  1,  0,  0,  0,  5,  6,  6,\n",
       "        0,  6,  7,  0,  0,  0,  0,  7,  0,  0,  1,  7,  2,  1,  0,  0,  1,\n",
       "        0, -1,  3,  1,  3,  0,  7,  1,  2,  2,  0,  1,  0,  2,  0,  6,  2,\n",
       "        1,  7,  5,  0,  6, -1,  7,  0,  0,  1,  1,  1,  0,  1,  0,  5,  0,\n",
       "        1,  0,  8,  2,  7, -1,  0,  1,  1,  6, -1,  2,  5,  7,  2,  0,  0,\n",
       "        6, -1,  7, -1,  2,  1,  1,  2,  7,  1,  2,  2,  1,  5,  3,  1,  1,\n",
       "        1,  1,  7,  7,  0,  3,  0,  1,  2,  6,  0,  6,  6,  0,  2,  0,  1,\n",
       "        6,  0,  0,  8,  1,  0,  0,  0,  4,  1,  0,  0, -1,  0,  6,  0,  0,\n",
       "        0,  7,  1,  2,  0,  2,  6,  6,  0,  2,  8,  0, -1,  2,  1,  0,  1,\n",
       "        1,  0,  0,  0,  0,  0,  2, -1,  2,  0,  1,  2,  1,  7, -1,  0, -1,\n",
       "        6,  0,  0,  0,  6,  1,  0,  1,  1,  6, -1, -1,  2,  0,  1,  3,  8,\n",
       "        0,  6,  0,  0,  1,  0,  0,  3,  6,  7,  0,  5,  2,  0,  0,  0,  1,\n",
       "        0,  1,  2,  1,  1,  0,  6,  0,  0, -1,  0,  0,  2,  6,  4,  7,  1,\n",
       "        0,  0,  0,  0,  0,  2,  4,  0,  0,  7,  2,  0,  6,  1,  0,  6,  0,\n",
       "        0, -1,  1,  9,  6,  0,  0,  7,  2,  6,  0,  7,  2,  0,  0,  2,  1,\n",
       "       -1,  2,  0,  6,  7,  2,  1,  4,  0, -1,  0,  2,  2,  0,  2,  0,  6,\n",
       "        0,  0,  0,  0,  0,  6,  2,  0,  2,  0, -1,  6,  6,  0, -1,  0,  0,\n",
       "        6,  0,  0,  0,  0,  0,  0,  2,  0, -1,  1,  6,  7,  9,  1,  7,  0,\n",
       "        0,  7,  6,  6,  1, -1,  6,  2,  2,  0,  7,  0,  0,  5,  0,  0,  0,\n",
       "        0,  0,  1,  0,  0,  0,  1,  0,  1,  0,  0,  0,  0,  7,  0,  2,  0,\n",
       "        6,  6,  2,  1,  7,  7,  0,  1,  1,  1,  0,  0,  0,  5,  0,  1,  0,\n",
       "        3,  2,  2,  2,  0,  0,  0,  0,  0,  0,  0,  0, -1,  7,  7,  1,  2,\n",
       "        2,  6,  1,  1,  1,  2,  1, -1,  7,  2,  0,  2,  6,  3,  0,  3,  3,\n",
       "        0,  2, -1,  2,  0,  1,  0,  0,  2,  1, -1,  6,  6,  1,  0,  2,  2,\n",
       "        6,  0,  2,  0,  0,  0,  0,  2, -1,  2,  0,  1,  6, -1,  7,  1,  6,\n",
       "        0,  2,  0,  7,  1, -1,  3,  2,  0, -1,  5,  0,  0, -1,  1,  2,  2,\n",
       "        6, -1,  7,  6,  1, -1,  7,  4,  0,  6,  1,  0,  7,  2,  6,  6,  3,\n",
       "        6,  6,  1,  0,  0,  1,  6,  1, -1,  1,  0,  6,  0,  0,  5,  6,  0,\n",
       "        0,  6,  5,  6,  0,  8,  0,  7,  1,  0,  7,  1,  2,  0,  7,  6,  0,\n",
       "        1,  1,  7,  2,  1,  0,  2,  7, -1,  0, -1,  4,  1,  2,  0,  1,  0,\n",
       "        6,  1,  7, -1,  2,  1,  0,  5,  2,  1,  0, -1,  1,  2,  2,  7,  3,\n",
       "        0,  0,  1,  6, -1,  0,  0,  0, -1,  1,  7,  1,  0,  1, -1,  0,  1,\n",
       "        7,  1,  4,  3,  2,  1,  0,  0,  5,  5,  7,  2,  1,  0,  2,  2,  4,\n",
       "        1,  7, -1,  1,  2,  0,  5,  2,  6,  7,  6,  0,  2, -1,  2,  1,  2,\n",
       "        0,  0,  5, -1,  7,  0,  0,  0,  1,  0,  2, -1, -1,  2,  5,  0,  1,\n",
       "        0,  2,  0,  2,  2,  0,  7,  6,  1,  0,  0,  6,  8,  1,  5, -1,  0,\n",
       "        5,  1,  7,  0,  0,  2,  0,  0,  1,  6,  2,  0,  3, -1,  2, -1,  0,\n",
       "        1, -1,  2,  7,  6,  1,  1,  8,  0,  0,  7,  0,  0,  8,  7,  7,  0,\n",
       "        1,  0,  2,  0, -1,  1,  0,  7,  0,  4,  1,  6,  3,  0,  0,  1,  0,\n",
       "        4,  2,  0,  3,  0,  7,  2,  0,  0,  7,  6, -1,  0,  0,  1,  0,  7,\n",
       "        1,  0,  1,  6,  0,  2,  6,  1,  0,  2, -1,  9,  6,  8,  0,  7,  0,\n",
       "        2,  7,  1,  1,  0,  6, -1,  2,  1,  0,  8,  0,  7,  0,  0,  0,  0,\n",
       "        2, -1,  0,  0,  0,  6,  2,  3,  6,  1,  2,  2,  2,  0,  6,  7,  7,\n",
       "        0,  2, -1,  7,  0,  0,  2,  6,  0,  3,  0,  1,  8, -1,  4,  7,  6,\n",
       "        1,  6,  7,  2,  0,  1,  2,  6,  6,  1,  1,  2,  7,  0,  0,  7,  1,\n",
       "        7,  5,  0,  0,  6,  0,  0,  6, -1,  5,  1,  0,  5,  1,  7,  0,  1,\n",
       "        2,  2,  1,  1,  5,  2,  0,  6,  8,  1,  2,  3,  0,  2,  0,  1, -1,\n",
       "        0, -1,  1,  0,  0,  1,  1,  7,  1,  7,  2,  0,  1,  0,  7,  6,  2,\n",
       "        0,  0,  0,  0, -1,  0,  0,  0,  2,  0,  0,  1,  0,  6,  2,  1,  2,\n",
       "        0,  0,  2,  1,  6, -1,  0,  0,  2,  6,  0,  4,  0,  7,  0,  0,  2,\n",
       "        1,  0,  7,  0,  6,  0,  1,  0,  7,  7,  0,  0, -1,  0,  6,  1,  0,\n",
       "        0,  4,  0,  1,  1,  7,  7,  2,  0, -1,  0,  2,  6,  7,  0,  1,  7,\n",
       "       -1, -1,  7,  1,  6,  2,  0,  1,  0, -1,  3,  0,  1,  6,  0,  6,  1,\n",
       "        0,  5,  4,  0,  6,  1,  0,  2,  2, -1,  6,  7,  0,  4,  6,  3,  3,\n",
       "        1,  7,  5,  1,  0,  6,  1,  2,  1,  7, -1,  0,  1,  0,  6,  0,  1,\n",
       "        0,  1,  0,  3,  2, -1,  1,  3,  5,  0,  0, -1,  6,  7, -1,  1,  2,\n",
       "        0, -1,  7,  6,  0,  0,  6,  2,  0,  2,  7,  0,  7,  0,  7,  7,  6,\n",
       "        2,  1,  7,  1,  0,  0,  5,  1,  6,  6,  1,  4,  7,  2,  0,  4,  1,\n",
       "        2,  0,  0,  1,  2,  0,  2,  2, -1,  7, -1,  0,  1, -1])"
      ]
     },
     "execution_count": 32,
     "metadata": {},
     "output_type": "execute_result"
    }
   ],
   "source": [
    "dbscan.labels_"
   ]
  },
  {
   "cell_type": "markdown",
   "id": "bcd18873-85d3-4f5e-b766-ee1631be40d9",
   "metadata": {},
   "source": [
    "-1 means anomaly... Encontró 9 Clusters distintos... Not great... Pero si varío el epsilon..."
   ]
  },
  {
   "cell_type": "code",
   "execution_count": 33,
   "id": "d5506216-5e8a-444c-b9c7-86b0b061c687",
   "metadata": {},
   "outputs": [
    {
     "data": {
      "text/plain": [
       "array([0, 1, 0, 0, 1, 1, 0, 1, 1, 0, 0, 1, 1, 1, 0, 0, 0, 1, 0, 1, 1, 1,\n",
       "       1, 1, 1, 1, 1, 0, 1, 0, 0, 1, 1, 0, 1, 0, 1, 0, 1, 1, 1, 0, 0, 0,\n",
       "       1, 0, 1, 0, 1, 0, 0, 0, 1, 0, 1, 0, 0, 1, 1, 1, 0, 0, 0, 1, 0, 1,\n",
       "       0, 1, 0, 1, 0, 0, 1, 1, 1, 0, 0, 0, 0, 0, 0, 1, 0, 1, 1, 0, 1, 1,\n",
       "       0, 0, 0, 0, 0, 1, 0, 0, 0, 0, 0, 1, 0, 0, 0, 0, 1, 1, 1, 1, 1, 0,\n",
       "       0, 0, 1, 0, 0, 1, 0, 1, 0, 0, 1, 1, 0, 0, 1, 1, 1, 1, 0, 1, 1, 0,\n",
       "       1, 0, 1, 1, 1, 1, 0, 0, 1, 0, 0, 0, 1, 0, 0, 1, 0, 0, 0, 1, 0, 0,\n",
       "       1, 1, 1, 1, 1, 0, 0, 0, 1, 0, 0, 0, 1, 0, 1, 0, 0, 1, 1, 1, 0, 0,\n",
       "       1, 0, 0, 0, 0, 0, 0, 1, 0, 1, 0, 1, 0, 1, 1, 0, 1, 1, 1, 0, 1, 1,\n",
       "       0, 0, 1, 1, 1, 0, 1, 0, 0, 0, 0, 1, 0, 1, 1, 0, 1, 1, 0, 0, 1, 1,\n",
       "       0, 1, 1, 1, 1, 1, 0, 1, 1, 1, 1, 0, 1, 0, 0, 1, 0, 1, 1, 0, 0, 0,\n",
       "       0, 1, 1, 1, 0, 0, 1, 1, 0, 1, 1, 0, 0, 1, 0, 1, 0, 1, 0, 0, 1, 1,\n",
       "       0, 1, 0, 0, 1, 0, 1, 0, 1, 1, 1, 1, 1, 0, 0, 1, 0, 1, 0, 0, 0, 1,\n",
       "       1, 1, 1, 0, 1, 1, 1, 1, 1, 1, 0, 1, 1, 0, 0, 1, 0, 0, 1, 1, 1, 1,\n",
       "       0, 0, 0, 1, 0, 0, 0, 1, 1, 1, 1, 0, 1, 1, 1, 1, 1, 0, 1, 1, 1, 0,\n",
       "       1, 0, 1, 1, 1, 1, 1, 1, 0, 1, 0, 0, 0, 0, 1, 1, 1, 0, 0, 0, 1, 1,\n",
       "       1, 0, 1, 0, 1, 1, 0, 0, 0, 1, 1, 1, 1, 1, 1, 1, 1, 0, 1, 1, 0, 0,\n",
       "       0, 0, 0, 0, 0, 0, 0, 1, 1, 0, 1, 0, 0, 1, 1, 1, 1, 1, 0, 1, 0, 1,\n",
       "       0, 1, 1, 0, 0, 1, 0, 0, 0, 1, 0, 0, 0, 1, 0, 1, 1, 1, 1, 0, 1, 0,\n",
       "       1, 0, 0, 1, 1, 0, 0, 1, 0, 1, 1, 0, 1, 1, 0, 1, 0, 0, 1, 1, 0, 0,\n",
       "       0, 0, 0, 1, 1, 0, 0, 1, 1, 1, 1, 0, 0, 1, 1, 0, 0, 0, 1, 0, 0, 0,\n",
       "       1, 1, 0, 0, 0, 0, 0, 1, 0, 1, 1, 0, 0, 1, 1, 0, 0, 0, 1, 0, 1, 1,\n",
       "       0, 1, 1, 0, 0, 1, 1, 0, 1, 0, 0, 1, 0, 0, 1, 0, 1, 0, 1, 0, 1, 0,\n",
       "       0, 1, 0, 1, 0, 0, 1, 0, 0, 0, 1, 0, 0, 0, 1, 1, 0, 0, 0, 1, 1, 1,\n",
       "       1, 0, 0, 1, 1, 1, 1, 0, 0, 1, 0, 1, 0, 1, 1, 0, 1, 0, 1, 1, 0, 0,\n",
       "       1, 1, 0, 0, 1, 0, 0, 1, 0, 0, 1, 0, 1, 0, 0, 0, 1, 0, 0, 0, 1, 0,\n",
       "       1, 0, 0, 0, 0, 0, 1, 1, 0, 0, 1, 1, 1, 1, 0, 1, 0, 1, 0, 0, 0, 1,\n",
       "       0, 1, 0, 1, 0, 0, 1, 1, 0, 0, 1, 1, 0, 0, 0, 0, 0, 1, 0, 0, 1, 1,\n",
       "       1, 0, 1, 1, 0, 0, 0, 1, 1, 1, 0, 0, 1, 0, 0, 0, 1, 0, 0, 0, 0, 1,\n",
       "       1, 1, 1, 1, 0, 1, 1, 1, 0, 1, 0, 1, 0, 0, 1, 1, 1, 1, 0, 0, 1, 1,\n",
       "       1, 0, 1, 1, 0, 1, 1, 1, 1, 0, 1, 1, 1, 0, 0, 1, 1, 0, 1, 1, 0, 1,\n",
       "       0, 0, 1, 0, 0, 0, 1, 0, 1, 0, 0, 0, 1, 1, 1, 0, 1, 0, 0, 1, 0, 0,\n",
       "       0, 0, 1, 0, 1, 1, 1, 1, 1, 1, 0, 0, 1, 1, 1, 0, 0, 1, 0, 0, 0, 0,\n",
       "       0, 1, 0, 1, 1, 1, 0, 1, 1, 1, 1, 0, 0, 1, 1, 1, 0, 0, 1, 1, 1, 0,\n",
       "       0, 0, 1, 0, 1, 0, 0, 0, 0, 0, 0, 0, 1, 1, 1, 1, 0, 1, 0, 1, 1, 0,\n",
       "       1, 1, 0, 0, 0, 0, 1, 0, 0, 1, 1, 0, 0, 0, 0, 0, 0, 0, 1, 0, 0, 0,\n",
       "       0, 1, 1, 0, 1, 0, 0, 1, 0, 0, 1, 1, 0, 0, 1, 0, 1, 0, 1, 0, 1, 1,\n",
       "       0, 0, 1, 1, 1, 1, 1, 1, 1, 1, 0, 1, 1, 0, 1, 0, 0, 0, 0, 1, 1, 0,\n",
       "       0, 0, 0, 1, 1, 0, 0, 1, 1, 1, 1, 1, 1, 0, 0, 1, 1, 1, 0, 1, 0, 1,\n",
       "       1, 1, 1, 1, 1, 1, 0, 0, 1, 1, 1, 1, 0, 0, 1, 1, 0, 1, 0, 1, 0, 0,\n",
       "       1, 1, 0, 1, 0, 0, 1, 0, 0, 0, 1, 0, 1, 1, 1, 1, 0, 0, 1, 0, 0, 1,\n",
       "       0, 1, 1, 0, 0, 1, 0, 0, 1, 0, 1, 1, 1, 0, 1, 1, 0, 1, 0, 0, 1, 0,\n",
       "       0, 0, 0, 1, 0, 1, 0, 1, 0, 1, 0, 1, 0, 1, 1, 0, 0, 0, 1, 0, 1, 1,\n",
       "       0, 0, 1, 0, 0, 0, 1, 0, 1, 0, 1, 1, 0, 0, 1, 0, 1, 1, 1, 1, 1, 1,\n",
       "       0, 0, 0, 1, 0, 1, 1, 0, 0, 0, 0, 0, 1, 1, 0, 1, 1, 0, 0, 1, 1, 0,\n",
       "       0, 1, 0, 0, 0, 1, 1, 1, 0, 0])"
      ]
     },
     "execution_count": 33,
     "metadata": {},
     "output_type": "execute_result"
    }
   ],
   "source": [
    "dbscan = DBSCAN(eps=0.2, min_samples=5)\n",
    "dbscan.fit(X)\n",
    "dbscan.labels_"
   ]
  },
  {
   "cell_type": "markdown",
   "id": "8251c42d-1eac-47c0-ae63-4f32dfd956c4",
   "metadata": {},
   "source": [
    "Encontró solo 2 clusters!! Exito!"
   ]
  },
  {
   "cell_type": "markdown",
   "id": "292989f6-bea2-4bcc-becc-b238994e131e",
   "metadata": {},
   "source": [
    "# Gaussian Mixture Models"
   ]
  },
  {
   "cell_type": "code",
   "execution_count": 34,
   "id": "93c4a004-62b0-4b75-bde0-a7efddc1ff0f",
   "metadata": {},
   "outputs": [
    {
     "data": {
      "text/plain": [
       "GaussianMixture(n_components=3, n_init=10)"
      ]
     },
     "execution_count": 34,
     "metadata": {},
     "output_type": "execute_result"
    }
   ],
   "source": [
    "from sklearn.mixture import GaussianMixture\n",
    "gm = GaussianMixture(n_components=3, n_init=10)\n",
    "gm.fit(X)"
   ]
  },
  {
   "cell_type": "code",
   "execution_count": 35,
   "id": "bf09b5b3-2981-4b1a-acd6-4c491ecd079e",
   "metadata": {},
   "outputs": [
    {
     "data": {
      "text/plain": [
       "array([0.60869708, 0.1997239 , 0.19157902])"
      ]
     },
     "execution_count": 35,
     "metadata": {},
     "output_type": "execute_result"
    }
   ],
   "source": [
    "gm.weights_"
   ]
  },
  {
   "cell_type": "code",
   "execution_count": 36,
   "id": "809001e9-7714-464e-852c-b8fe4b64c36e",
   "metadata": {},
   "outputs": [
    {
     "data": {
      "text/plain": [
       "array([[ 0.48553866,  0.2575485 ],\n",
       "       [ 1.75011195, -0.05100488],\n",
       "       [-0.77178448,  0.53277386]])"
      ]
     },
     "execution_count": 36,
     "metadata": {},
     "output_type": "execute_result"
    }
   ],
   "source": [
    "gm.means_"
   ]
  },
  {
   "cell_type": "code",
   "execution_count": 37,
   "id": "b22ba706-e095-4149-a151-f66843a615fa",
   "metadata": {},
   "outputs": [
    {
     "data": {
      "text/plain": [
       "array([[[ 0.1786037 , -0.11286149],\n",
       "        [-0.11286149,  0.29588784]],\n",
       "\n",
       "       [[ 0.05051294,  0.05977685],\n",
       "        [ 0.05977685,  0.08585126]],\n",
       "\n",
       "       [[ 0.04055027,  0.05352814],\n",
       "        [ 0.05352814,  0.08336964]]])"
      ]
     },
     "execution_count": 37,
     "metadata": {},
     "output_type": "execute_result"
    }
   ],
   "source": [
    "gm.covariances_"
   ]
  },
  {
   "cell_type": "code",
   "execution_count": 38,
   "id": "5c79ca7b-5549-4f49-a1d4-5c530529768d",
   "metadata": {},
   "outputs": [
    {
     "data": {
      "text/plain": [
       "array([0, 0, 0, 0, 2, 2, 0, 0, 0, 0, 0, 2, 2, 0, 0, 1, 1, 0, 1, 0, 0, 2,\n",
       "       0, 0, 0, 0, 2, 1, 0, 0, 0, 2, 0, 1, 0, 1, 2, 1, 2, 0, 0, 0, 0, 0,\n",
       "       0, 1, 2, 0, 0, 1, 0, 0, 0, 0, 0, 1, 0, 0, 0, 0, 0, 1, 1, 0, 1, 2,\n",
       "       0, 0, 0, 2, 0, 0, 0, 2, 2, 1, 0, 1, 1, 0, 0, 0, 0, 0, 0, 1, 2, 0,\n",
       "       0, 0, 1, 0, 0, 0, 1, 0, 0, 0, 0, 2, 1, 1, 1, 0, 0, 0, 0, 2, 0, 1,\n",
       "       0, 1, 0, 1, 1, 2, 0, 2, 0, 1, 0, 0, 0, 1, 2, 0, 0, 0, 1, 2, 0, 0,\n",
       "       2, 1, 0, 0, 0, 0, 1, 0, 2, 0, 1, 1, 0, 0, 0, 0, 0, 0, 1, 2, 1, 1,\n",
       "       0, 2, 2, 0, 2, 0, 1, 0, 0, 0, 0, 0, 0, 1, 2, 0, 1, 2, 2, 2, 1, 1,\n",
       "       0, 0, 1, 1, 1, 0, 0, 0, 1, 2, 0, 2, 1, 0, 0, 0, 2, 2, 2, 1, 0, 2,\n",
       "       0, 0, 2, 2, 0, 0, 0, 1, 0, 0, 0, 2, 1, 0, 0, 1, 2, 2, 0, 1, 0, 0,\n",
       "       0, 2, 0, 2, 2, 0, 0, 0, 0, 0, 0, 0, 0, 1, 1, 2, 1, 0, 2, 0, 1, 0,\n",
       "       1, 0, 2, 0, 0, 1, 0, 0, 0, 0, 2, 0, 1, 2, 0, 0, 1, 0, 0, 0, 0, 2,\n",
       "       0, 0, 0, 0, 0, 0, 0, 1, 0, 2, 0, 2, 2, 1, 0, 0, 0, 0, 0, 1, 1, 0,\n",
       "       0, 2, 2, 1, 2, 0, 0, 2, 2, 2, 0, 2, 0, 1, 1, 0, 0, 0, 0, 2, 0, 0,\n",
       "       1, 1, 1, 0, 1, 0, 0, 0, 0, 0, 2, 0, 2, 2, 2, 2, 0, 0, 0, 0, 2, 0,\n",
       "       0, 0, 2, 0, 2, 2, 0, 0, 0, 2, 1, 1, 0, 0, 0, 0, 0, 0, 0, 1, 0, 0,\n",
       "       0, 0, 0, 0, 2, 2, 0, 0, 0, 0, 0, 0, 2, 0, 2, 2, 0, 0, 0, 0, 0, 0,\n",
       "       0, 1, 1, 1, 0, 0, 1, 0, 0, 0, 0, 0, 1, 2, 0, 2, 2, 0, 0, 0, 0, 0,\n",
       "       0, 0, 0, 0, 1, 2, 1, 1, 1, 2, 0, 0, 1, 2, 0, 2, 2, 0, 2, 0, 0, 0,\n",
       "       0, 1, 1, 0, 0, 1, 1, 2, 0, 0, 0, 1, 2, 2, 0, 2, 1, 0, 2, 0, 0, 0,\n",
       "       0, 0, 1, 0, 0, 1, 0, 0, 0, 0, 0, 1, 0, 0, 0, 0, 1, 1, 2, 1, 1, 0,\n",
       "       2, 2, 0, 1, 0, 1, 0, 2, 1, 2, 2, 0, 1, 2, 2, 1, 0, 1, 0, 0, 0, 0,\n",
       "       0, 2, 0, 0, 0, 2, 0, 1, 2, 0, 0, 0, 0, 1, 2, 0, 0, 1, 0, 0, 0, 1,\n",
       "       0, 2, 0, 0, 1, 0, 0, 0, 0, 0, 0, 0, 0, 0, 0, 0, 0, 0, 0, 0, 2, 0,\n",
       "       2, 0, 1, 0, 0, 0, 0, 0, 1, 0, 0, 0, 1, 0, 0, 1, 0, 0, 0, 2, 0, 1,\n",
       "       2, 0, 0, 0, 0, 0, 1, 0, 0, 0, 0, 1, 0, 1, 0, 0, 0, 0, 0, 1, 0, 1,\n",
       "       2, 0, 1, 0, 0, 0, 2, 2, 0, 1, 0, 0, 0, 0, 0, 0, 0, 0, 0, 0, 0, 0,\n",
       "       1, 0, 0, 2, 0, 0, 0, 0, 1, 0, 2, 2, 1, 0, 1, 0, 0, 0, 0, 1, 0, 0,\n",
       "       0, 0, 2, 2, 1, 1, 0, 0, 2, 0, 0, 1, 0, 1, 1, 0, 0, 1, 0, 0, 0, 0,\n",
       "       0, 0, 2, 0, 0, 0, 0, 2, 0, 0, 0, 0, 0, 0, 2, 0, 2, 0, 0, 1, 2, 0,\n",
       "       0, 0, 2, 0, 0, 0, 2, 2, 0, 0, 0, 0, 0, 1, 1, 0, 2, 0, 0, 0, 1, 0,\n",
       "       0, 1, 2, 0, 1, 0, 2, 0, 2, 0, 1, 0, 0, 0, 0, 0, 0, 1, 1, 2, 1, 0,\n",
       "       0, 1, 0, 0, 0, 0, 0, 2, 2, 2, 0, 1, 0, 2, 2, 1, 0, 2, 1, 1, 0, 0,\n",
       "       0, 0, 1, 0, 0, 0, 0, 0, 0, 2, 2, 0, 1, 0, 2, 0, 0, 0, 2, 0, 0, 1,\n",
       "       1, 1, 0, 0, 0, 0, 0, 1, 1, 0, 1, 0, 0, 2, 2, 0, 1, 0, 0, 0, 2, 1,\n",
       "       0, 0, 1, 0, 0, 1, 2, 0, 0, 0, 0, 1, 0, 0, 0, 0, 0, 0, 0, 1, 0, 0,\n",
       "       0, 2, 0, 0, 2, 0, 0, 0, 0, 1, 2, 0, 1, 0, 0, 0, 0, 0, 2, 1, 0, 0,\n",
       "       1, 0, 2, 2, 0, 2, 2, 0, 2, 0, 0, 0, 0, 0, 2, 1, 0, 0, 0, 0, 0, 0,\n",
       "       1, 1, 1, 2, 2, 0, 1, 0, 0, 2, 0, 2, 2, 0, 1, 2, 0, 0, 1, 2, 0, 0,\n",
       "       0, 0, 0, 2, 2, 0, 1, 0, 0, 2, 0, 2, 1, 0, 0, 0, 0, 2, 1, 0, 0, 1,\n",
       "       0, 2, 1, 0, 0, 1, 0, 0, 1, 0, 2, 1, 2, 2, 2, 2, 0, 1, 0, 1, 1, 2,\n",
       "       0, 0, 0, 1, 0, 2, 0, 0, 0, 1, 0, 2, 0, 1, 2, 2, 1, 0, 0, 0, 2, 1,\n",
       "       0, 0, 0, 0, 0, 2, 0, 2, 1, 2, 1, 2, 0, 2, 2, 0, 1, 0, 2, 0, 2, 2,\n",
       "       0, 1, 0, 1, 1, 0, 0, 0, 0, 1, 0, 0, 1, 0, 2, 0, 0, 0, 0, 0, 0, 0,\n",
       "       1, 0, 1, 0, 1, 0, 0, 0, 0, 1, 1, 1, 0, 0, 0, 2, 0, 1, 0, 2, 2, 0,\n",
       "       0, 0, 0, 0, 1, 0, 2, 0, 1, 0])"
      ]
     },
     "execution_count": 38,
     "metadata": {},
     "output_type": "execute_result"
    }
   ],
   "source": [
    "# Hard clustering\n",
    "gm.predict(X)"
   ]
  },
  {
   "cell_type": "code",
   "execution_count": 39,
   "id": "654695ae-cf56-4435-9c71-00bd52e77850",
   "metadata": {},
   "outputs": [
    {
     "data": {
      "text/plain": [
       "array([[1.00000000e+000, 8.39196609e-109, 4.88604290e-023],\n",
       "       [9.99999699e-001, 3.24294345e-158, 3.00815048e-007],\n",
       "       [1.00000000e+000, 3.39430898e-014, 1.00034219e-160],\n",
       "       ...,\n",
       "       [9.99995367e-001, 1.28728283e-159, 4.63272602e-006],\n",
       "       [2.92367532e-002, 9.70763247e-001, 1.47630395e-292],\n",
       "       [1.00000000e+000, 1.26619146e-114, 8.38093162e-021]])"
      ]
     },
     "execution_count": 39,
     "metadata": {},
     "output_type": "execute_result"
    }
   ],
   "source": [
    "# Soft Clustering\n",
    "gm.predict_proba(X)"
   ]
  },
  {
   "cell_type": "code",
   "execution_count": 40,
   "id": "cdc7276c-e541-4192-a188-9fe5daeae420",
   "metadata": {},
   "outputs": [],
   "source": [
    "X_new, y_new = gm.sample(6)"
   ]
  },
  {
   "cell_type": "code",
   "execution_count": 41,
   "id": "34ba3838-dbc2-48e9-89d8-970272c669bf",
   "metadata": {},
   "outputs": [
    {
     "data": {
      "text/plain": [
       "array([[ 0.46482337,  0.60851267],\n",
       "       [ 0.85723795,  1.01042493],\n",
       "       [ 1.5149385 , -0.32346814],\n",
       "       [ 1.82404024,  0.16348274],\n",
       "       [ 2.21925865,  0.70192075],\n",
       "       [-0.84340935,  0.5139797 ]])"
      ]
     },
     "execution_count": 41,
     "metadata": {},
     "output_type": "execute_result"
    }
   ],
   "source": [
    "X_new"
   ]
  },
  {
   "cell_type": "code",
   "execution_count": 42,
   "id": "b49de65d-5b9f-4b35-a98a-45be04af5518",
   "metadata": {},
   "outputs": [
    {
     "data": {
      "text/plain": [
       "array([0, 0, 1, 1, 1, 2])"
      ]
     },
     "execution_count": 42,
     "metadata": {},
     "output_type": "execute_result"
    }
   ],
   "source": [
    "y_new"
   ]
  },
  {
   "cell_type": "markdown",
   "id": "3e6e302b-04c6-4daa-8c05-bc7730619e58",
   "metadata": {},
   "source": [
    "OK... para ser sincero, no hice mucho hands-on de Gaussian Mixtures... Pero entendí la idea"
   ]
  },
  {
   "cell_type": "code",
   "execution_count": null,
   "id": "48b2f201-107f-471d-9311-3a4be0897d3e",
   "metadata": {},
   "outputs": [],
   "source": []
  }
 ],
 "metadata": {
  "kernelspec": {
   "display_name": "ho_ml_kernel",
   "language": "python",
   "name": "ho_ml_kernel"
  },
  "language_info": {
   "codemirror_mode": {
    "name": "ipython",
    "version": 3
   },
   "file_extension": ".py",
   "mimetype": "text/x-python",
   "name": "python",
   "nbconvert_exporter": "python",
   "pygments_lexer": "ipython3",
   "version": "3.8.5"
  }
 },
 "nbformat": 4,
 "nbformat_minor": 5
}
