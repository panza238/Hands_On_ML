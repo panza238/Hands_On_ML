{
 "cells": [
  {
   "cell_type": "markdown",
   "id": "3a2ab4e6-e070-48b6-88b3-24655fc8ab1b",
   "metadata": {},
   "source": [
    "# Chapter 9 - Unsupervised Learning"
   ]
  },
  {
   "cell_type": "code",
   "execution_count": 1,
   "id": "5cbd8f54-7dcc-4003-96df-18672107a5bd",
   "metadata": {},
   "outputs": [],
   "source": [
    "import pandas as pd \n",
    "import numpy as np"
   ]
  },
  {
   "cell_type": "code",
   "execution_count": 2,
   "id": "a5892059-5108-40a6-9bce-ebf262560692",
   "metadata": {},
   "outputs": [],
   "source": [
    "from sklearn.datasets import make_blobs"
   ]
  },
  {
   "cell_type": "code",
   "execution_count": 3,
   "id": "57ecbc9e-7970-4bde-a2bc-738e773ef3df",
   "metadata": {},
   "outputs": [],
   "source": [
    "X, y = make_blobs()"
   ]
  },
  {
   "cell_type": "code",
   "execution_count": 4,
   "id": "829fd171-9b2e-4630-8804-99d70cb6e1bd",
   "metadata": {},
   "outputs": [],
   "source": [
    "import matplotlib\n",
    "import matplotlib.pyplot as plt"
   ]
  },
  {
   "cell_type": "code",
   "execution_count": 8,
   "id": "e131b98b-83b1-43ee-8d6a-e9bbb4b6f409",
   "metadata": {},
   "outputs": [
    {
     "data": {
      "text/plain": [
       "(100, 2)"
      ]
     },
     "execution_count": 8,
     "metadata": {},
     "output_type": "execute_result"
    }
   ],
   "source": [
    "X.shape"
   ]
  },
  {
   "cell_type": "code",
   "execution_count": 9,
   "id": "abd94301-d95d-4659-9a4a-5c90c33c9a70",
   "metadata": {},
   "outputs": [
    {
     "data": {
      "text/plain": [
       "array([-6.31847432, -4.46989564])"
      ]
     },
     "execution_count": 9,
     "metadata": {},
     "output_type": "execute_result"
    }
   ],
   "source": [
    "X[0]"
   ]
  },
  {
   "cell_type": "code",
   "execution_count": 10,
   "id": "66284ee1-c9d5-4297-ad38-c64d5c30c64a",
   "metadata": {},
   "outputs": [
    {
     "data": {
      "text/plain": [
       "array([-6.31847432, -5.83910255, -8.2266143 ,  9.24045663,  9.6306031 ,\n",
       "       -3.58305315, -7.95501032, -7.28829889, -9.27841382, -8.783767  ,\n",
       "       -8.01183206, -5.95353899,  7.24240964, -7.25839204, -5.29009711,\n",
       "       10.49564835, -5.44480507, -5.93277611,  8.95481472, -8.01700046,\n",
       "        8.06726646, -7.66214699, -5.41642859, -5.92800623,  9.85985735,\n",
       "        8.56243795, 10.22059916, -5.51623273, -7.49042743, -8.9831046 ,\n",
       "        8.65460078, -9.07700645, -9.45476425, -7.30192178, -7.44589561,\n",
       "        9.66955063, 10.16964009, -8.1655591 ,  9.82510017, -9.5385323 ,\n",
       "       -3.832906  ,  9.05945099, -6.49520285, -6.32615904, 11.0519784 ,\n",
       "       -5.29586882,  8.45604701, -9.22500721, -8.76863609,  9.75345721,\n",
       "        9.43704503, -4.11665891, -6.22120397, -8.77640615, 10.81422331,\n",
       "       -8.43868807,  9.10093025, 10.53830712,  8.54196835,  9.14788044,\n",
       "        9.27864473, -5.7128106 , -5.70555841, -7.71360916, -8.89563617,\n",
       "       -7.87892789, 10.2798267 , -3.93717647, -8.46582543, -7.78503512,\n",
       "        9.74971311, -7.64554302,  9.80128403, -9.02475509, -7.68131199,\n",
       "       -3.60368621, -8.93392326,  9.55489391, -4.48257903, -7.15487769,\n",
       "       -5.31431647,  9.49274189,  8.20088665, -6.73339811, -6.70524486,\n",
       "        9.67263507,  9.97681021, -7.8643449 , -9.998225  ,  9.32767181,\n",
       "       -5.02455531, -6.81885273, -7.19305614, -9.88700901, -5.76574274,\n",
       "       -7.80955936, -9.20724573, -6.20472658, -7.04892733, -5.3067422 ])"
      ]
     },
     "execution_count": 10,
     "metadata": {},
     "output_type": "execute_result"
    }
   ],
   "source": [
    "X[:,0]"
   ]
  },
  {
   "cell_type": "code",
   "execution_count": 11,
   "id": "99b82ca1-6ec6-496d-807a-2383221f97ab",
   "metadata": {},
   "outputs": [
    {
     "data": {
      "image/png": "[encoded data removed]",
      "text/plain": [
       "<Figure size 432x288 with 1 Axes>"
      ]
     },
     "metadata": {
      "needs_background": "light"
     },
     "output_type": "display_data"
    }
   ],
   "source": [
    "plt.figure()\n",
    "plt.scatter(X[:, 0], X[:, 1])\n",
    "plt.show()"
   ]
  },
  {
   "cell_type": "markdown",
   "id": "62eeef3b-577e-4d7b-8aa8-295933acaaa1",
   "metadata": {},
   "source": [
    "OK... acá veo claramente los blobs"
   ]
  },
  {
   "cell_type": "code",
   "execution_count": 16,
   "id": "6f1452b4-49c7-459d-9604-a4509e331ade",
   "metadata": {},
   "outputs": [],
   "source": [
    "# Clustering\n",
    "\n",
    "from sklearn.cluster import KMeans\n",
    "k=3\n",
    "k_means = KMeans(n_clusters=k)\n",
    "y_pred = k_means.fit_predict(X)"
   ]
  },
  {
   "cell_type": "code",
   "execution_count": 17,
   "id": "8e37262d-607a-4015-a2ba-f985fa067f42",
   "metadata": {},
   "outputs": [
    {
     "data": {
      "text/plain": [
       "array([0, 0, 2, 1, 1, 0, 2, 0, 2, 2, 2, 0, 1, 0, 0, 1, 0, 0, 1, 2, 1, 2,\n",
       "       0, 0, 1, 1, 1, 0, 2, 2, 1, 2, 2, 2, 2, 1, 1, 2, 1, 2, 0, 1, 0, 0,\n",
       "       1, 0, 1, 2, 2, 1, 1, 0, 0, 2, 1, 2, 1, 1, 1, 1, 1, 0, 0, 2, 2, 2,\n",
       "       1, 0, 2, 2, 1, 2, 1, 2, 2, 0, 2, 1, 0, 2, 0, 1, 1, 0, 0, 1, 1, 2,\n",
       "       2, 1, 0, 0, 0, 2, 0, 2, 2, 0, 0, 0], dtype=int32)"
      ]
     },
     "execution_count": 17,
     "metadata": {},
     "output_type": "execute_result"
    }
   ],
   "source": [
    "y_pred"
   ]
  },
  {
   "cell_type": "code",
   "execution_count": 18,
   "id": "4f44efe2-1d41-4b81-bf0e-4a3ef3e6eec5",
   "metadata": {},
   "outputs": [
    {
     "data": {
      "text/plain": [
       "array([2, 2, 0, 1, 1, 2, 0, 2, 0, 0, 0, 2, 1, 2, 2, 1, 2, 2, 1, 0, 1, 0,\n",
       "       2, 2, 1, 1, 1, 2, 0, 0, 1, 0, 0, 0, 0, 1, 1, 0, 1, 0, 2, 1, 2, 2,\n",
       "       1, 2, 1, 0, 0, 1, 1, 2, 2, 0, 1, 0, 1, 1, 1, 1, 1, 2, 2, 0, 0, 0,\n",
       "       1, 2, 0, 0, 1, 0, 1, 0, 0, 2, 0, 1, 2, 0, 2, 1, 1, 2, 2, 1, 1, 0,\n",
       "       0, 1, 2, 2, 2, 0, 2, 0, 0, 2, 2, 2])"
      ]
     },
     "execution_count": 18,
     "metadata": {},
     "output_type": "execute_result"
    }
   ],
   "source": [
    "y"
   ]
  },
  {
   "cell_type": "markdown",
   "id": "6e8874d3-49bb-40da-a88e-6079f3acc1d8",
   "metadata": {},
   "source": [
    "Notar que los separó perfectamente"
   ]
  },
  {
   "cell_type": "code",
   "execution_count": 19,
   "id": "659c44d1-a886-4b09-85ba-398a6af1cd96",
   "metadata": {},
   "outputs": [
    {
     "data": {
      "text/plain": [
       "array([[-5.68529026, -4.51281943],\n",
       "       [ 9.44937519,  8.84813669],\n",
       "       [-8.42784008, -0.7026129 ]])"
      ]
     },
     "execution_count": 19,
     "metadata": {},
     "output_type": "execute_result"
    }
   ],
   "source": [
    "k_means.cluster_centers_"
   ]
  },
  {
   "cell_type": "code",
   "execution_count": 26,
   "id": "655792e2-3d5b-4f17-aa86-97e184c97162",
   "metadata": {},
   "outputs": [
    {
     "data": {
      "image/png": "[encoded data removed]",
      "text/plain": [
       "<Figure size 432x288 with 1 Axes>"
      ]
     },
     "metadata": {
      "needs_background": "light"
     },
     "output_type": "display_data"
    }
   ],
   "source": [
    "plt.figure()\n",
    "plt.scatter(X[:, 0], X[:, 1])\n",
    "plt.scatter(k_means.cluster_centers_[:, 0], k_means.cluster_centers_[:, 1], c=\"r\", edgecolors=\"g\", s=150)\n",
    "plt.show()"
   ]
  },
  {
   "cell_type": "markdown",
   "id": "b9fbe57c-10cf-4a71-95d2-bf4c13353a09",
   "metadata": {},
   "source": [
    "Ahí se ven claramente los centroides de los 3 blobs"
   ]
  },
  {
   "cell_type": "markdown",
   "id": "a21a3d92-d116-4acf-84d9-91e238f2f2d3",
   "metadata": {},
   "source": [
    "Con nuevas instancias, va a calcular a qué centroide se encuentra más próximo y va a predecir que la nueva instancia pertenece a ese cluster"
   ]
  },
  {
   "cell_type": "code",
   "execution_count": 58,
   "id": "b19bcbea-9934-4427-afbc-b846060a73f7",
   "metadata": {},
   "outputs": [
    {
     "data": {
      "image/png": "[encoded data removed]",
      "text/plain": [
       "<Figure size 432x288 with 1 Axes>"
      ]
     },
     "metadata": {
      "needs_background": "light"
     },
     "output_type": "display_data"
    }
   ],
   "source": [
    "new_random_instance = (np.random.rand(2) - 0.5) * 10\n",
    "new_random_instance\n",
    "\n",
    "plt.figure()\n",
    "plt.scatter(X[:, 0], X[:, 1])\n",
    "plt.scatter(k_means.cluster_centers_[:, 0], k_means.cluster_centers_[:, 1], c=\"r\", edgecolors=\"g\", s=150)\n",
    "plt.scatter(*new_random_instance, c=\"g\", edgecolors=\"r\", s=150)\n",
    "plt.show()"
   ]
  },
  {
   "cell_type": "code",
   "execution_count": 61,
   "id": "47485294-0cea-4d13-a669-a13eae9d44e2",
   "metadata": {},
   "outputs": [
    {
     "name": "stdout",
     "output_type": "stream",
     "text": [
      "[-1.23993218 -3.67306786]\n"
     ]
    }
   ],
   "source": [
    "print(new_random_instance)"
   ]
  },
  {
   "cell_type": "code",
   "execution_count": 59,
   "id": "5fbc5f6e-335b-486d-98af-cfa8febf9fc5",
   "metadata": {},
   "outputs": [
    {
     "data": {
      "text/plain": [
       "array([0], dtype=int32)"
      ]
     },
     "execution_count": 59,
     "metadata": {},
     "output_type": "execute_result"
    }
   ],
   "source": [
    "k_means.predict(new_random_instance.reshape(1, -1))"
   ]
  },
  {
   "cell_type": "markdown",
   "id": "cca163f5-56ef-4a89-87fa-48db9a71fd70",
   "metadata": {},
   "source": [
    "Se ve que pertence al cluster 0. (que tiene coordenadas [-5.68529026, -4.51281943])"
   ]
  },
  {
   "cell_type": "code",
   "execution_count": 60,
   "id": "a35e4a4c-f3fb-42f5-a401-7f07029f5254",
   "metadata": {},
   "outputs": [
    {
     "data": {
      "text/plain": [
       "[4.523979570365403, 16.463348850807268, 7.777507484581425]"
      ]
     },
     "execution_count": 60,
     "metadata": {},
     "output_type": "execute_result"
    }
   ],
   "source": [
    "list(map(lambda x: np.linalg.norm(x - new_random_instance), k_means.cluster_centers_))"
   ]
  },
  {
   "cell_type": "markdown",
   "id": "963cd89b-da2f-466e-8849-42dbebba9a33",
   "metadata": {},
   "source": [
    "Se ve que tiene menor distancia al centroide del cluster 0"
   ]
  },
  {
   "cell_type": "code",
   "execution_count": 64,
   "id": "8fe177b5-7082-43e5-b5c7-a735d642081a",
   "metadata": {},
   "outputs": [
    {
     "data": {
      "text/plain": [
       "array([[ 4.52397957, 16.46334885,  7.77750748]])"
      ]
     },
     "execution_count": 64,
     "metadata": {},
     "output_type": "execute_result"
    }
   ],
   "source": [
    "# Otra forma de obtener las distancias a los centroides\n",
    "k_means.transform(new_random_instance.reshape(1, -1))"
   ]
  },
  {
   "cell_type": "markdown",
   "id": "4072d735-8ee4-4f03-a4f4-d3e5d5bd58de",
   "metadata": {},
   "source": [
    "## Eligiendo el número correcto de clusters"
   ]
  },
  {
   "cell_type": "code",
   "execution_count": 66,
   "id": "9732ef3c-a4cb-4e76-8b4a-9fac92e8ef83",
   "metadata": {},
   "outputs": [],
   "source": [
    "inertias = []\n",
    "\n",
    "for k in range(2, 8):\n",
    "    kmc = KMeans(n_clusters=k)\n",
    "    kmc.fit(X)\n",
    "    inertias.append(kmc.inertia_)\n",
    "    "
   ]
  },
  {
   "cell_type": "code",
   "execution_count": 67,
   "id": "1fb7635f-7aea-4dbc-9578-10a7e4c4b9eb",
   "metadata": {},
   "outputs": [
    {
     "data": {
      "image/png": "[encoded data removed]",
      "text/plain": [
       "<Figure size 432x288 with 1 Axes>"
      ]
     },
     "metadata": {
      "needs_background": "light"
     },
     "output_type": "display_data"
    }
   ],
   "source": [
    "plt.figure()\n",
    "plt.plot(inertias)\n",
    "plt.show()"
   ]
  },
  {
   "cell_type": "markdown",
   "id": "230fde70-9975-4d00-918f-486e4017e4b1",
   "metadata": {},
   "source": [
    "En este caso, en 3 clusters se ve el cambio de pendiente en la inertia! Entonces, 3 parece ser un buen número de clusters para elegir\n",
    "(0 es 2, 1 es 3, 2 es 4, etc.)"
   ]
  },
  {
   "cell_type": "markdown",
   "id": "bb945964-fba5-491d-9078-2a7938445624",
   "metadata": {},
   "source": [
    "### Otra forma (mejor, más fina) de medirlo, sería con el silhouette score"
   ]
  },
  {
   "cell_type": "code",
   "execution_count": 68,
   "id": "a5f80ae2-4604-43c5-bd3d-4d4dd21f527e",
   "metadata": {},
   "outputs": [
    {
     "data": {
      "text/plain": [
       "0.7314412310135069"
      ]
     },
     "execution_count": 68,
     "metadata": {},
     "output_type": "execute_result"
    }
   ],
   "source": [
    "from sklearn.metrics import silhouette_score\n",
    "\n",
    "silhouette_score(X, k_means.labels_)"
   ]
  },
  {
   "cell_type": "code",
   "execution_count": 70,
   "id": "0589781c-e993-464b-ba7e-4cc95dca5d57",
   "metadata": {},
   "outputs": [
    {
     "data": {
      "image/png": "[encoded data removed]",
      "text/plain": [
       "<Figure size 432x288 with 1 Axes>"
      ]
     },
     "metadata": {
      "needs_background": "light"
     },
     "output_type": "display_data"
    }
   ],
   "source": [
    "# Hago lo mismo que para el silhouette score\n",
    "s_scores = []\n",
    "\n",
    "for k in range(2, 10):\n",
    "    kmc = KMeans(n_clusters=k)\n",
    "    kmc.fit(X)\n",
    "    s_scores.append(silhouette_score(X, kmc.labels_))\n",
    "    \n",
    "plt.figure()\n",
    "plt.plot(s_scores)\n",
    "plt.show()"
   ]
  },
  {
   "cell_type": "markdown",
   "id": "d0665067-5536-4564-be35-70f72a436782",
   "metadata": {},
   "source": [
    "The higher, the better. Pero acá parece decirme que 2 es un mejor n_clusters que 3"
   ]
  },
  {
   "cell_type": "code",
   "execution_count": null,
   "id": "cad57b87-3940-405f-b0da-a1c029705c9e",
   "metadata": {},
   "outputs": [],
   "source": []
  }
 ],
 "metadata": {
  "kernelspec": {
   "display_name": "ho_ml_kernel",
   "language": "python",
   "name": "ho_ml_kernel"
  },
  "language_info": {
   "codemirror_mode": {
    "name": "ipython",
    "version": 3
   },
   "file_extension": ".py",
   "mimetype": "text/x-python",
   "name": "python",
   "nbconvert_exporter": "python",
   "pygments_lexer": "ipython3",
   "version": "3.8.5"
  }
 },
 "nbformat": 4,
 "nbformat_minor": 5
}
