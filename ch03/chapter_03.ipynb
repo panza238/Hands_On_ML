{
 "cells": [
  {
   "cell_type": "markdown",
   "id": "a339838e-7316-43e0-a3d4-1cab0e495876",
   "metadata": {},
   "source": [
    "# Chapter 03 - Classification"
   ]
  },
  {
   "cell_type": "markdown",
   "id": "67fb132f-725d-4c1a-9f17-dbc301cc2de0",
   "metadata": {},
   "source": [
    "Voy a trabajar con el dataset MNIST"
   ]
  },
  {
   "cell_type": "code",
   "execution_count": 14,
   "id": "8f2f36d0-6443-4ede-a10d-8176876b17e1",
   "metadata": {},
   "outputs": [],
   "source": [
    "from sklearn.datasets import fetch_openml\n",
    "import pandas as pd\n",
    "import numpy as np"
   ]
  },
  {
   "cell_type": "code",
   "execution_count": 2,
   "id": "054be1b3-12fc-45ef-91a2-027462716560",
   "metadata": {},
   "outputs": [
    {
     "data": {
      "text/plain": [
       "dict_keys(['data', 'target', 'frame', 'categories', 'feature_names', 'target_names', 'DESCR', 'details', 'url'])"
      ]
     },
     "execution_count": 2,
     "metadata": {},
     "output_type": "execute_result"
    }
   ],
   "source": [
    "mnist = fetch_openml('mnist_784', version=1)\n",
    "mnist.keys()"
   ]
  },
  {
   "cell_type": "code",
   "execution_count": 3,
   "id": "79666a7b-acec-45a6-838d-8bcf4c1cb18e",
   "metadata": {},
   "outputs": [
    {
     "name": "stdout",
     "output_type": "stream",
     "text": [
      "(70000, 784)\n",
      "(70000,)\n"
     ]
    }
   ],
   "source": [
    "X, y = mnist[\"data\"], mnist[\"target\"]\n",
    "print(X.shape)\n",
    "print(y.shape)"
   ]
  },
  {
   "cell_type": "markdown",
   "id": "6216bee5-5895-4782-8f3e-4a8c507f86d1",
   "metadata": {},
   "source": [
    "Ok. 70000 observaciones. Cada observación tiene 784 pixeles (28 x 28)"
   ]
  },
  {
   "cell_type": "code",
   "execution_count": 4,
   "id": "aaf13128-adf0-4e76-957e-978e8d86e351",
   "metadata": {},
   "outputs": [],
   "source": [
    "import matplotlib as mpl\n",
    "import matplotlib.pyplot as plt"
   ]
  },
  {
   "cell_type": "code",
   "execution_count": 10,
   "id": "d00fd2e8-f795-44cd-a9ca-16ffe2a688e8",
   "metadata": {},
   "outputs": [
    {
     "data": {
      "image/png": "[encoded data removed]",
      "text/plain": [
       "<Figure size 432x288 with 1 Axes>"
      ]
     },
     "metadata": {
      "needs_background": "light"
     },
     "output_type": "display_data"
    }
   ],
   "source": [
    "# Tomo una observación de ejemplo\n",
    "test_digit = X.values[0]\n",
    "test_label = y[0]\n",
    "\n",
    "test_digit_image = test_digit.reshape(28, 28)\n",
    "\n",
    "plt.imshow(test_digit_image, cmap=\"binary\")\n",
    "plt.axis(\"off\")\n",
    "plt.show()"
   ]
  },
  {
   "cell_type": "code",
   "execution_count": 11,
   "id": "1ca9ca2c-3e23-4055-b01d-ba013f253c63",
   "metadata": {},
   "outputs": [
    {
     "data": {
      "text/plain": [
       "'5'"
      ]
     },
     "execution_count": 11,
     "metadata": {},
     "output_type": "execute_result"
    }
   ],
   "source": [
    "test_label"
   ]
  },
  {
   "cell_type": "markdown",
   "id": "6c3fd149-62be-4b08-86f5-4522b42b95ca",
   "metadata": {},
   "source": [
    "Plotteo el 5, y veo que el label es un 5"
   ]
  },
  {
   "cell_type": "code",
   "execution_count": 17,
   "id": "8a1d8504-01cb-4da0-9c12-dfa130c84f08",
   "metadata": {},
   "outputs": [
    {
     "data": {
      "text/plain": [
       "dtype('uint8')"
      ]
     },
     "execution_count": 17,
     "metadata": {},
     "output_type": "execute_result"
    }
   ],
   "source": [
    "# Como veo que el label es una string. Convierto toda la serie y a int\n",
    "y = y.astype(np.uint8)\n",
    "y.dtype"
   ]
  },
  {
   "cell_type": "markdown",
   "id": "9a36d577-b111-4a36-97c8-aa0522cd3383",
   "metadata": {},
   "source": [
    "Check"
   ]
  },
  {
   "cell_type": "code",
   "execution_count": 20,
   "id": "08b0e507-3318-493c-b4dc-e3054a78bfb3",
   "metadata": {},
   "outputs": [],
   "source": [
    "# Separo en train y test sets \n",
    "X_train, X_test, y_train, y_test = X[:60000], X[60000:], y[:60000], y[60000:]\n",
    "# Esto es válido porque el dataset ya viene shuffled. Si no, tendría que separarlo y shufflearlo. No podría hacer el split directamente así."
   ]
  },
  {
   "cell_type": "markdown",
   "id": "dc1b40d0-ebc7-40fd-880e-f52ed8515954",
   "metadata": {},
   "source": [
    "## Binary classifier\n",
    "### 5 vs not-5"
   ]
  },
  {
   "cell_type": "code",
   "execution_count": 22,
   "id": "c73d7d9b-ed76-4908-9be7-2fb4b3126488",
   "metadata": {},
   "outputs": [],
   "source": [
    "# Tomo, de los datasets de training y testing, solo los registros cuyo target sea 5\n",
    "y_train_5 = (y_train == 5)\n",
    "y_test_5 = (y_test == 5)"
   ]
  },
  {
   "cell_type": "code",
   "execution_count": 23,
   "id": "60fbbd16-b89b-4de1-9db6-ebc419327b39",
   "metadata": {},
   "outputs": [
    {
     "data": {
      "text/plain": [
       "60000    False\n",
       "60001    False\n",
       "60002    False\n",
       "60003    False\n",
       "60004    False\n",
       "         ...  \n",
       "69995    False\n",
       "69996    False\n",
       "69997    False\n",
       "69998     True\n",
       "69999    False\n",
       "Name: class, Length: 10000, dtype: bool"
      ]
     },
     "execution_count": 23,
     "metadata": {},
     "output_type": "execute_result"
    }
   ],
   "source": [
    "y_test_5"
   ]
  },
  {
   "cell_type": "markdown",
   "id": "275148d3-c05c-45cc-a063-6ece0819b240",
   "metadata": {},
   "source": [
    "#### Esto me va a decir True si es 5 y false si no es 5"
   ]
  },
  {
   "cell_type": "code",
   "execution_count": 25,
   "id": "c7cd6004-b510-4bce-afbc-fb6f2d50943b",
   "metadata": {},
   "outputs": [],
   "source": [
    "# \"SGDClassifier es un buen lugar para empezar. Funciona bien con large datasets. It deals with training instances independently\"\n",
    "from sklearn.linear_model import SGDClassifier"
   ]
  },
  {
   "cell_type": "code",
   "execution_count": 26,
   "id": "818543cb-04b7-4d40-ae81-4b284c498991",
   "metadata": {},
   "outputs": [
    {
     "data": {
      "text/plain": [
       "array([ True])"
      ]
     },
     "execution_count": 26,
     "metadata": {},
     "output_type": "execute_result"
    }
   ],
   "source": [
    "sgd_clf = SGDClassifier(random_state=42)\n",
    "sgd_clf.fit(X_train, y_train_5)\n",
    "\n",
    "sgd_clf.predict([test_digit])"
   ]
  },
  {
   "cell_type": "code",
   "execution_count": 27,
   "id": "17f12e32-15d6-42d7-981f-76e1a9767c10",
   "metadata": {},
   "outputs": [
    {
     "data": {
      "text/plain": [
       "'5'"
      ]
     },
     "execution_count": 27,
     "metadata": {},
     "output_type": "execute_result"
    }
   ],
   "source": [
    "test_label"
   ]
  },
  {
   "cell_type": "markdown",
   "id": "92e85f2e-17bc-48f5-8a3b-b58ca5e8ae8a",
   "metadata": {},
   "source": [
    "Bien! Predice 5 y el true label es efectivamente 5"
   ]
  },
  {
   "cell_type": "markdown",
   "id": "f83bb07a-8007-4aef-835d-8fa051ef4b15",
   "metadata": {},
   "source": [
    "### Classifier performance meassures\n",
    "Esto es lo más importante. Saber evaluar un classifier es CLAVE"
   ]
  },
  {
   "cell_type": "code",
   "execution_count": 28,
   "id": "e2b19a8c-1eef-48cc-a885-eac63384e059",
   "metadata": {},
   "outputs": [],
   "source": [
    "# Primero, voy al cross_val score, como hice con la regresión\n",
    "from sklearn.model_selection import cross_val_score"
   ]
  },
  {
   "cell_type": "code",
   "execution_count": 29,
   "id": "4a1dab4e-341b-42e6-96f2-3811f203fc03",
   "metadata": {},
   "outputs": [
    {
     "name": "stdout",
     "output_type": "stream",
     "text": [
      "95.035 %\n",
      "96.035 %\n",
      "96.04 %\n"
     ]
    }
   ],
   "source": [
    "# Evalúo, mediante cross validation, la performance del clasificador\n",
    "scores = cross_val_score(sgd_clf, X_train, y_train_5, cv=3, scoring=\"accuracy\")\n",
    "for score in scores:\n",
    "    print(score * 100, \"%\")"
   ]
  },
  {
   "cell_type": "markdown",
   "id": "f6e38874-a70c-4ffe-8b4f-901795521641",
   "metadata": {},
   "source": [
    "### Trampa de accuracy! 95% Parece MUY bueno. Pero en los clasificadores, la accuracy sola no nos dice mucho. Especialmente cuando los datasets no son parejos en cuanto a distribución de clases. En este caso, la clase 5 representa un 10% del dataset, y la clase not-5 representa un 90% del dataset"
   ]
  },
  {
   "cell_type": "code",
   "execution_count": 31,
   "id": "2282b7dd-7412-45cd-91be-fdc3346163ac",
   "metadata": {},
   "outputs": [],
   "source": [
    "# Ejemplo para mostrar la trampa de accuracy:\n",
    "# Armo un predictor que SIEMPRE devuelva not-5. (independientemente del input)\n",
    "from sklearn.base import BaseEstimator\n",
    "\n",
    "class Never_5(BaseEstimator):\n",
    "    def fit(self, X, y=None):\n",
    "        return self\n",
    "    def predict(self, X):\n",
    "        return np.zeros((len(X), 1), dtype=bool)"
   ]
  },
  {
   "cell_type": "code",
   "execution_count": 34,
   "id": "13a7eeb1-72ac-4dbf-82e6-8fe57b275970",
   "metadata": {},
   "outputs": [
    {
     "name": "stdout",
     "output_type": "stream",
     "text": [
      "91.125 %\n",
      "90.85499999999999 %\n",
      "90.915 %\n"
     ]
    }
   ],
   "source": [
    "nvr_5 = Never_5()\n",
    "\n",
    "nvr_5.fit(X_train, y_train_5)\n",
    "\n",
    "not_5_scores = cross_val_score(nvr_5, X_train, y_train_5, cv = 3, scoring=\"accuracy\")\n",
    "for score in not_5_scores:\n",
    "    print(score * 100, \"%\")"
   ]
  },
  {
   "cell_type": "markdown",
   "id": "bd005e8a-e0f0-4d5f-bd16-853e40cf70d6",
   "metadata": {},
   "source": [
    "De paso... así es como se define un custom estimator\n",
    "### Con este estimator que predice SIEMPRE la majority class, tenemos un accuracy de 91%. Ahora, 95% no parece taaan bueno"
   ]
  },
  {
   "cell_type": "markdown",
   "id": "31b8e101-e2e5-4e8c-a957-06c3136dc83a",
   "metadata": {},
   "source": [
    "### Confusion matrix\n",
    "Vamos a ver qué errores está cometiendo el algoritmo"
   ]
  },
  {
   "cell_type": "code",
   "execution_count": 35,
   "id": "8e208d9a-6f02-4a39-8e4c-fefbcba04bbc",
   "metadata": {},
   "outputs": [],
   "source": [
    "from sklearn.model_selection import cross_val_predict"
   ]
  },
  {
   "cell_type": "code",
   "execution_count": 40,
   "id": "8a6e6cb3-4681-4bf7-aca7-555025a9a39f",
   "metadata": {},
   "outputs": [
    {
     "data": {
      "text/plain": [
       "array([ True, False, False, ...,  True, False, False])"
      ]
     },
     "execution_count": 40,
     "metadata": {},
     "output_type": "execute_result"
    }
   ],
   "source": [
    "# Cross val predict es como cross_val_score. Pero te devuelve las predicciones en lugar de devolverte los scores\n",
    "y_train_pred = cross_val_predict(sgd_clf, X_train, y_train_5, cv=3)\n",
    "# AHH. El cv=3 decide en cuántos folds separa. Esto va a devolver una predicción para cada elemento en el training set. MUY UTIL!\n",
    "y_train_pred"
   ]
  },
  {
   "cell_type": "code",
   "execution_count": 42,
   "id": "85815eff-9717-4fa6-9cde-b48749ef14c0",
   "metadata": {},
   "outputs": [
    {
     "data": {
      "text/plain": [
       "60000"
      ]
     },
     "execution_count": 42,
     "metadata": {},
     "output_type": "execute_result"
    }
   ],
   "source": [
    "len(y_train_pred)"
   ]
  },
  {
   "cell_type": "code",
   "execution_count": 45,
   "id": "b4709f4e-6252-4906-87bf-35ca64765fd2",
   "metadata": {},
   "outputs": [
    {
     "data": {
      "text/plain": [
       "array([[53892,   687],\n",
       "       [ 1891,  3530]])"
      ]
     },
     "execution_count": 45,
     "metadata": {},
     "output_type": "execute_result"
    }
   ],
   "source": [
    "# Ahora si, vamos a la confusion matrix\n",
    "from sklearn.metrics import confusion_matrix\n",
    "\n",
    "confusion_matrix(y_pred=y_train_pred, y_true=y_train_5)"
   ]
  },
  {
   "cell_type": "markdown",
   "id": "023ac228-6dbd-4737-9459-cfb9f82536fe",
   "metadata": {},
   "source": [
    "Eje vertical: Actual classes, Eje horizontal: Predicted classes<br>\n",
    "Rows: actual classes, Columns: predicted classes <br>\n",
    "El orden de las filas / columnas es Negative, Positive. Es decir, el primer cuadrante es Negative / Negative"
   ]
  },
  {
   "cell_type": "markdown",
   "id": "8f350a87-b762-4aee-9470-8218587b9be7",
   "metadata": {},
   "source": [
    "#### A partir de la confusion matrix puedo calcular precision y recall, métricas que complementan el accuracy. Me muestran algo más parecido a la imagen completa"
   ]
  },
  {
   "cell_type": "code",
   "execution_count": 50,
   "id": "abe3384a-4044-4807-89d1-e5a3f766a868",
   "metadata": {},
   "outputs": [
    {
     "name": "stdout",
     "output_type": "stream",
     "text": [
      "precision: 83.71 %\n",
      "recall: 65.12 %\n"
     ]
    }
   ],
   "source": [
    "from sklearn.metrics import precision_score, recall_score\n",
    "\n",
    "precision = precision_score(y_true=y_train_5, y_pred=y_train_pred)\n",
    "recall = recall_score(y_true=y_train_5, y_pred=y_train_pred)\n",
    "\n",
    "print(f\"precision: {round(precision, 4) * 100} %\")\n",
    "print(f\"recall: {round(recall, 4) * 100} %\")"
   ]
  },
  {
   "cell_type": "markdown",
   "id": "2cb24b0a-adbc-4736-bf2a-86d82a5884f4",
   "metadata": {},
   "source": [
    "Precision = Minimiza FP (falsos positivos)<br>\n",
    "Recall = Minimiza FN (falsos negativos)"
   ]
  },
  {
   "cell_type": "code",
   "execution_count": 52,
   "id": "df64ee3e-56e0-4429-946e-8492e094eaeb",
   "metadata": {},
   "outputs": [
    {
     "data": {
      "text/plain": [
       "0.7325171197343846"
      ]
     },
     "execution_count": 52,
     "metadata": {},
     "output_type": "execute_result"
    }
   ],
   "source": [
    "# f1 score es la media harmónica entre precision y recall\n",
    "from sklearn.metrics import f1_score\n",
    "\n",
    "f1_score = f1_score(y_true=y_train_5, y_pred=y_train_pred)\n",
    "f1_score"
   ]
  },
  {
   "cell_type": "markdown",
   "id": "4ea803e7-8d4f-480c-9a53-00e86c10282a",
   "metadata": {},
   "source": [
    "Como combina precision y recall, el F1 score es bastante utilizado como métrica. El tema es que tiende a favorecer modelos con precision y recall similares. Personalmente no me gusta demasiado esto. Creo que uno siempre está optimizando para un lado o para otro."
   ]
  },
  {
   "cell_type": "markdown",
   "id": "3b5e7c88-ab02-4812-8d13-ecf95f13d36a",
   "metadata": {},
   "source": [
    "### Jugando con thresholds de decisión para inclinar modificar el trade-off entre precisión y recall\n",
    "sklearn no te deja tocar directamente los thresholds. Pero nos da el valor de la función de decisión. A partir de este valor, se pueden tomar decisiones con un if (sobre todo en caso de un clasificador binario)"
   ]
  },
  {
   "cell_type": "code",
   "execution_count": 53,
   "id": "6f12b8c1-c7a2-47af-b851-7c81ac6f52de",
   "metadata": {},
   "outputs": [
    {
     "data": {
      "text/plain": [
       "array([2164.22030239])"
      ]
     },
     "execution_count": 53,
     "metadata": {},
     "output_type": "execute_result"
    }
   ],
   "source": [
    "test_y_score = sgd_clf.decision_function([test_digit])\n",
    "test_y_score"
   ]
  },
  {
   "cell_type": "markdown",
   "id": "1d92b202-2655-4eb2-9cce-140d313891bc",
   "metadata": {},
   "source": [
    "#### Si yo setteara el threshold en 2000, lo predice como True. Si lo setteo en 3000, lo predice como false. (si subo el threshold, aumento precision a expensas del recall. Voy a tener menos falsos positivos, pero más falsos negativos)"
   ]
  },
  {
   "cell_type": "markdown",
   "id": "844cfd27-99be-40af-9d96-eec2a30ee2bc",
   "metadata": {},
   "source": [
    "#### ¿Cómo decido el threshold? Vamos a la precision - recall curve "
   ]
  },
  {
   "cell_type": "code",
   "execution_count": 56,
   "id": "34a5a8c5-0585-4823-927b-6093795fd09a",
   "metadata": {},
   "outputs": [],
   "source": [
    "# Primero, tomo todos los valores de la decision function del training set\n",
    "y_df_scores = cross_val_predict(estimator=sgd_clf, X=X_train, y=y_train_5, cv=3, method=\"decision_function\")"
   ]
  },
  {
   "cell_type": "code",
   "execution_count": 61,
   "id": "eb292a83-f865-4e85-8d1b-7360f825b115",
   "metadata": {},
   "outputs": [
    {
     "data": {
      "image/png": "[encoded data removed]",
      "text/plain": [
       "<Figure size 864x576 with 1 Axes>"
      ]
     },
     "metadata": {
      "needs_background": "light"
     },
     "output_type": "display_data"
    }
   ],
   "source": [
    "from sklearn.metrics import precision_recall_curve\n",
    "\n",
    "precisions, recalls, thresholds = precision_recall_curve(y_train_5, y_df_scores)\n",
    "\n",
    "def plot_precision_recall_vs_threshold(precisions, recalls, thresholds):\n",
    "    plt.plot(thresholds, precisions[:-1], \"b--\", label=\"Precision\")\n",
    "    plt.plot(thresholds, recalls[:-1], \"g-\", label=\"Recall\")\n",
    "\n",
    "plt.figure(figsize=(12, 8))\n",
    "plot_precision_recall_vs_threshold(precisions, recalls, thresholds)\n",
    "plt.show()"
   ]
  },
  {
   "cell_type": "code",
   "execution_count": 62,
   "id": "72de444d-72a2-4ab4-b174-0bf1c7926e68",
   "metadata": {},
   "outputs": [
    {
     "data": {
      "image/png": "[encoded data removed]",
      "text/plain": [
       "<Figure size 864x576 with 1 Axes>"
      ]
     },
     "metadata": {
      "needs_background": "light"
     },
     "output_type": "display_data"
    }
   ],
   "source": [
    "# Plotteo directamente precison vs recall\n",
    "plt.figure(figsize=(12, 8))\n",
    "plt.plot(precisions, recalls)\n",
    "plt.show()"
   ]
  },
  {
   "cell_type": "markdown",
   "id": "94584fff-000a-4e48-b33c-abf19be04fa2",
   "metadata": {},
   "source": [
    "#### A partir de esto, intentemos crear un clasificador con 90% precision."
   ]
  },
  {
   "cell_type": "code",
   "execution_count": 63,
   "id": "6e7f3548-03d4-4080-9a1a-9e1b2271d133",
   "metadata": {},
   "outputs": [
    {
     "data": {
      "text/plain": [
       "3370.019499143958"
      ]
     },
     "execution_count": 63,
     "metadata": {},
     "output_type": "execute_result"
    }
   ],
   "source": [
    "threshold_90_precision = thresholds[np.argmax(precisions >= 0.90)]\n",
    "threshold_90_precision"
   ]
  },
  {
   "cell_type": "markdown",
   "id": "74c56754-a484-4ae8-8d51-273c0c651f02",
   "metadata": {},
   "source": [
    "OK. 3370 es el threshold para que el clasificador tenga 90% de precision."
   ]
  },
  {
   "cell_type": "code",
   "execution_count": 64,
   "id": "63c18c46-85d9-41c9-b5fb-ed88fe9b1fb2",
   "metadata": {},
   "outputs": [
    {
     "name": "stdout",
     "output_type": "stream",
     "text": [
      "precision: 90.00345901072293 %\n",
      "recall: 47.99852425751706 %\n"
     ]
    }
   ],
   "source": [
    "# Tomo los y_df_scores que calculé antes.\n",
    "y_train_pred_90 = (y_df_scores >= threshold_90_precision)\n",
    "precision_score_90 = precision_score(y_true=y_train_5, y_pred=y_train_pred_90)\n",
    "recall_score_90 = recall_score(y_true=y_train_5, y_pred=y_train_pred_90)\n",
    "\n",
    "print(f\"precision: {precision_score_90 * 100} %\")\n",
    "print(f\"recall: {recall_score_90 * 100} %\")"
   ]
  },
  {
   "cell_type": "markdown",
   "id": "7b563580-5ef6-435d-bec7-43a2f9f832d5",
   "metadata": {},
   "source": [
    "#### Perfecto. Tengo mi clasificador con 90% de precisión. Pero a expensas de la recall"
   ]
  },
  {
   "cell_type": "markdown",
   "id": "77f0cd9c-c62f-4541-ac63-649b3866e7f6",
   "metadata": {},
   "source": [
    "### ROC Curve. Muy útil"
   ]
  },
  {
   "cell_type": "code",
   "execution_count": 65,
   "id": "2c4f5c00-a07a-4444-9cd8-575269db91e7",
   "metadata": {},
   "outputs": [
    {
     "data": {
      "image/png": "[encoded data removed]",
      "text/plain": [
       "<Figure size 864x576 with 1 Axes>"
      ]
     },
     "metadata": {
      "needs_background": "light"
     },
     "output_type": "display_data"
    }
   ],
   "source": [
    "from sklearn.metrics import roc_curve\n",
    "\n",
    "fpr, tpr, thresholds = roc_curve(y_train_5, y_df_scores)\n",
    "\n",
    "def plot_roc_curve(fpr, tpr, label=None):\n",
    "    plt.plot(fpr, tpr, linewidth=2, label=label)\n",
    "    plt.plot([0, 1], [0, 1], 'k--') # Dashed diagonal\n",
    "\n",
    "plt.figure(figsize=(12, 8))\n",
    "plot_roc_curve(fpr, tpr)\n",
    "plt.show()"
   ]
  },
  {
   "cell_type": "code",
   "execution_count": 66,
   "id": "d56d7dc9-4808-4d42-9bfa-e9907204ed64",
   "metadata": {},
   "outputs": [
    {
     "name": "stdout",
     "output_type": "stream",
     "text": [
      "0.9604938554008616\n"
     ]
    }
   ],
   "source": [
    "# El área debajo de la curva ROC permite comparar 2 clasificadores (1 sería un clasificador prefecto. 0.5 sería un clasificador random)\n",
    "from sklearn.metrics import roc_auc_score\n",
    "roc_auc = roc_auc_score(y_true=y_train_5, y_score=y_df_scores)\n",
    "print(roc_auc)"
   ]
  },
  {
   "cell_type": "markdown",
   "id": "c714511b-624a-4a22-8f19-564a89fc081d",
   "metadata": {},
   "source": [
    "#### Pruebo otro clasificador: RF"
   ]
  },
  {
   "cell_type": "code",
   "execution_count": 67,
   "id": "5eae5c3b-6ac2-4bc2-bff2-72d94fb8d20f",
   "metadata": {},
   "outputs": [
    {
     "data": {
      "image/png": "[encoded data removed]",
      "text/plain": [
       "<Figure size 864x576 with 1 Axes>"
      ]
     },
     "metadata": {
      "needs_background": "light"
     },
     "output_type": "display_data"
    }
   ],
   "source": [
    "from sklearn.ensemble import RandomForestClassifier\n",
    "\n",
    "forest_clf = RandomForestClassifier(random_state=42)\n",
    "y_probas_forest = cross_val_predict(forest_clf, X_train, y_train_5, cv=3,method=\"predict_proba\")\n",
    "\n",
    "y_scores_forest = y_probas_forest[:, 1]\n",
    "# score = proba of positive class\n",
    "fpr_forest, tpr_forest, thresholds_forest = roc_curve(y_train_5,y_scores_forest)\n",
    "\n",
    "plt.figure(figsize=(12, 8))\n",
    "plt.plot(fpr, tpr, \"b:\", label=\"SGD\")\n",
    "plot_roc_curve(fpr_forest, tpr_forest, \"Random Forest\")\n",
    "plt.legend(loc=\"lower right\")\n",
    "plt.show()"
   ]
  },
  {
   "cell_type": "code",
   "execution_count": 68,
   "id": "4bfbd096-be0e-4a24-8439-5d3f4d96c97f",
   "metadata": {},
   "outputs": [
    {
     "data": {
      "text/plain": [
       "0.9983436731328145"
      ]
     },
     "execution_count": 68,
     "metadata": {},
     "output_type": "execute_result"
    }
   ],
   "source": [
    "roc_auc_score(y_train_5, y_scores_forest)"
   ]
  },
  {
   "cell_type": "markdown",
   "id": "e5372adc-23ff-4121-8670-0d134e372cd4",
   "metadata": {},
   "source": [
    "## Multiclass Classification"
   ]
  },
  {
   "cell_type": "code",
   "execution_count": null,
   "id": "1f1a0373-369b-4956-818b-8855ca09a9cb",
   "metadata": {},
   "outputs": [],
   "source": []
  }
 ],
 "metadata": {
  "kernelspec": {
   "display_name": "ho_ml_kernel",
   "language": "python",
   "name": "ho_ml_kernel"
  },
  "language_info": {
   "codemirror_mode": {
    "name": "ipython",
    "version": 3
   },
   "file_extension": ".py",
   "mimetype": "text/x-python",
   "name": "python",
   "nbconvert_exporter": "python",
   "pygments_lexer": "ipython3",
   "version": "3.8.5"
  }
 },
 "nbformat": 4,
 "nbformat_minor": 5
}
