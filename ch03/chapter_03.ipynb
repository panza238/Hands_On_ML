{
 "cells": [
  {
   "cell_type": "markdown",
   "id": "a339838e-7316-43e0-a3d4-1cab0e495876",
   "metadata": {},
   "source": [
    "# Chapter 03 - Classification"
   ]
  },
  {
   "cell_type": "markdown",
   "id": "67fb132f-725d-4c1a-9f17-dbc301cc2de0",
   "metadata": {},
   "source": [
    "Voy a trabajar con el dataset MNIST"
   ]
  },
  {
   "cell_type": "code",
   "execution_count": 1,
   "id": "8f2f36d0-6443-4ede-a10d-8176876b17e1",
   "metadata": {},
   "outputs": [],
   "source": [
    "from sklearn.datasets import fetch_openml\n",
    "import pandas as pd\n",
    "import numpy as np"
   ]
  },
  {
   "cell_type": "code",
   "execution_count": 2,
   "id": "054be1b3-12fc-45ef-91a2-027462716560",
   "metadata": {},
   "outputs": [
    {
     "data": {
      "text/plain": [
       "dict_keys(['data', 'target', 'frame', 'categories', 'feature_names', 'target_names', 'DESCR', 'details', 'url'])"
      ]
     },
     "execution_count": 2,
     "metadata": {},
     "output_type": "execute_result"
    }
   ],
   "source": [
    "mnist = fetch_openml('mnist_784', version=1)\n",
    "mnist.keys()"
   ]
  },
  {
   "cell_type": "code",
   "execution_count": 3,
   "id": "79666a7b-acec-45a6-838d-8bcf4c1cb18e",
   "metadata": {},
   "outputs": [
    {
     "name": "stdout",
     "output_type": "stream",
     "text": [
      "(70000, 784)\n",
      "(70000,)\n"
     ]
    }
   ],
   "source": [
    "X, y = mnist[\"data\"], mnist[\"target\"]\n",
    "print(X.shape)\n",
    "print(y.shape)"
   ]
  },
  {
   "cell_type": "markdown",
   "id": "6216bee5-5895-4782-8f3e-4a8c507f86d1",
   "metadata": {},
   "source": [
    "Ok. 70000 observaciones. Cada observación tiene 784 pixeles (28 x 28)"
   ]
  },
  {
   "cell_type": "code",
   "execution_count": 4,
   "id": "aaf13128-adf0-4e76-957e-978e8d86e351",
   "metadata": {},
   "outputs": [],
   "source": [
    "import matplotlib as mpl\n",
    "import matplotlib.pyplot as plt"
   ]
  },
  {
   "cell_type": "code",
   "execution_count": 5,
   "id": "d00fd2e8-f795-44cd-a9ca-16ffe2a688e8",
   "metadata": {},
   "outputs": [
    {
     "data": {
      "image/png": "[encoded data removed]",
      "text/plain": [
       "<Figure size 432x288 with 1 Axes>"
      ]
     },
     "metadata": {
      "needs_background": "light"
     },
     "output_type": "display_data"
    }
   ],
   "source": [
    "# Tomo una observación de ejemplo\n",
    "test_digit = X.values[0]\n",
    "test_label = y[0]\n",
    "\n",
    "test_digit_image = test_digit.reshape(28, 28)\n",
    "\n",
    "plt.imshow(test_digit_image, cmap=\"binary\")\n",
    "plt.axis(\"off\")\n",
    "plt.show()"
   ]
  },
  {
   "cell_type": "code",
   "execution_count": 6,
   "id": "1ca9ca2c-3e23-4055-b01d-ba013f253c63",
   "metadata": {},
   "outputs": [
    {
     "data": {
      "text/plain": [
       "'5'"
      ]
     },
     "execution_count": 6,
     "metadata": {},
     "output_type": "execute_result"
    }
   ],
   "source": [
    "test_label"
   ]
  },
  {
   "cell_type": "markdown",
   "id": "6c3fd149-62be-4b08-86f5-4522b42b95ca",
   "metadata": {},
   "source": [
    "Plotteo el 5, y veo que el label es un 5"
   ]
  },
  {
   "cell_type": "code",
   "execution_count": 7,
   "id": "8a1d8504-01cb-4da0-9c12-dfa130c84f08",
   "metadata": {},
   "outputs": [
    {
     "data": {
      "text/plain": [
       "dtype('uint8')"
      ]
     },
     "execution_count": 7,
     "metadata": {},
     "output_type": "execute_result"
    }
   ],
   "source": [
    "# Como veo que el label es una string. Convierto toda la serie y a int\n",
    "y = y.astype(np.uint8)\n",
    "y.dtype"
   ]
  },
  {
   "cell_type": "markdown",
   "id": "9a36d577-b111-4a36-97c8-aa0522cd3383",
   "metadata": {},
   "source": [
    "Check"
   ]
  },
  {
   "cell_type": "code",
   "execution_count": 8,
   "id": "08b0e507-3318-493c-b4dc-e3054a78bfb3",
   "metadata": {},
   "outputs": [],
   "source": [
    "# Separo en train y test sets \n",
    "X_train, X_test, y_train, y_test = X[:60000], X[60000:], y[:60000], y[60000:]\n",
    "# Esto es válido porque el dataset ya viene shuffled. Si no, tendría que separarlo y shufflearlo. No podría hacer el split directamente así."
   ]
  },
  {
   "cell_type": "markdown",
   "id": "dc1b40d0-ebc7-40fd-880e-f52ed8515954",
   "metadata": {},
   "source": [
    "## Binary classifier\n",
    "### 5 vs not-5"
   ]
  },
  {
   "cell_type": "code",
   "execution_count": 9,
   "id": "c73d7d9b-ed76-4908-9be7-2fb4b3126488",
   "metadata": {},
   "outputs": [],
   "source": [
    "# Tomo, de los datasets de training y testing, solo los registros cuyo target sea 5\n",
    "y_train_5 = (y_train == 5)\n",
    "y_test_5 = (y_test == 5)"
   ]
  },
  {
   "cell_type": "code",
   "execution_count": 10,
   "id": "60fbbd16-b89b-4de1-9db6-ebc419327b39",
   "metadata": {},
   "outputs": [
    {
     "data": {
      "text/plain": [
       "60000    False\n",
       "60001    False\n",
       "60002    False\n",
       "60003    False\n",
       "60004    False\n",
       "         ...  \n",
       "69995    False\n",
       "69996    False\n",
       "69997    False\n",
       "69998     True\n",
       "69999    False\n",
       "Name: class, Length: 10000, dtype: bool"
      ]
     },
     "execution_count": 10,
     "metadata": {},
     "output_type": "execute_result"
    }
   ],
   "source": [
    "y_test_5"
   ]
  },
  {
   "cell_type": "markdown",
   "id": "275148d3-c05c-45cc-a063-6ece0819b240",
   "metadata": {},
   "source": [
    "#### Esto me va a decir True si es 5 y false si no es 5"
   ]
  },
  {
   "cell_type": "code",
   "execution_count": 11,
   "id": "c7cd6004-b510-4bce-afbc-fb6f2d50943b",
   "metadata": {},
   "outputs": [],
   "source": [
    "# \"SGDClassifier es un buen lugar para empezar. Funciona bien con large datasets. It deals with training instances independently\"\n",
    "from sklearn.linear_model import SGDClassifier"
   ]
  },
  {
   "cell_type": "code",
   "execution_count": 12,
   "id": "818543cb-04b7-4d40-ae81-4b284c498991",
   "metadata": {},
   "outputs": [
    {
     "data": {
      "text/plain": [
       "array([ True])"
      ]
     },
     "execution_count": 12,
     "metadata": {},
     "output_type": "execute_result"
    }
   ],
   "source": [
    "sgd_clf = SGDClassifier(random_state=42)\n",
    "sgd_clf.fit(X_train, y_train_5)\n",
    "\n",
    "sgd_clf.predict([test_digit])"
   ]
  },
  {
   "cell_type": "code",
   "execution_count": 13,
   "id": "17f12e32-15d6-42d7-981f-76e1a9767c10",
   "metadata": {},
   "outputs": [
    {
     "data": {
      "text/plain": [
       "'5'"
      ]
     },
     "execution_count": 13,
     "metadata": {},
     "output_type": "execute_result"
    }
   ],
   "source": [
    "test_label"
   ]
  },
  {
   "cell_type": "markdown",
   "id": "92e85f2e-17bc-48f5-8a3b-b58ca5e8ae8a",
   "metadata": {},
   "source": [
    "Bien! Predice 5 y el true label es efectivamente 5"
   ]
  },
  {
   "cell_type": "markdown",
   "id": "f83bb07a-8007-4aef-835d-8fa051ef4b15",
   "metadata": {},
   "source": [
    "### Classifier performance meassures\n",
    "Esto es lo más importante. Saber evaluar un classifier es CLAVE"
   ]
  },
  {
   "cell_type": "code",
   "execution_count": 14,
   "id": "e2b19a8c-1eef-48cc-a885-eac63384e059",
   "metadata": {},
   "outputs": [],
   "source": [
    "# Primero, voy al cross_val score, como hice con la regresión\n",
    "from sklearn.model_selection import cross_val_score"
   ]
  },
  {
   "cell_type": "code",
   "execution_count": 15,
   "id": "4a1dab4e-341b-42e6-96f2-3811f203fc03",
   "metadata": {},
   "outputs": [
    {
     "name": "stdout",
     "output_type": "stream",
     "text": [
      "95.035 %\n",
      "96.035 %\n",
      "96.04 %\n"
     ]
    }
   ],
   "source": [
    "# Evalúo, mediante cross validation, la performance del clasificador\n",
    "scores = cross_val_score(sgd_clf, X_train, y_train_5, cv=3, scoring=\"accuracy\")\n",
    "for score in scores:\n",
    "    print(score * 100, \"%\")"
   ]
  },
  {
   "cell_type": "markdown",
   "id": "f6e38874-a70c-4ffe-8b4f-901795521641",
   "metadata": {},
   "source": [
    "### Trampa de accuracy! 95% Parece MUY bueno. Pero en los clasificadores, la accuracy sola no nos dice mucho. Especialmente cuando los datasets no son parejos en cuanto a distribución de clases. En este caso, la clase 5 representa un 10% del dataset, y la clase not-5 representa un 90% del dataset"
   ]
  },
  {
   "cell_type": "code",
   "execution_count": 16,
   "id": "2282b7dd-7412-45cd-91be-fdc3346163ac",
   "metadata": {},
   "outputs": [],
   "source": [
    "# Ejemplo para mostrar la trampa de accuracy:\n",
    "# Armo un predictor que SIEMPRE devuelva not-5. (independientemente del input)\n",
    "from sklearn.base import BaseEstimator\n",
    "\n",
    "class Never_5(BaseEstimator):\n",
    "    def fit(self, X, y=None):\n",
    "        return self\n",
    "    def predict(self, X):\n",
    "        return np.zeros((len(X), 1), dtype=bool)"
   ]
  },
  {
   "cell_type": "code",
   "execution_count": 17,
   "id": "13a7eeb1-72ac-4dbf-82e6-8fe57b275970",
   "metadata": {},
   "outputs": [
    {
     "name": "stdout",
     "output_type": "stream",
     "text": [
      "91.125 %\n",
      "90.85499999999999 %\n",
      "90.915 %\n"
     ]
    }
   ],
   "source": [
    "nvr_5 = Never_5()\n",
    "\n",
    "nvr_5.fit(X_train, y_train_5)\n",
    "\n",
    "not_5_scores = cross_val_score(nvr_5, X_train, y_train_5, cv = 3, scoring=\"accuracy\")\n",
    "for score in not_5_scores:\n",
    "    print(score * 100, \"%\")"
   ]
  },
  {
   "cell_type": "markdown",
   "id": "bd005e8a-e0f0-4d5f-bd16-853e40cf70d6",
   "metadata": {},
   "source": [
    "De paso... así es como se define un custom estimator\n",
    "### Con este estimator que predice SIEMPRE la majority class, tenemos un accuracy de 91%. Ahora, 95% no parece taaan bueno"
   ]
  },
  {
   "cell_type": "markdown",
   "id": "31b8e101-e2e5-4e8c-a957-06c3136dc83a",
   "metadata": {},
   "source": [
    "### Confusion matrix\n",
    "Vamos a ver qué errores está cometiendo el algoritmo"
   ]
  },
  {
   "cell_type": "code",
   "execution_count": 18,
   "id": "8e208d9a-6f02-4a39-8e4c-fefbcba04bbc",
   "metadata": {},
   "outputs": [],
   "source": [
    "from sklearn.model_selection import cross_val_predict"
   ]
  },
  {
   "cell_type": "code",
   "execution_count": 19,
   "id": "8a6e6cb3-4681-4bf7-aca7-555025a9a39f",
   "metadata": {},
   "outputs": [
    {
     "data": {
      "text/plain": [
       "array([ True, False, False, ...,  True, False, False])"
      ]
     },
     "execution_count": 19,
     "metadata": {},
     "output_type": "execute_result"
    }
   ],
   "source": [
    "# Cross val predict es como cross_val_score. Pero te devuelve las predicciones en lugar de devolverte los scores\n",
    "y_train_pred = cross_val_predict(sgd_clf, X_train, y_train_5, cv=3)\n",
    "# AHH. El cv=3 decide en cuántos folds separa. Esto va a devolver una predicción para cada elemento en el training set. MUY UTIL!\n",
    "y_train_pred"
   ]
  },
  {
   "cell_type": "code",
   "execution_count": 20,
   "id": "85815eff-9717-4fa6-9cde-b48749ef14c0",
   "metadata": {},
   "outputs": [
    {
     "data": {
      "text/plain": [
       "60000"
      ]
     },
     "execution_count": 20,
     "metadata": {},
     "output_type": "execute_result"
    }
   ],
   "source": [
    "len(y_train_pred)"
   ]
  },
  {
   "cell_type": "code",
   "execution_count": 21,
   "id": "b4709f4e-6252-4906-87bf-35ca64765fd2",
   "metadata": {},
   "outputs": [
    {
     "data": {
      "text/plain": [
       "array([[53892,   687],\n",
       "       [ 1891,  3530]])"
      ]
     },
     "execution_count": 21,
     "metadata": {},
     "output_type": "execute_result"
    }
   ],
   "source": [
    "# Ahora si, vamos a la confusion matrix\n",
    "from sklearn.metrics import confusion_matrix\n",
    "\n",
    "confusion_matrix(y_pred=y_train_pred, y_true=y_train_5)"
   ]
  },
  {
   "cell_type": "markdown",
   "id": "023ac228-6dbd-4737-9459-cfb9f82536fe",
   "metadata": {},
   "source": [
    "Eje vertical: Actual classes, Eje horizontal: Predicted classes<br>\n",
    "Rows: actual classes, Columns: predicted classes <br>\n",
    "El orden de las filas / columnas es Negative, Positive. Es decir, el primer cuadrante es Negative / Negative"
   ]
  },
  {
   "cell_type": "markdown",
   "id": "8f350a87-b762-4aee-9470-8218587b9be7",
   "metadata": {},
   "source": [
    "#### A partir de la confusion matrix puedo calcular precision y recall, métricas que complementan el accuracy. Me muestran algo más parecido a la imagen completa"
   ]
  },
  {
   "cell_type": "code",
   "execution_count": 22,
   "id": "abe3384a-4044-4807-89d1-e5a3f766a868",
   "metadata": {},
   "outputs": [
    {
     "name": "stdout",
     "output_type": "stream",
     "text": [
      "precision: 83.71 %\n",
      "recall: 65.12 %\n"
     ]
    }
   ],
   "source": [
    "from sklearn.metrics import precision_score, recall_score\n",
    "\n",
    "precision = precision_score(y_true=y_train_5, y_pred=y_train_pred)\n",
    "recall = recall_score(y_true=y_train_5, y_pred=y_train_pred)\n",
    "\n",
    "print(f\"precision: {round(precision, 4) * 100} %\")\n",
    "print(f\"recall: {round(recall, 4) * 100} %\")"
   ]
  },
  {
   "cell_type": "markdown",
   "id": "2cb24b0a-adbc-4736-bf2a-86d82a5884f4",
   "metadata": {},
   "source": [
    "Precision = Minimiza FP (falsos positivos)<br>\n",
    "Recall = Minimiza FN (falsos negativos)"
   ]
  },
  {
   "cell_type": "code",
   "execution_count": 23,
   "id": "df64ee3e-56e0-4429-946e-8492e094eaeb",
   "metadata": {},
   "outputs": [
    {
     "data": {
      "text/plain": [
       "0.7325171197343846"
      ]
     },
     "execution_count": 23,
     "metadata": {},
     "output_type": "execute_result"
    }
   ],
   "source": [
    "# f1 score es la media harmónica entre precision y recall\n",
    "from sklearn.metrics import f1_score\n",
    "\n",
    "f1_score = f1_score(y_true=y_train_5, y_pred=y_train_pred)\n",
    "f1_score"
   ]
  },
  {
   "cell_type": "markdown",
   "id": "4ea803e7-8d4f-480c-9a53-00e86c10282a",
   "metadata": {},
   "source": [
    "Como combina precision y recall, el F1 score es bastante utilizado como métrica. El tema es que tiende a favorecer modelos con precision y recall similares. Personalmente no me gusta demasiado esto. Creo que uno siempre está optimizando para un lado o para otro."
   ]
  },
  {
   "cell_type": "markdown",
   "id": "3b5e7c88-ab02-4812-8d13-ecf95f13d36a",
   "metadata": {},
   "source": [
    "### Jugando con thresholds de decisión para inclinar modificar el trade-off entre precisión y recall\n",
    "sklearn no te deja tocar directamente los thresholds. Pero nos da el valor de la función de decisión. A partir de este valor, se pueden tomar decisiones con un if (sobre todo en caso de un clasificador binario)"
   ]
  },
  {
   "cell_type": "code",
   "execution_count": 24,
   "id": "6f12b8c1-c7a2-47af-b851-7c81ac6f52de",
   "metadata": {},
   "outputs": [
    {
     "data": {
      "text/plain": [
       "array([2164.22030239])"
      ]
     },
     "execution_count": 24,
     "metadata": {},
     "output_type": "execute_result"
    }
   ],
   "source": [
    "test_y_score = sgd_clf.decision_function([test_digit])\n",
    "test_y_score"
   ]
  },
  {
   "cell_type": "markdown",
   "id": "1d92b202-2655-4eb2-9cce-140d313891bc",
   "metadata": {},
   "source": [
    "#### Si yo setteara el threshold en 2000, lo predice como True. Si lo setteo en 3000, lo predice como false. (si subo el threshold, aumento precision a expensas del recall. Voy a tener menos falsos positivos, pero más falsos negativos)"
   ]
  },
  {
   "cell_type": "markdown",
   "id": "844cfd27-99be-40af-9d96-eec2a30ee2bc",
   "metadata": {},
   "source": [
    "#### ¿Cómo decido el threshold? Vamos a la precision - recall curve "
   ]
  },
  {
   "cell_type": "code",
   "execution_count": 25,
   "id": "34a5a8c5-0585-4823-927b-6093795fd09a",
   "metadata": {},
   "outputs": [],
   "source": [
    "# Primero, tomo todos los valores de la decision function del training set\n",
    "y_df_scores = cross_val_predict(estimator=sgd_clf, X=X_train, y=y_train_5, cv=3, method=\"decision_function\")"
   ]
  },
  {
   "cell_type": "code",
   "execution_count": 26,
   "id": "eb292a83-f865-4e85-8d1b-7360f825b115",
   "metadata": {},
   "outputs": [
    {
     "data": {
      "image/png": "[encoded data removed]",
      "text/plain": [
       "<Figure size 864x576 with 1 Axes>"
      ]
     },
     "metadata": {
      "needs_background": "light"
     },
     "output_type": "display_data"
    }
   ],
   "source": [
    "from sklearn.metrics import precision_recall_curve\n",
    "\n",
    "precisions, recalls, thresholds = precision_recall_curve(y_train_5, y_df_scores)\n",
    "\n",
    "def plot_precision_recall_vs_threshold(precisions, recalls, thresholds):\n",
    "    plt.plot(thresholds, precisions[:-1], \"b--\", label=\"Precision\")\n",
    "    plt.plot(thresholds, recalls[:-1], \"g-\", label=\"Recall\")\n",
    "\n",
    "plt.figure(figsize=(12, 8))\n",
    "plot_precision_recall_vs_threshold(precisions, recalls, thresholds)\n",
    "plt.legend(loc=\"lower right\")\n",
    "plt.show()"
   ]
  },
  {
   "cell_type": "code",
   "execution_count": 27,
   "id": "72de444d-72a2-4ab4-b174-0bf1c7926e68",
   "metadata": {},
   "outputs": [
    {
     "name": "stderr",
     "output_type": "stream",
     "text": [
      "No handles with labels found to put in legend.\n"
     ]
    },
    {
     "data": {
      "image/png": "[encoded data removed]",
      "text/plain": [
       "<Figure size 864x576 with 1 Axes>"
      ]
     },
     "metadata": {
      "needs_background": "light"
     },
     "output_type": "display_data"
    }
   ],
   "source": [
    "# Plotteo directamente precison vs recall\n",
    "plt.figure(figsize=(12, 8))\n",
    "plt.plot(precisions, recalls)\n",
    "plt.legend(loc=\"lower right\")\n",
    "plt.show()"
   ]
  },
  {
   "cell_type": "markdown",
   "id": "94584fff-000a-4e48-b33c-abf19be04fa2",
   "metadata": {},
   "source": [
    "#### A partir de esto, intentemos crear un clasificador con 90% precision."
   ]
  },
  {
   "cell_type": "code",
   "execution_count": 28,
   "id": "6e7f3548-03d4-4080-9a1a-9e1b2271d133",
   "metadata": {},
   "outputs": [
    {
     "data": {
      "text/plain": [
       "3370.019499143958"
      ]
     },
     "execution_count": 28,
     "metadata": {},
     "output_type": "execute_result"
    }
   ],
   "source": [
    "threshold_90_precision = thresholds[np.argmax(precisions >= 0.90)]\n",
    "threshold_90_precision"
   ]
  },
  {
   "cell_type": "markdown",
   "id": "74c56754-a484-4ae8-8d51-273c0c651f02",
   "metadata": {},
   "source": [
    "OK. 3370 es el threshold para que el clasificador tenga 90% de precision."
   ]
  },
  {
   "cell_type": "code",
   "execution_count": 29,
   "id": "63c18c46-85d9-41c9-b5fb-ed88fe9b1fb2",
   "metadata": {},
   "outputs": [
    {
     "name": "stdout",
     "output_type": "stream",
     "text": [
      "precision: 90.00345901072293 %\n",
      "recall: 47.99852425751706 %\n"
     ]
    }
   ],
   "source": [
    "# Tomo los y_df_scores que calculé antes.\n",
    "y_train_pred_90 = (y_df_scores >= threshold_90_precision)\n",
    "precision_score_90 = precision_score(y_true=y_train_5, y_pred=y_train_pred_90)\n",
    "recall_score_90 = recall_score(y_true=y_train_5, y_pred=y_train_pred_90)\n",
    "\n",
    "print(f\"precision: {precision_score_90 * 100} %\")\n",
    "print(f\"recall: {recall_score_90 * 100} %\")"
   ]
  },
  {
   "cell_type": "markdown",
   "id": "7b563580-5ef6-435d-bec7-43a2f9f832d5",
   "metadata": {},
   "source": [
    "#### Perfecto. Tengo mi clasificador con 90% de precisión. Pero a expensas de la recall"
   ]
  },
  {
   "cell_type": "markdown",
   "id": "77f0cd9c-c62f-4541-ac63-649b3866e7f6",
   "metadata": {},
   "source": [
    "### ROC Curve. Muy útil"
   ]
  },
  {
   "cell_type": "code",
   "execution_count": 30,
   "id": "2c4f5c00-a07a-4444-9cd8-575269db91e7",
   "metadata": {},
   "outputs": [
    {
     "name": "stderr",
     "output_type": "stream",
     "text": [
      "No handles with labels found to put in legend.\n"
     ]
    },
    {
     "data": {
      "image/png": "[encoded data removed]",
      "text/plain": [
       "<Figure size 864x576 with 1 Axes>"
      ]
     },
     "metadata": {
      "needs_background": "light"
     },
     "output_type": "display_data"
    }
   ],
   "source": [
    "from sklearn.metrics import roc_curve\n",
    "\n",
    "fpr, tpr, thresholds = roc_curve(y_train_5, y_df_scores)\n",
    "\n",
    "def plot_roc_curve(fpr, tpr, label=None):\n",
    "    plt.plot(fpr, tpr, linewidth=2, label=label)\n",
    "    plt.plot([0, 1], [0, 1], 'k--') # Dashed diagonal\n",
    "\n",
    "plt.figure(figsize=(12, 8))\n",
    "plot_roc_curve(fpr, tpr)\n",
    "plt.legend(loc=\"lower right\")\n",
    "plt.show()"
   ]
  },
  {
   "cell_type": "code",
   "execution_count": 31,
   "id": "d56d7dc9-4808-4d42-9bfa-e9907204ed64",
   "metadata": {},
   "outputs": [
    {
     "name": "stdout",
     "output_type": "stream",
     "text": [
      "0.9604938554008616\n"
     ]
    }
   ],
   "source": [
    "# El área debajo de la curva ROC permite comparar 2 clasificadores (1 sería un clasificador prefecto. 0.5 sería un clasificador random)\n",
    "from sklearn.metrics import roc_auc_score\n",
    "roc_auc = roc_auc_score(y_true=y_train_5, y_score=y_df_scores)\n",
    "print(roc_auc)"
   ]
  },
  {
   "cell_type": "markdown",
   "id": "c714511b-624a-4a22-8f19-564a89fc081d",
   "metadata": {},
   "source": [
    "#### Pruebo otro clasificador: RF"
   ]
  },
  {
   "cell_type": "code",
   "execution_count": 32,
   "id": "5eae5c3b-6ac2-4bc2-bff2-72d94fb8d20f",
   "metadata": {},
   "outputs": [
    {
     "data": {
      "image/png": "[encoded data removed]",
      "text/plain": [
       "<Figure size 864x576 with 1 Axes>"
      ]
     },
     "metadata": {
      "needs_background": "light"
     },
     "output_type": "display_data"
    }
   ],
   "source": [
    "from sklearn.ensemble import RandomForestClassifier\n",
    "\n",
    "forest_clf = RandomForestClassifier(random_state=42)\n",
    "y_probas_forest = cross_val_predict(forest_clf, X_train, y_train_5, cv=3,method=\"predict_proba\")\n",
    "\n",
    "y_scores_forest = y_probas_forest[:, 1]\n",
    "# score = proba of positive class\n",
    "fpr_forest, tpr_forest, thresholds_forest = roc_curve(y_train_5,y_scores_forest)\n",
    "\n",
    "plt.figure(figsize=(12, 8))\n",
    "plt.plot(fpr, tpr, \"b:\", label=\"SGD\")\n",
    "plot_roc_curve(fpr_forest, tpr_forest, \"Random Forest\")\n",
    "plt.legend(loc=\"lower right\")\n",
    "plt.show()"
   ]
  },
  {
   "cell_type": "code",
   "execution_count": 33,
   "id": "4bfbd096-be0e-4a24-8439-5d3f4d96c97f",
   "metadata": {},
   "outputs": [
    {
     "data": {
      "text/plain": [
       "0.9983436731328145"
      ]
     },
     "execution_count": 33,
     "metadata": {},
     "output_type": "execute_result"
    }
   ],
   "source": [
    "roc_auc_score(y_train_5, y_scores_forest)"
   ]
  },
  {
   "cell_type": "markdown",
   "id": "e5372adc-23ff-4121-8670-0d134e372cd4",
   "metadata": {},
   "source": [
    "## Multiclass Classification"
   ]
  },
  {
   "cell_type": "code",
   "execution_count": 34,
   "id": "1f1a0373-369b-4956-818b-8855ca09a9cb",
   "metadata": {},
   "outputs": [
    {
     "data": {
      "text/plain": [
       "array([5], dtype=uint8)"
      ]
     },
     "execution_count": 34,
     "metadata": {},
     "output_type": "execute_result"
    }
   ],
   "source": [
    "from sklearn.svm import SVC\n",
    "\n",
    "svc_clf = SVC()\n",
    "svc_clf.fit(X_train, y_train)\n",
    "test_pred = svc_clf.predict([test_digit])\n",
    "test_pred"
   ]
  },
  {
   "cell_type": "code",
   "execution_count": 35,
   "id": "d43e579a-916d-40d8-a82e-313728f0bcdd",
   "metadata": {},
   "outputs": [
    {
     "data": {
      "text/plain": [
       "array([[ 1.72501977,  2.72809088,  7.2510018 ,  8.3076379 , -0.31087254,\n",
       "         9.3132482 ,  1.70975103,  2.76765202,  6.23049537,  4.84771048]])"
      ]
     },
     "execution_count": 35,
     "metadata": {},
     "output_type": "execute_result"
    }
   ],
   "source": [
    "test_pred_scores = svc_clf.decision_function([test_digit])\n",
    "test_pred_scores"
   ]
  },
  {
   "cell_type": "markdown",
   "id": "d46be474-fd54-4d10-a0a8-83a2a0c535a6",
   "metadata": {},
   "source": [
    "Me devuelve 10 scores para esta predicción. Uno para cada dígito. Devuelve la clase con mayor score (en este caso, la clase en el index 5)"
   ]
  },
  {
   "cell_type": "code",
   "execution_count": 36,
   "id": "55440a71-922a-4344-9ef4-0b5de0f7d380",
   "metadata": {},
   "outputs": [
    {
     "data": {
      "text/plain": [
       "5"
      ]
     },
     "execution_count": 36,
     "metadata": {},
     "output_type": "execute_result"
    }
   ],
   "source": [
    "np.argmax(test_pred_scores)"
   ]
  },
  {
   "cell_type": "markdown",
   "id": "81722048-896a-46cc-a101-e2f5e2d734f7",
   "metadata": {},
   "source": [
    "np.argmax me devuelve el index del elemento con mayor valor en el array."
   ]
  },
  {
   "cell_type": "code",
   "execution_count": 37,
   "id": "a8d37e81-c84c-42f4-b006-bbb26e94504e",
   "metadata": {},
   "outputs": [
    {
     "data": {
      "text/plain": [
       "array([0, 1, 2, 3, 4, 5, 6, 7, 8, 9], dtype=uint8)"
      ]
     },
     "execution_count": 37,
     "metadata": {},
     "output_type": "execute_result"
    }
   ],
   "source": [
    "svc_clf.classes_"
   ]
  },
  {
   "cell_type": "code",
   "execution_count": 38,
   "id": "ba5f8bb0-ef65-46fd-9de1-19b86123ed65",
   "metadata": {},
   "outputs": [
    {
     "data": {
      "text/plain": [
       "5"
      ]
     },
     "execution_count": 38,
     "metadata": {},
     "output_type": "execute_result"
    }
   ],
   "source": [
    "svc_clf.classes_[np.argmax(test_pred_scores)]"
   ]
  },
  {
   "cell_type": "markdown",
   "id": "50209762-3f80-45c3-90b3-55d2240eeb76",
   "metadata": {},
   "source": [
    "Justo sucede que, en este caso, el index coincide con la clase (index 5 = class 5). "
   ]
  },
  {
   "cell_type": "code",
   "execution_count": 39,
   "id": "b4c8f2a5-c1a5-4d5b-92fc-9d934150b861",
   "metadata": {},
   "outputs": [],
   "source": [
    "# Si quiero forzar a que el SVC use la estrategia de One-vs-Rest, uso la clase OneVsRest\n",
    "from sklearn.multiclass import OneVsRestClassifier\n",
    "ovr_clf = OneVsRestClassifier(SVC())\n",
    "# Después fitteo y todo lo demás"
   ]
  },
  {
   "cell_type": "markdown",
   "id": "89445ffc-170d-41d5-94dd-f922f16acff6",
   "metadata": {},
   "source": [
    "Por el contrario, otros clasficadores soportan la multiclass classification nativamente, por ejemplo, el RF o el SGD"
   ]
  },
  {
   "cell_type": "code",
   "execution_count": 40,
   "id": "f50f5c02-a0ed-4ddb-8084-5c1098612390",
   "metadata": {},
   "outputs": [],
   "source": [
    "# Ejemplo con SGD\n",
    "multi_class_sgd = SGDClassifier()\n",
    "multi_class_sgd.fit(X_train, y_train)\n",
    "multi_pred = multi_class_sgd.predict([test_digit])\n",
    "multi_score = multi_class_sgd.decision_function([test_digit])"
   ]
  },
  {
   "cell_type": "code",
   "execution_count": 42,
   "id": "a6e71f51-9e00-4066-93b3-bab8755fb2fe",
   "metadata": {},
   "outputs": [
    {
     "name": "stdout",
     "output_type": "stream",
     "text": [
      "[[-13173.57190453 -33440.63536524 -15195.76136427   -280.50323903\n",
      "  -18297.36350674   2426.24171326 -23655.84896322 -17589.3945247\n",
      "  -11821.8172761  -16200.02732562]]\n",
      "5\n",
      "[5]\n"
     ]
    }
   ],
   "source": [
    "print(multi_score)\n",
    "print(np.argmax(multi_score))\n",
    "print(multi_pred)"
   ]
  },
  {
   "cell_type": "markdown",
   "id": "cb21ab4e-2204-4120-b826-106a62c1a358",
   "metadata": {},
   "source": [
    "Notar que el SGD clasificó como 5 al único valor positivo.  Pero esto no es necesariamente así. Podría tener más de un valor positivo, en ese caso, se elige el máximo valor"
   ]
  },
  {
   "cell_type": "markdown",
   "id": "4695471b-f79a-44cd-ba30-4f62e32f6c6a",
   "metadata": {},
   "source": [
    "## Análisis de errores"
   ]
  },
  {
   "cell_type": "code",
   "execution_count": 43,
   "id": "3dfd77c2-91e6-4d94-8bd6-a934be5b3f3e",
   "metadata": {},
   "outputs": [
    {
     "data": {
      "text/plain": [
       "array([[5685,    1,   20,   19,   24,   18,   63,    3,   83,    7],\n",
       "       [   3, 6393,   37,   67,   12,    6,   36,    9,  171,    8],\n",
       "       [  65,   57, 4887,  252,   96,   13,  217,   81,  261,   29],\n",
       "       [  47,   28,  146, 5417,   17,   79,   39,   45,  233,   80],\n",
       "       [  16,   21,   19,   16, 5246,   13,   86,   19,  139,  267],\n",
       "       [ 123,   34,   45,  610,  135, 3431,  225,   22,  684,  112],\n",
       "       [  47,    8,   28,    7,   38,   37, 5691,    2,   57,    3],\n",
       "       [  28,   18,   51,   74,  117,   11,    5, 5522,   61,  378],\n",
       "       [  63,  111,   78,  254,   73,   92,  101,   14, 4955,  110],\n",
       "       [  37,   24,   22,  118,  287,   21,    3,  179,  173, 5085]])"
      ]
     },
     "execution_count": 43,
     "metadata": {},
     "output_type": "execute_result"
    }
   ],
   "source": [
    "multi_y_train_pred = cross_val_predict(multi_class_sgd, X_train, y_train, cv=3)\n",
    "multi_conf_mx = confusion_matrix(y_true=y_train, y_pred=multi_y_train_pred)\n",
    "multi_conf_mx"
   ]
  },
  {
   "cell_type": "code",
   "execution_count": 44,
   "id": "b13fba5b-cc6c-41ad-a253-92a7c2a945b7",
   "metadata": {},
   "outputs": [
    {
     "data": {
      "image/png": "[encoded data removed]",
      "text/plain": [
       "<Figure size 288x288 with 1 Axes>"
      ]
     },
     "metadata": {
      "needs_background": "light"
     },
     "output_type": "display_data"
    }
   ],
   "source": [
    "# Representación visual de la confusion matrix\n",
    "plt.matshow(multi_conf_mx, cmap=plt.cm.gray)\n",
    "plt.show()"
   ]
  },
  {
   "cell_type": "code",
   "execution_count": 52,
   "id": "eb7eb512-dfe7-4b31-9bab-8ae3892f8709",
   "metadata": {},
   "outputs": [
    {
     "data": {
      "image/png": "[encoded data removed]",
      "text/plain": [
       "<Figure size 576x576 with 1 Axes>"
      ]
     },
     "metadata": {
      "needs_background": "light"
     },
     "output_type": "display_data"
    }
   ],
   "source": [
    "plt.figure(figsize=(8, 8))\n",
    "plt.matshow(multi_conf_mx, cmap=plt.cm.winter, fignum=1)  # con fignum, le digo que quiero la figure que inicialicé en la línea anterior es la figure sobre la que quiero dibujar.\n",
    "plt.show()"
   ]
  },
  {
   "cell_type": "markdown",
   "id": "0d8f97ff-fbd0-4294-afd2-8d9a4bf7d627",
   "metadata": {},
   "source": [
    "#### Se ve que los 5s están un poco más oscuros. Ahora, como estoy tratando números absolutos, esto podría ser porque hay menos 5s en el dataset."
   ]
  },
  {
   "cell_type": "code",
   "execution_count": 53,
   "id": "427df444-7562-49d0-9b9d-b27470571dcc",
   "metadata": {},
   "outputs": [],
   "source": [
    "row_sums = multi_conf_mx.sum(axis=1, keepdims=True)  # Esto suma por fila. Recordar que las filas son las actual classes. las columnas son las predicted classes"
   ]
  },
  {
   "cell_type": "code",
   "execution_count": 54,
   "id": "24caf13b-a888-45b6-a48c-e3e376586560",
   "metadata": {},
   "outputs": [
    {
     "data": {
      "text/plain": [
       "array([[5923],\n",
       "       [6742],\n",
       "       [5958],\n",
       "       [6131],\n",
       "       [5842],\n",
       "       [5421],\n",
       "       [5918],\n",
       "       [6265],\n",
       "       [5851],\n",
       "       [5949]])"
      ]
     },
     "execution_count": 54,
     "metadata": {},
     "output_type": "execute_result"
    }
   ],
   "source": [
    "row_sums"
   ]
  },
  {
   "cell_type": "markdown",
   "id": "da930753-c575-4fd5-a954-0006214e2ee1",
   "metadata": {},
   "source": [
    "Ok... a priori, hay menos 5s"
   ]
  },
  {
   "cell_type": "code",
   "execution_count": 56,
   "id": "bb51382f-d04b-45e9-a8f6-5905db5df056",
   "metadata": {},
   "outputs": [],
   "source": [
    "norm_conf_mx = multi_conf_mx / row_sums  # Acá estoy dividiendo la matriz por un vector (el vector de sumas!). PERO NO ES UNA DIVISIÓN (MULTIPLICACIÓN) MATRICIAL!"
   ]
  },
  {
   "cell_type": "code",
   "execution_count": 58,
   "id": "afbe2bb9-ef3a-4481-8ebe-ea02211a288c",
   "metadata": {},
   "outputs": [
    {
     "data": {
      "text/plain": [
       "(10, 10)"
      ]
     },
     "execution_count": 58,
     "metadata": {},
     "output_type": "execute_result"
    }
   ],
   "source": [
    "norm_conf_mx.shape"
   ]
  },
  {
   "cell_type": "markdown",
   "id": "803726bb-880e-4414-9bc1-3f98f377d7ce",
   "metadata": {},
   "source": [
    "Esto no es una multiplicación matricial. Dividió cada elemento en cada fila, por el número correspondiente en el vector suma"
   ]
  },
  {
   "cell_type": "code",
   "execution_count": 60,
   "id": "d117456b-bbf1-42f1-800e-12a4e0d89d35",
   "metadata": {},
   "outputs": [
    {
     "data": {
      "image/png": "[encoded data removed]",
      "text/plain": [
       "<Figure size 576x576 with 1 Axes>"
      ]
     },
     "metadata": {
      "needs_background": "light"
     },
     "output_type": "display_data"
    }
   ],
   "source": [
    "# Lleno la diagonal con 0s, para visualizar únicamente los errores.\n",
    "np.fill_diagonal(norm_conf_mx, 0)\n",
    "\n",
    "plt.figure(figsize=(8, 8))\n",
    "plt.matshow(norm_conf_mx, cmap=plt.cm.winter, fignum=1)\n",
    "plt.show()"
   ]
  },
  {
   "cell_type": "markdown",
   "id": "68a0f3c0-43a3-46f3-9b24-a605ae76d458",
   "metadata": {},
   "source": [
    "#### Vemos que los mayores errores están en la clase 5. Se confunde los 5s con los 8s y los 3s. (predice 8 ó 3, cuando la clase es 5)"
   ]
  },
  {
   "cell_type": "markdown",
   "id": "a511160c-4b8b-4534-bfe9-87bb41efd8d1",
   "metadata": {},
   "source": [
    "## Multilabel Classification\n",
    "Hay objetos que pertenecen a más de una clase. En el ejemplo de los números, si hubiera alguna imagen con el número 53, el clasificador multilabel debería devolver \"5 y 3\". (\"ambas clases presentes en la imagen\")"
   ]
  },
  {
   "cell_type": "code",
   "execution_count": 61,
   "id": "d407ed4d-5867-4d29-a446-db51df2857f2",
   "metadata": {},
   "outputs": [
    {
     "data": {
      "text/plain": [
       "KNeighborsClassifier()"
      ]
     },
     "execution_count": 61,
     "metadata": {},
     "output_type": "execute_result"
    }
   ],
   "source": [
    "# Armo un KNN porque soporta la multilabel classification (no todos la soportan)\n",
    "from sklearn.neighbors import KNeighborsClassifier\n",
    "\n",
    "y_train_large = (y_train >= 7)\n",
    "y_train_odd = (y_train % 2 == 1)\n",
    "y_multilabel = np.c_[y_train_large, y_train_odd]  # recordar que c_ es una concatenación de arrays\n",
    "# mi target va a tener shape n x m (n = observations, m = labels)\n",
    "\n",
    "knn_clf = KNeighborsClassifier()\n",
    "knn_clf.fit(X_train, y_multilabel)\n"
   ]
  },
  {
   "cell_type": "code",
   "execution_count": 62,
   "id": "d52fd4a0-a889-4e37-bea9-4db4425ce61c",
   "metadata": {},
   "outputs": [
    {
     "data": {
      "text/plain": [
       "array([[False,  True]])"
      ]
     },
     "execution_count": 62,
     "metadata": {},
     "output_type": "execute_result"
    }
   ],
   "source": [
    "multi_label_pred = knn_clf.predict([test_digit])\n",
    "multi_label_pred"
   ]
  },
  {
   "cell_type": "markdown",
   "id": "421cec35-93ff-41aa-bed2-7a34f42610b1",
   "metadata": {},
   "source": [
    "Acá me está prediciendo: False para el primer label (o sea que es menor a 7), True para el segundo label (o sea que es impar)<br>\n",
    "Lo importante es entender el razonamiento: NO ESTÁ PREDICIENDO \"5\", y clasificando a partir de eso. Está prediciendo cada clase independientemente"
   ]
  },
  {
   "cell_type": "markdown",
   "id": "2c6bb31d-52cf-418b-9461-b102f5140ce5",
   "metadata": {},
   "source": [
    "Se puede evaluar por label, todo junto, o _weighted_ "
   ]
  },
  {
   "cell_type": "markdown",
   "id": "6b00aeef-71b1-4fc6-ae3f-9c2fda787713",
   "metadata": {},
   "source": [
    "## Multioutput Classification"
   ]
  },
  {
   "cell_type": "markdown",
   "id": "3d1ba333-af1c-461d-afd1-aba4ed1a28ba",
   "metadata": {},
   "source": [
    "Ver página 110 del libro!"
   ]
  }
 ],
 "metadata": {
  "kernelspec": {
   "display_name": "ho_ml_kernel",
   "language": "python",
   "name": "ho_ml_kernel"
  },
  "language_info": {
   "codemirror_mode": {
    "name": "ipython",
    "version": 3
   },
   "file_extension": ".py",
   "mimetype": "text/x-python",
   "name": "python",
   "nbconvert_exporter": "python",
   "pygments_lexer": "ipython3",
   "version": "3.8.5"
  }
 },
 "nbformat": 4,
 "nbformat_minor": 5
}
